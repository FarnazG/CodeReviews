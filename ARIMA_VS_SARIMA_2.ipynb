{
 "cells": [
  {
   "cell_type": "code",
   "execution_count": 95,
   "metadata": {},
   "outputs": [
    {
     "name": "stdout",
     "output_type": "stream",
     "text": [
      "                           Statespace Model Results                           \n",
      "==============================================================================\n",
      "Dep. Variable:                  value   No. Observations:                  215\n",
      "Model:               SARIMAX(1, 0, 1)   Log Likelihood               -1841.140\n",
      "Date:                Fri, 17 Apr 2020   AIC                           3688.279\n",
      "Time:                        06:33:09   BIC                           3698.391\n",
      "Sample:                    06-01-1996   HQIC                          3692.365\n",
      "                         - 04-01-2014                                         \n",
      "Covariance Type:                  opg                                         \n",
      "==============================================================================\n",
      "                 coef    std err          z      P>|z|      [0.025      0.975]\n",
      "------------------------------------------------------------------------------\n",
      "ar.L1          0.1311      0.053      2.475      0.013       0.027       0.235\n",
      "ma.L1          0.6644      0.048     13.752      0.000       0.570       0.759\n",
      "sigma2        1.6e+06    8.4e+04     19.037      0.000    1.44e+06    1.76e+06\n",
      "===================================================================================\n",
      "Ljung-Box (Q):                      134.39   Jarque-Bera (JB):               375.94\n",
      "Prob(Q):                              0.00   Prob(JB):                         0.00\n",
      "Heteroskedasticity (H):              63.24   Skew:                             0.58\n",
      "Prob(H) (two-sided):                  0.00   Kurtosis:                         9.37\n",
      "===================================================================================\n",
      "\n",
      "Warnings:\n",
      "[1] Covariance matrix calculated using the outer product of gradients (complex-step).\n"
     ]
    }
   ],
   "source": [
    "# Fit the model\n",
    "mod = sm.tsa.statespace.SARIMAX(city_df_diff.loc[:'2014-04-01'], order=(1,0,1))\n",
    "res = mod.fit(disp=False)\n",
    "print(res.summary())"
   ]
  },
  {
   "cell_type": "code",
   "execution_count": 97,
   "metadata": {},
   "outputs": [],
   "source": [
    "#one step\n",
    "predict = res.get_prediction()\n",
    "predict_ci = predict.conf_int()\n",
    "#dynamic\n",
    "predict_dy = res.get_prediction(dynamic='2014-04-01')\n",
    "predict_dy_ci = predict_dy.conf_int()"
   ]
  },
  {
   "cell_type": "code",
   "execution_count": 89,
   "metadata": {},
   "outputs": [
    {
     "name": "stdout",
     "output_type": "stream",
     "text": [
      "<statsmodels.tsa.statespace.mlemodel.PredictionResultsWrapper object at 0x0000007F96DE63C8>\n"
     ]
    },
    {
     "name": "stderr",
     "output_type": "stream",
     "text": [
      "C:\\Users\\farnaz\\Anaconda3\\lib\\site-packages\\statsmodels\\tsa\\statespace\\sarimax.py:1935: ValueWarning: Exogenous array provided to predict, but additional data not required. `exog` argument ignored.\n",
      "  ' required. `exog` argument ignored.', ValueWarning)\n"
     ]
    }
   ],
   "source": [
    "model = sm.tsa.statespace.SARIMAX(train,order=(0, 2, 1),seasonal_order=(0, 1, 1, 12),\n",
    "                                  enforce_stationarity=False,enforce_invertibility=False)\n",
    "result = model.fit()\n",
    "pred = result.get_prediction('2014-04-01','2018-04-01', dynamic=False, exog=test) \n",
    "#SARIMAXResults.get_prediction(start=None, end=None, dynamic=False, index=None, exog=None,\n",
    "#extend_model=None, extend_kwargs=None, **kwargs)    \n",
    "#plt.plot(city_df_diff)\n",
    "#plt.plot(pred)\n",
    "#plt.show()\n",
    "print(pred)"
   ]
  },
  {
   "cell_type": "code",
   "execution_count": 76,
   "metadata": {},
   "outputs": [
    {
     "name": "stdout",
     "output_type": "stream",
     "text": [
      "<statsmodels.tsa.statespace.mlemodel.PredictionResultsWrapper object at 0x0000007F856AD888>\n"
     ]
    }
   ],
   "source": [
    "model = sm.tsa.statespace.SARIMAX(train,order=(0, 2, 1),seasonal_order=(0, 1, 1, 12),\n",
    "                                  enforce_stationarity=False,enforce_invertibility=False)\n",
    "result = model.fit()\n",
    "pred = result.get_prediction(len(test),dynamic=False)"
   ]
  }
 ],
 "metadata": {
  "kernelspec": {
   "display_name": "Python 3",
   "language": "python",
   "name": "python3"
  },
  "language_info": {
   "codemirror_mode": {
    "name": "ipython",
    "version": 3
   },
   "file_extension": ".py",
   "mimetype": "text/x-python",
   "name": "python",
   "nbconvert_exporter": "python",
   "pygments_lexer": "ipython3",
   "version": "3.7.6"
  }
 },
 "nbformat": 4,
 "nbformat_minor": 2
}
