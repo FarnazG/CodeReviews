{
 "cells": [
  {
   "cell_type": "markdown",
   "metadata": {},
   "source": [
    "# Import Libraries"
   ]
  },
  {
   "cell_type": "code",
   "execution_count": 167,
   "metadata": {},
   "outputs": [],
   "source": [
    "import pandas as pd\n",
    "import numpy as np\n",
    "import json\n",
    "import matplotlib.pyplot as plt\n",
    "%matplotlib inline\n",
    "\n",
    "\n",
    "#import bs4 as bs or:\n",
    "from bs4 import BeautifulSoup\n",
    "#BeautifulSoup is a Python library for pulling data out of HTML and XML files\n",
    "\n",
    "import re\n",
    "import requests\n",
    "import urllib.request as url\n",
    "#rllib.request is a Python module for fetching URLs (Uniform Resource Locators).It offers a simple\n",
    "#interface, in the form of the urlopen function.\n",
    "\n",
    "from time import sleep\n",
    "#Need to use a delay between page scrapes in order to limit getting blocked by Yelp"
   ]
  },
  {
   "cell_type": "markdown",
   "metadata": {},
   "source": [
    "# Step One: "
   ]
  },
  {
   "cell_type": "code",
   "execution_count": 168,
   "metadata": {},
   "outputs": [],
   "source": [
    "# Make a get request to retrieve the page\n",
    "html_page = requests.get('https://www.yelp.com/search?find_desc=Clothing%20Boutiques&find_loc=San%20Francisco%2C%20CA&ns=1&cflt=womenscloth')\n",
    "\n",
    "# Pass the page contents to beautiful soup for parsing\n",
    "soup = BeautifulSoup(html_page.content, 'html.parser')"
   ]
  },
  {
   "cell_type": "code",
   "execution_count": 169,
   "metadata": {},
   "outputs": [],
   "source": [
    "#to iterate over all pages and stores:\n",
    "for i in range(1,416):\n",
    "    #find a URL pattern for different pages ,total num_stores = 416\n",
    "    url=\"https://www.yelp.com/search?find_desc=Clothing%20Boutiques&find_loc=San%20Francisco%2C%20CA&ns=1&cflt=womenscloth&start={}\".format((i//40)*40)\n",
    "    search_page=url\n",
    "    #print(search_page)"
   ]
  },
  {
   "cell_type": "markdown",
   "metadata": {},
   "source": [
    "### Set main and secondary attributes and class names to each of required features:"
   ]
  },
  {
   "cell_type": "code",
   "execution_count": 170,
   "metadata": {},
   "outputs": [],
   "source": [
    "main_attributes_class=\"lemon--div__373c0__1mboc mainAttributes__373c0__1r0QA arrange-unit__373c0__o3tjT arrange-unit-fill__373c0__3Sfw1 border-color--default__373c0__3-ifU\"\n",
    "#including:\n",
    "business_name_class=\"lemon--div__373c0__1mboc businessName__373c0__1fTgn display--inline-block__373c0__1ZKqC border-color--default__373c0__3-ifU\"\n",
    "rating_class=\"lemon--span__373c0__3997G display--inline__373c0__3JqBP border-color--default__373c0__3-ifU\"\n",
    "price_range_class=\"lemon--span__373c0__3997G text__373c0__2Kxyz priceRange__373c0__2DY87 text-color--black-extra-light__373c0__2OyzO text-align--left__373c0__2XGa- text-bullet--after__373c0__3fS1Z\"\n",
    "review_count_class=\"lemon--span__373c0__3997G text__373c0__2Kxyz reviewCount__373c0__2r4xT text-color--black-extra-light__373c0__2OyzO text-align--left__373c0__2XGa-\"\n",
    "\n",
    "secondary_attributes_class=\"lemon--div__373c0__1mboc secondaryAttributes__373c0__7bA0w arrange-unit__373c0__o3tjT border-color--default__373c0__3-ifU\"\n",
    "#inclufing:\n",
    "business_phonenumber_class=\"lemon--div__373c0__1mboc display--inline-block__373c0__1ZKqC border-color--default__373c0__3-ifU\"\n",
    "business_address_class=\"lemon--span__373c0__3997G raw__373c0__3rcx7\"\n",
    "# business_district_class=\"lemon--p__373c0__3Qnnj text__373c0__2Kxyz text-color--black-extra-light__373c0__2OyzO text-align--right__373c0__1f0KI text-size--small__373c0__3NVWO\""
   ]
  },
  {
   "cell_type": "code",
   "execution_count": 171,
   "metadata": {},
   "outputs": [],
   "source": [
    "#find all the div classes/main_attributes which refers to all the stores listed on the search result page and set them to mains\n",
    "mains=soup.find_all(\"div\",{\"class\":main_attributes_class})\n",
    "\n",
    "#find all the div classes/secondary_attributes which refers to all the stores listed on the search result page and set them to mains and secondary_attributes \n",
    "secondaries=soup.find_all(\"div\",{\"class\":secondary_attributes_class})"
   ]
  },
  {
   "cell_type": "code",
   "execution_count": 172,
   "metadata": {},
   "outputs": [],
   "source": [
    "boutique_name=[]\n",
    "ratings=[]\n",
    "number_reviews=[]\n",
    "price_range=[]\n",
    "boutique_url_address=[]\n",
    "\n",
    "for main in mains:\n",
    "    try:\n",
    "        boutique_name.append(main.find(\"a\").text)\n",
    "    except:\n",
    "        boutique_name.append(None)\n",
    "    try:\n",
    "        ratings.append(main.find(\"span\",{\"class\":rating_class}).div.get(\"aria-label\"))\n",
    "    except:\n",
    "        ratings.append(None)\n",
    "    try:\n",
    "        number_reviews.append(main.find(\"span\",{\"class\":review_count_class}).text)\n",
    "    except:\n",
    "        number_reviews.append(None)\n",
    "    try:\n",
    "        price_range.append(main.find(\"span\",{\"class\":price_range_class}).get_text())\n",
    "    except:\n",
    "        price_range.append(None)\n",
    "    try:\n",
    "        base_url=\"https://www.yelp.com\"\n",
    "        business_name_url=main.find('a').attrs['href']\n",
    "        boutique_url_address.append(base_url+business_name_url)\n",
    "    except:\n",
    "        boutique_url_address.append(None)"
   ]
  },
  {
   "cell_type": "code",
   "execution_count": 173,
   "metadata": {},
   "outputs": [],
   "source": [
    "phone_number=[]\n",
    "address=[]\n",
    "\n",
    "for secondary in secondaries:\n",
    "    try:\n",
    "        phone_number.append(secondary.find(\"p\").text)\n",
    "    except:\n",
    "        phone_number.append(None)\n",
    "    try:\n",
    "        address.append(secondary.find(\"span\",{\"class\":business_address_class}).get_text())\n",
    "    except:\n",
    "        address.append(None) "
   ]
  },
  {
   "cell_type": "code",
   "execution_count": 174,
   "metadata": {
    "scrolled": true
   },
   "outputs": [
    {
     "data": {
      "text/html": [
       "<div>\n",
       "<style scoped>\n",
       "    .dataframe tbody tr th:only-of-type {\n",
       "        vertical-align: middle;\n",
       "    }\n",
       "\n",
       "    .dataframe tbody tr th {\n",
       "        vertical-align: top;\n",
       "    }\n",
       "\n",
       "    .dataframe thead th {\n",
       "        text-align: right;\n",
       "    }\n",
       "</style>\n",
       "<table border=\"1\" class=\"dataframe\">\n",
       "  <thead>\n",
       "    <tr style=\"text-align: right;\">\n",
       "      <th></th>\n",
       "      <th>boutique_name</th>\n",
       "      <th>ratings</th>\n",
       "      <th>number_reviews</th>\n",
       "      <th>price_range</th>\n",
       "      <th>phone_number</th>\n",
       "      <th>address</th>\n",
       "      <th>boutique_url_address</th>\n",
       "    </tr>\n",
       "  </thead>\n",
       "  <tbody>\n",
       "  </tbody>\n",
       "</table>\n",
       "</div>"
      ],
      "text/plain": [
       "Empty DataFrame\n",
       "Columns: [boutique_name, ratings, number_reviews, price_range, phone_number, address, boutique_url_address]\n",
       "Index: []"
      ]
     },
     "execution_count": 174,
     "metadata": {},
     "output_type": "execute_result"
    }
   ],
   "source": [
    "data={\"boutique_name\":boutique_name,\"ratings\":ratings,\"number_reviews\":number_reviews,\n",
    "      \"price_range\":price_range,\"phone_number\":phone_number,\"address\":address,\"boutique_url_address\":boutique_url_address}\n",
    "boutiques_info=pd.DataFrame(data)\n",
    "coulmns=[\"boutique_name\",\"ratings\",\"number_reviews\",\"price_range\",\"phone_number\",\"address\",\"boutique_url_address\"]\n",
    "boutiques_info.head()\n",
    "#boutiques_info.to_csv(\"boutiques_info\",columns=columns)"
   ]
  },
  {
   "cell_type": "markdown",
   "metadata": {},
   "source": [
    "# step 2:\n",
    "Define a function to return list of reviews for a business across all of the review pages. For each page, it will call the  review scraper (see below) to gather all review data for the page:"
   ]
  },
  {
   "cell_type": "code",
   "execution_count": 175,
   "metadata": {},
   "outputs": [],
   "source": [
    "#retrieve reviews for each boutique:\n",
    "#each page has 20 reviews\n",
    "def retrieve_reviews(boutique_name, boutique_url_address, number_reviews):\n",
    "    \n",
    "    url = boutique_url_address\n",
    "    total_reviews=[]\n",
    "        \n",
    "    for i in range(0, int(number_reviews)//20 + 1):\n",
    "        url_page = url + \"&start={}\".format(i*20)\n",
    "        html_page = requests.get(url_page)\n",
    "        soup = BeautifulSoup(html_page.content, 'html.parser')\n",
    "        reviews = soup.find_all(\"span\",{\"class\":\"lemon--span__373c0__3997G raw__373c0__3rKqk\"})\n",
    "        \n",
    "        for review in reviews:\n",
    "            total_reviews.append(review.text)\n",
    "        \n",
    "    return total_reviews"
   ]
  },
  {
   "cell_type": "code",
   "execution_count": 176,
   "metadata": {},
   "outputs": [
    {
     "name": "stdout",
     "output_type": "stream",
     "text": [
      "0\n"
     ]
    }
   ],
   "source": [
    "#check the results for one store:\n",
    "boutique_name = 'Kisha Studio Fashion Boutique'\n",
    "boutique_url_address = 'https://www.yelp.com/biz/kisha-studio-fashion-boutique-san-francisco-2?osq=Clothing+Boutiques'\n",
    "number_reviews = 119\n",
    "myreviews = retrieve_reviews(boutique_name, boutique_url_address, number_reviews)\n",
    "\n",
    "for review in myreviews:\n",
    "    print(review,\"\\n\")\n",
    "\n",
    "print(len(myreviews))"
   ]
  },
  {
   "cell_type": "markdown",
   "metadata": {},
   "source": [
    "# step 3:\n",
    "\n",
    "Writing a functions that will extract a list of each of required features for **each web page**."
   ]
  },
  {
   "cell_type": "code",
   "execution_count": 177,
   "metadata": {},
   "outputs": [],
   "source": [
    "def retrieve_boutique_names(soup):\n",
    "    mains=soup.find_all(\"div\",{\"class\":main_attributes_class})\n",
    "    boutique_name=[]\n",
    "    for main in mains:\n",
    "        try:\n",
    "            boutique_name.append(main.find(\"a\").text)\n",
    "        except:\n",
    "            boutique_name.append(None)\n",
    "    return boutique_name"
   ]
  },
  {
   "cell_type": "code",
   "execution_count": 178,
   "metadata": {},
   "outputs": [],
   "source": [
    "def retrieve_ratings(soup):\n",
    "    mains=soup.find_all(\"div\",{\"class\":main_attributes_class})\n",
    "    ratings=[]\n",
    "    for main in mains:\n",
    "        try:\n",
    "            ratings.append(main.find(\"span\",{\"class\":rating_class}).div.get(\"aria-label\"))\n",
    "        except:\n",
    "            ratings.append(None)\n",
    "    return ratings"
   ]
  },
  {
   "cell_type": "code",
   "execution_count": 179,
   "metadata": {},
   "outputs": [],
   "source": [
    "def retrieve_number_reviews(soup):\n",
    "    mains=soup.find_all(\"div\",{\"class\":main_attributes_class})\n",
    "    number_reviews=[]\n",
    "    for main in mains:\n",
    "        try:\n",
    "            number_reviews.append(main.find(\"span\",{\"class\":review_count_class}).text)\n",
    "        except:\n",
    "            number_reviews.append(None)\n",
    "    return number_reviews"
   ]
  },
  {
   "cell_type": "code",
   "execution_count": 180,
   "metadata": {},
   "outputs": [],
   "source": [
    "def retrieve_price_range(soup):\n",
    "    mains=soup.find_all(\"div\",{\"class\":main_attributes_class})\n",
    "    price_range=[]\n",
    "    for main in mains:\n",
    "        try:\n",
    "            price_range.append(main.find(\"span\",{\"class\":price_range_class}).get_text())\n",
    "        except:\n",
    "            price_range.append(None)\n",
    "    return price_range"
   ]
  },
  {
   "cell_type": "code",
   "execution_count": 181,
   "metadata": {},
   "outputs": [],
   "source": [
    "def retrieve_url_address(soup):\n",
    "    mains=soup.find_all(\"div\",{\"class\":main_attributes_class})\n",
    "    url_address=[]\n",
    "    for main in mains:\n",
    "        try:\n",
    "            base_url=\"https://www.yelp.com\"\n",
    "            business_name_url=main.find('a').attrs['href']\n",
    "            url_address.append(base_url+business_name_url)\n",
    "        except:\n",
    "            url_address.append(None) \n",
    "    return url_address"
   ]
  },
  {
   "cell_type": "code",
   "execution_count": 182,
   "metadata": {},
   "outputs": [],
   "source": [
    "def retrieve_phone_number(soup):\n",
    "    secondaries=soup.find_all(\"div\",{\"class\":secondary_attributes_class})\n",
    "    phone_number=[]\n",
    "    for secondary in secondaries:\n",
    "        try:\n",
    "            phone_number.append(secondary.find(\"p\").text)\n",
    "        except:\n",
    "            phone_number.append(None)            \n",
    "    return phone_number"
   ]
  },
  {
   "cell_type": "code",
   "execution_count": 183,
   "metadata": {},
   "outputs": [],
   "source": [
    "def retrieve_address(soup):\n",
    "    secondaries=soup.find_all(\"div\",{\"class\":secondary_attributes_class})\n",
    "    address=[]\n",
    "    for secondary in secondaries:\n",
    "        try:\n",
    "            address.append(secondary.find(\"span\",{\"class\":business_address_class}).get_text())\n",
    "        except:\n",
    "            address.append(None)             \n",
    "    return address"
   ]
  },
  {
   "cell_type": "code",
   "execution_count": 184,
   "metadata": {},
   "outputs": [],
   "source": [
    "# def retrieve_reviews(soup):\n",
    "#     reviews=soup.find_all(\"p\",{\"class\":\"lemon--p__373c0__3Qnnj text__373c0__2Kxyz text-color--black-extra-light__373c0__2OyzO text-align--left__373c0__2XGa-\"})\n",
    "#     total_reviews=[]\n",
    "#     for review in reviews:\n",
    "#         total_reviews.append(review.text)\n",
    "#     return total_reviews"
   ]
  },
  {
   "cell_type": "markdown",
   "metadata": {},
   "source": [
    "# Step 4:\n",
    "\n",
    "Define a function to combine all the business information from all search pages for womens clothing boutiques in san francisco"
   ]
  },
  {
   "cell_type": "code",
   "execution_count": 192,
   "metadata": {},
   "outputs": [],
   "source": [
    "def retrieve_business_info(num_stores):\n",
    "    boutique_names=[]\n",
    "    ratings=[]\n",
    "    number_reviews=[]\n",
    "    price_range=[]\n",
    "    url_address=[]\n",
    "    phone_number=[]\n",
    "    address=[]\n",
    "\n",
    "    #total num_stores in all pages = 416\n",
    "    #num_stores = 60\n",
    "    for i in range(0, num_stores, 40):\n",
    "        print(i)\n",
    "        #print(\"search_pages:\",i)\n",
    "        #find a url pattern for all search pages\n",
    "        url=\"https://www.yelp.com/search?find_desc=Clothing%20Boutiques&find_loc=San%20Francisco%2C%20CA&ns=1&cflt=womenscloth&start={}\".format(i)\n",
    "        #Make a get request to retrieve each page\n",
    "        html_page = requests.get(url)\n",
    "        #Pass the page contents to beautiful soup for parsing\n",
    "        soup = BeautifulSoup(html_page.content, 'html.parser')\n",
    "        boutique_names += retrieve_boutique_names(soup)\n",
    "        #print('1: ', len(boutique_names))\n",
    "        ratings += retrieve_ratings(soup)\n",
    "        #print('2: ', len(ratings))\n",
    "        price_range += retrieve_price_range(soup)\n",
    "        #print('3: ', len(price_range))\n",
    "        url_address += retrieve_url_address(soup)\n",
    "        #print('4: ', len(url_address))\n",
    "        phone_number += retrieve_phone_number(soup)\n",
    "        #print('5: ', len(phone_number))\n",
    "        address += retrieve_address(soup)\n",
    "        #print('6: ', len(address))\n",
    "        number_reviews += retrieve_number_reviews(soup)\n",
    "        #print('7: ', len(number_reviews))        \n",
    "                \n",
    "        #Random delay between 1 and 4 seconds to prevent getting blocked\n",
    "        sleep(np.random.randint(1,3))\n",
    "    \n",
    "    data={\"boutique_names\":boutique_names,\"ratings\":ratings,\"number_reviews\":number_reviews,\n",
    "      \"price_range\":price_range,\"phone_number\":phone_number,\"address\":address,\"url_address\":url_address}\n",
    "    df=pd.DataFrame(data)\n",
    "\n",
    "    #df=pd.DataFrame([boutique_names,ratings,price_range,phone_number,address,url_address])#.transpose()\n",
    "    #df.columns=[\"boutique_name\",\"ratings\",\"price_range\",\"phone_number\",\"address\",\"url_address\"]\n",
    "\n",
    "    return df\n",
    "\n",
    "# print(len(df))\n",
    "# df.head()"
   ]
  },
  {
   "cell_type": "markdown",
   "metadata": {},
   "source": [
    "# Step 5:\n",
    "Saving the dataframe into a CSV file:"
   ]
  },
  {
   "cell_type": "code",
   "execution_count": 193,
   "metadata": {},
   "outputs": [
    {
     "name": "stdout",
     "output_type": "stream",
     "text": [
      "0\n",
      "40\n",
      "80\n",
      "120\n",
      "160\n",
      "200\n",
      "240\n",
      "280\n",
      "320\n",
      "360\n",
      "400\n"
     ]
    }
   ],
   "source": [
    "#save the dataframe as a csv file:\n",
    "business_info_df = retrieve_business_info(num_stores=416)\n",
    "business_info_df.to_csv(\"sf_wclothing_boutiques.csv\")"
   ]
  },
  {
   "cell_type": "markdown",
   "metadata": {},
   "source": [
    "# Step 6:\n",
    "Define a function to loop through all the boutiques in business_info_df and get all the reviews for each:"
   ]
  },
  {
   "cell_type": "code",
   "execution_count": 197,
   "metadata": {},
   "outputs": [],
   "source": [
    "def boutique_reviews(num_business): \n",
    "\n",
    "    #set container\n",
    "    last_index_completed = 1\n",
    "    boutique_reviews = []\n",
    "    total_data = []\n",
    "\n",
    "    for last_index_completed in range(1, num_business):\n",
    "        biz = business_info_df.iloc[last_index_completed]\n",
    "\n",
    "        #Random delay between 1 and 5 seconds to try to prevent getting blocked\n",
    "        sleep(np.random.randint(2,5))\n",
    "        try:\n",
    "            print(last_index_completed,\":\", int(biz['number_reviews']),\"reviews\\t\", biz['boutique_names'], biz['url_address'], end='')\n",
    "            #Get all reviews for the business and add to list.\n",
    "            boutique_reviews = retrieve_reviews(biz['boutique_names'],biz['url_address'],biz['number_reviews'])\n",
    "            print(\" completed\")\n",
    "        except:\n",
    "            print(last_index_completed,\":\",\"missing_info\")\n",
    "        \n",
    "        data={\"boutique_names\":biz['boutique_names'],\"number_reviews\":biz['number_reviews'],\n",
    "              \"url_address\":biz['url_address'],\"reviews\":boutique_reviews}\n",
    "        total_data.append(data)\n",
    "    \n",
    "    df=pd.DataFrame(total_data)        \n",
    "    #df = pd.DataFrame(boutique_reviews)\n",
    "    return df "
   ]
  },
  {
   "cell_type": "code",
   "execution_count": 199,
   "metadata": {},
   "outputs": [
    {
     "name": "stdout",
     "output_type": "stream",
     "text": [
      "1 : 119 reviews\t Kisha Studio Fashion Boutique https://www.yelp.com/biz/kisha-studio-fashion-boutique-san-francisco-2?osq=Clothing+Boutiques completed\n",
      "2 : 29 reviews\t Isalis https://www.yelp.com/biz/isalis-san-francisco?osq=Clothing+Boutiques completed\n",
      "3 : 17 reviews\t Onyx https://www.yelp.com/biz/onyx-san-francisco-3?osq=Clothing+Boutiques completed\n",
      "4 : 26 reviews\t Asmbly Hall https://www.yelp.com/biz/asmbly-hall-san-francisco?osq=Clothing+Boutiques completed\n",
      "5 : 24 reviews\t Two Birds https://www.yelp.com/biz/two-birds-san-francisco-2?osq=Clothing+Boutiques completed\n",
      "6 : 400 reviews\t Therapy Stores https://www.yelp.com/biz/therapy-stores-san-francisco?osq=Clothing+Boutiques completed\n",
      "7 : 29 reviews\t Wild Feather https://www.yelp.com/biz/wild-feather-san-francisco?osq=Clothing+Boutiques completed\n",
      "8 : 32 reviews\t Gravel & Gold https://www.yelp.com/biz/gravel-and-gold-san-francisco?osq=Clothing+Boutiques completed\n",
      "9 : 23 reviews\t Current Clothing https://www.yelp.com/biz/current-clothing-san-francisco?osq=Clothing+Boutiques completed\n",
      "10 : 14 reviews\t Modern Citizen https://www.yelp.com/biz/modern-citizen-san-francisco?osq=Clothing+Boutiques completed\n",
      "11 : 15 reviews\t ANOMIE https://www.yelp.com/biz/anomie-san-francisco?osq=Clothing+Boutiques completed\n",
      "12 : 15 reviews\t Siren Boutique https://www.yelp.com/biz/siren-boutique-san-francisco-3?osq=Clothing+Boutiques completed\n",
      "13 : 26 reviews\t Chococo https://www.yelp.com/biz/chococo-san-francisco-6?osq=Clothing+Boutiques completed\n",
      "14 : 54 reviews\t Cary Lane https://www.yelp.com/biz/cary-lane-san-francisco-4?osq=Clothing+Boutiques completed\n",
      "15 : 9 reviews\t Baseballism https://www.yelp.com/biz/baseballism-san-francisco-3?osq=Clothing+Boutiques completed\n",
      "16 : 14 reviews\t Pavilion https://www.yelp.com/biz/pavilion-san-francisco?osq=Clothing+Boutiques completed\n",
      "17 : 12 reviews\t Siren Boutique https://www.yelp.com/biz/siren-boutique-san-francisco-4?osq=Clothing+Boutiques completed\n",
      "18 : 15 reviews\t Tonlé https://www.yelp.com/biz/tonl%C3%A9-san-francisco-4?osq=Clothing+Boutiques completed\n",
      "19 : 17 reviews\t Cary Lane https://www.yelp.com/biz/cary-lane-san-francisco-6?osq=Clothing+Boutiques completed\n",
      "20 : 26 reviews\t Establish https://www.yelp.com/biz/establish-san-francisco?osq=Clothing+Boutiques completed\n",
      "21 : 40 reviews\t Ideele https://www.yelp.com/biz/ideele-san-francisco?osq=Clothing+Boutiques completed\n",
      "22 : 15 reviews\t Curator https://www.yelp.com/biz/curator-san-francisco?osq=Clothing+Boutiques completed\n",
      "23 : 92 reviews\t Ambiance https://www.yelp.com/biz/ambiance-san-francisco-6?osq=Clothing+Boutiques completed\n",
      "24 : 19 reviews\t Le Point https://www.yelp.com/biz/le-point-san-francisco?osq=Clothing+Boutiques completed\n",
      "25 : 5 reviews\t Lexington Standard https://www.yelp.com/biz/lexington-standard-san-francisco?osq=Clothing+Boutiques completed\n",
      "26 : 277 reviews\t Ambiance https://www.yelp.com/biz/ambiance-san-francisco-4?osq=Clothing+Boutiques completed\n",
      "27 : 34 reviews\t High Society https://www.yelp.com/biz/high-society-san-francisco?osq=Clothing+Boutiques completed\n",
      "28 : 21 reviews\t California Cowboy https://www.yelp.com/biz/california-cowboy-san-francisco-2?osq=Clothing+Boutiques completed\n",
      "29 : 9 reviews\t Sweet & Spark https://www.yelp.com/biz/sweet-and-spark-san-francisco-3?osq=Clothing+Boutiques completed\n",
      "30 : 8 reviews\t Maison Margiela https://www.yelp.com/biz/maison-margiela-san-francisco-2?osq=Clothing+Boutiques completed\n",
      "31 : 6 reviews\t Hero Shop https://www.yelp.com/biz/hero-shop-san-francisco?osq=Clothing+Boutiques completed\n",
      "32 : 31 reviews\t The Voyager Shop https://www.yelp.com/biz/the-voyager-shop-san-francisco?osq=Clothing+Boutiques completed\n",
      "33 : 22 reviews\t Scotch & Soda https://www.yelp.com/biz/scotch-and-soda-san-francisco-2?osq=Clothing+Boutiques completed\n",
      "34 : 34 reviews\t UKO https://www.yelp.com/biz/uko-san-francisco?osq=Clothing+Boutiques completed\n",
      "35 : 39 reviews\t Clobba https://www.yelp.com/biz/clobba-san-francisco?osq=Clothing+Boutiques completed\n",
      "36 : 1 reviews\t Ruru Boutique https://www.yelp.com/biz/ruru-boutique-san-francisco?osq=Clothing+Boutiques completed\n",
      "37 : 19 reviews\t The Golden Hour https://www.yelp.com/biz/the-golden-hour-san-francisco-2?osq=Clothing+Boutiques completed\n",
      "38 : 45 reviews\t San Franpsycho https://www.yelp.com/biz/san-franpsycho-san-francisco-3?osq=Clothing+Boutiques completed\n",
      "39 : 6 reviews\t Covet https://www.yelp.com/biz/covet-san-francisco-3?osq=Clothing+Boutiques completed\n",
      "40 : 79 reviews\t Ceiba SF https://www.yelp.com/biz/ceiba-sf-san-francisco?osq=Clothing+Boutiques completed\n",
      "41 : 1 reviews\t Intentionally Blank https://www.yelp.com/adredir?ad_business_id=43vmshloeCqt3Sc9ySXP8g&campaign_id=Fqp0bHjvWT9HZL2rVyDBVQ&click_origin=search_results&placement=above_search&redirect_url=https%3A%2F%2Fwww.yelp.com%2Fbiz%2Fintentionally-blank-san-francisco&request_id=46865d9d1cfe49bd&signature=11ab7876ce591f03db1e5f731b02c5d6e04889f8f6a2284cb43c57f12a413b71&slot=0 completed\n",
      "42 : 10 reviews\t acoté https://www.yelp.com/biz/acot%C3%A9-san-francisco?osq=Clothing+Boutiques completed\n",
      "43 : 111 reviews\t AB Fits https://www.yelp.com/biz/ab-fits-san-francisco-4?osq=Clothing+Boutiques completed\n",
      "44 : 58 reviews\t ALAYA Boutique https://www.yelp.com/biz/alaya-boutique-san-francisco?osq=Clothing+Boutiques completed\n"
     ]
    }
   ],
   "source": [
    "boutique_reviews_df = boutique_reviews(num_business=45)\n",
    "boutique_reviews_df.to_csv(\"sf_wclothing_boutiques_reviews.csv\")\n",
    "#len(boutique_reviews_df)"
   ]
  },
  {
   "cell_type": "code",
   "execution_count": 220,
   "metadata": {},
   "outputs": [],
   "source": [
    "# for main in mains:\n",
    "#     try:\n",
    "#         storename=main.find(\"a\").text\n",
    "#         print(\"Boutique_name:\"+storename)\n",
    "#     except:\n",
    "#         print(None)\n",
    "#     try:\n",
    "#         ratings=main.find(\"span\",{\"class\":rating_class}).div.get(\"aria-label\")\n",
    "#         print(\"Boutique_rating:\"+ratings)\n",
    "#     except:\n",
    "#         print(None)\n",
    "#     try:\n",
    "#         noreviews=main.find(\"span\",{\"class\":review_count_class}).text\n",
    "#         print(\"Boutique_reviews:\"+noreviews)\n",
    "#     except:\n",
    "#         print(None)\n",
    "#     try:\n",
    "#         price= main.find(\"span\",{\"class\":price_range_class}).get_text()\n",
    "#         print(\"Boutique_pricerange:\"+price)\n",
    "#     except:\n",
    "#         print(None)\n",
    "#     try:\n",
    "#         base_url=\"https://www.yelp.com\"\n",
    "#         business_name_url=main.find('a').attrs['href']\n",
    "#         print(\"Boutique_Website:\"+base_url+business_name_url)\n",
    "#     except:\n",
    "#         print(None)"
   ]
  },
  {
   "cell_type": "code",
   "execution_count": 191,
   "metadata": {},
   "outputs": [],
   "source": [
    "# for secondary in secondaries:\n",
    "#     try:\n",
    "#         phone_num=secondary.find(\"p\").text\n",
    "#         print(\"Boutique_phonenumber:\"+phone_num)\n",
    "#     except:\n",
    "#         print(None)\n",
    "#     try:\n",
    "#         address=secondary.find(\"span\",{\"class\":business_address_class}).get_text()\n",
    "#         print(\"Boutique_address:\"+address)\n",
    "#     except:\n",
    "#         print(None) \n",
    "# #how to retrieve district?"
   ]
  },
  {
   "cell_type": "code",
   "execution_count": 219,
   "metadata": {},
   "outputs": [],
   "source": [
    "# for main in mains:   \n",
    "#     try:\n",
    "#         base_url=\"https://www.yelp.com\"\n",
    "#         business_name_url=main.find('a').attrs['href']\n",
    "#         print(\"Boutique_Website:\"+base_url+business_name_url)\n",
    "#     except:\n",
    "#         print(None)"
   ]
  },
  {
   "cell_type": "code",
   "execution_count": 209,
   "metadata": {},
   "outputs": [],
   "source": [
    "# reviews=soup.find_all(\"p\",{\"class\":\"lemon--p__373c0__3Qnnj text__373c0__2Kxyz text-color--black-extra-light__373c0__2OyzO text-align--left__373c0__2XGa-\"})\n",
    "# for review in reviews:\n",
    "#     print(review.text,\"\\n\")"
   ]
  },
  {
   "cell_type": "code",
   "execution_count": 107,
   "metadata": {},
   "outputs": [],
   "source": [
    "# check the results for one store:\n",
    "# html_page = requests.get(\"https://www.yelp.com/biz/kisha-studio-fashion-boutique-san-francisco-2?osq=Clothing+Boutiques&start=0\")\n",
    "# soup = BeautifulSoup(html_page.content, 'html.parser')\n",
    "# reviews = soup.find_all(\"span\",{\"class\":\"lemon--span__373c0__3997G raw__373c0__3rKqk\"})\n",
    "# for review in reviews:\n",
    "#     print(review.text,\"\\n\")"
   ]
  }
 ],
 "metadata": {
  "kernelspec": {
   "display_name": "Python 3",
   "language": "python",
   "name": "python3"
  },
  "language_info": {
   "codemirror_mode": {
    "name": "ipython",
    "version": 3
   },
   "file_extension": ".py",
   "mimetype": "text/x-python",
   "name": "python",
   "nbconvert_exporter": "python",
   "pygments_lexer": "ipython3",
   "version": "3.7.6"
  }
 },
 "nbformat": 4,
 "nbformat_minor": 2
}
