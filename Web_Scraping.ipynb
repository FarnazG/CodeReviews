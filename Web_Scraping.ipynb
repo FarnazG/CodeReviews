{
 "cells": [
  {
   "cell_type": "markdown",
   "metadata": {},
   "source": [
    "# Import Libraries"
   ]
  },
  {
   "cell_type": "code",
   "execution_count": 167,
   "metadata": {},
   "outputs": [],
   "source": [
    "import pandas as pd\n",
    "import numpy as np\n",
    "import json\n",
    "import matplotlib.pyplot as plt\n",
    "%matplotlib inline\n",
    "\n",
    "\n",
    "#import bs4 as bs or:\n",
    "from bs4 import BeautifulSoup\n",
    "#BeautifulSoup is a Python library for pulling data out of HTML and XML files\n",
    "\n",
    "import re\n",
    "import requests\n",
    "import urllib.request as url\n",
    "#rllib.request is a Python module for fetching URLs (Uniform Resource Locators).It offers a simple\n",
    "#interface, in the form of the urlopen function.\n",
    "\n",
    "from time import sleep\n",
    "#Need to use a delay between page scrapes in order to limit getting blocked by Yelp"
   ]
  },
  {
   "cell_type": "markdown",
   "metadata": {},
   "source": [
    "# Step One: "
   ]
  },
  {
   "cell_type": "code",
   "execution_count": 168,
   "metadata": {},
   "outputs": [],
   "source": [
    "# Make a get request to retrieve the page\n",
    "html_page = requests.get('https://www.yelp.com/search?find_desc=Clothing%20Boutiques&find_loc=San%20Francisco%2C%20CA&ns=1&cflt=womenscloth')\n",
    "\n",
    "# Pass the page contents to beautiful soup for parsing\n",
    "soup = BeautifulSoup(html_page.content, 'html.parser')"
   ]
  },
  {
   "cell_type": "code",
   "execution_count": 169,
   "metadata": {},
   "outputs": [],
   "source": [
    "#to iterate over all pages and stores:\n",
    "for i in range(1,416):\n",
    "    #find a URL pattern for different pages ,total num_stores = 416\n",
    "    url=\"https://www.yelp.com/search?find_desc=Clothing%20Boutiques&find_loc=San%20Francisco%2C%20CA&ns=1&cflt=womenscloth&start={}\".format((i//40)*40)\n",
    "    search_page=url\n",
    "    #print(search_page)"
   ]
  },
  {
   "cell_type": "markdown",
   "metadata": {},
   "source": [
    "### Set main and secondary attributes and class names to each of required features:"
   ]
  },
  {
   "cell_type": "code",
   "execution_count": 170,
   "metadata": {},
   "outputs": [],
   "source": [
    "main_attributes_class=\"lemon--div__373c0__1mboc mainAttributes__373c0__1r0QA arrange-unit__373c0__o3tjT arrange-unit-fill__373c0__3Sfw1 border-color--default__373c0__3-ifU\"\n",
    "#including:\n",
    "business_name_class=\"lemon--div__373c0__1mboc businessName__373c0__1fTgn display--inline-block__373c0__1ZKqC border-color--default__373c0__3-ifU\"\n",
    "rating_class=\"lemon--span__373c0__3997G display--inline__373c0__3JqBP border-color--default__373c0__3-ifU\"\n",
    "price_range_class=\"lemon--span__373c0__3997G text__373c0__2Kxyz priceRange__373c0__2DY87 text-color--black-extra-light__373c0__2OyzO text-align--left__373c0__2XGa- text-bullet--after__373c0__3fS1Z\"\n",
    "review_count_class=\"lemon--span__373c0__3997G text__373c0__2Kxyz reviewCount__373c0__2r4xT text-color--black-extra-light__373c0__2OyzO text-align--left__373c0__2XGa-\"\n",
    "\n",
    "secondary_attributes_class=\"lemon--div__373c0__1mboc secondaryAttributes__373c0__7bA0w arrange-unit__373c0__o3tjT border-color--default__373c0__3-ifU\"\n",
    "#inclufing:\n",
    "business_phonenumber_class=\"lemon--div__373c0__1mboc display--inline-block__373c0__1ZKqC border-color--default__373c0__3-ifU\"\n",
    "business_address_class=\"lemon--span__373c0__3997G raw__373c0__3rcx7\"\n",
    "# business_district_class=\"lemon--p__373c0__3Qnnj text__373c0__2Kxyz text-color--black-extra-light__373c0__2OyzO text-align--right__373c0__1f0KI text-size--small__373c0__3NVWO\""
   ]
  },
  {
   "cell_type": "code",
   "execution_count": 171,
   "metadata": {},
   "outputs": [],
   "source": [
    "#find all the div classes/main_attributes which refers to all the stores listed on the search result page and set them to mains\n",
    "mains=soup.find_all(\"div\",{\"class\":main_attributes_class})\n",
    "\n",
    "#find all the div classes/secondary_attributes which refers to all the stores listed on the search result page and set them to mains and secondary_attributes \n",
    "secondaries=soup.find_all(\"div\",{\"class\":secondary_attributes_class})"
   ]
  },
  {
   "cell_type": "code",
   "execution_count": 172,
   "metadata": {},
   "outputs": [],
   "source": [
    "boutique_name=[]\n",
    "ratings=[]\n",
    "number_reviews=[]\n",
    "price_range=[]\n",
    "boutique_url_address=[]\n",
    "\n",
    "for main in mains:\n",
    "    try:\n",
    "        boutique_name.append(main.find(\"a\").text)\n",
    "    except:\n",
    "        boutique_name.append(None)\n",
    "    try:\n",
    "        ratings.append(main.find(\"span\",{\"class\":rating_class}).div.get(\"aria-label\"))\n",
    "    except:\n",
    "        ratings.append(None)\n",
    "    try:\n",
    "        number_reviews.append(main.find(\"span\",{\"class\":review_count_class}).text)\n",
    "    except:\n",
    "        number_reviews.append(None)\n",
    "    try:\n",
    "        price_range.append(main.find(\"span\",{\"class\":price_range_class}).get_text())\n",
    "    except:\n",
    "        price_range.append(None)\n",
    "    try:\n",
    "        base_url=\"https://www.yelp.com\"\n",
    "        business_name_url=main.find('a').attrs['href']\n",
    "        boutique_url_address.append(base_url+business_name_url)\n",
    "    except:\n",
    "        boutique_url_address.append(None)"
   ]
  },
  {
   "cell_type": "code",
   "execution_count": 173,
   "metadata": {},
   "outputs": [],
   "source": [
    "phone_number=[]\n",
    "address=[]\n",
    "\n",
    "for secondary in secondaries:\n",
    "    try:\n",
    "        phone_number.append(secondary.find(\"p\").text)\n",
    "    except:\n",
    "        phone_number.append(None)\n",
    "    try:\n",
    "        address.append(secondary.find(\"span\",{\"class\":business_address_class}).get_text())\n",
    "    except:\n",
    "        address.append(None) "
   ]
  },
  {
   "cell_type": "code",
   "execution_count": 174,
   "metadata": {
    "scrolled": true
   },
   "outputs": [
    {
     "data": {
      "text/html": [
       "<div>\n",
       "<style scoped>\n",
       "    .dataframe tbody tr th:only-of-type {\n",
       "        vertical-align: middle;\n",
       "    }\n",
       "\n",
       "    .dataframe tbody tr th {\n",
       "        vertical-align: top;\n",
       "    }\n",
       "\n",
       "    .dataframe thead th {\n",
       "        text-align: right;\n",
       "    }\n",
       "</style>\n",
       "<table border=\"1\" class=\"dataframe\">\n",
       "  <thead>\n",
       "    <tr style=\"text-align: right;\">\n",
       "      <th></th>\n",
       "      <th>boutique_name</th>\n",
       "      <th>ratings</th>\n",
       "      <th>number_reviews</th>\n",
       "      <th>price_range</th>\n",
       "      <th>phone_number</th>\n",
       "      <th>address</th>\n",
       "      <th>boutique_url_address</th>\n",
       "    </tr>\n",
       "  </thead>\n",
       "  <tbody>\n",
       "  </tbody>\n",
       "</table>\n",
       "</div>"
      ],
      "text/plain": [
       "Empty DataFrame\n",
       "Columns: [boutique_name, ratings, number_reviews, price_range, phone_number, address, boutique_url_address]\n",
       "Index: []"
      ]
     },
     "execution_count": 174,
     "metadata": {},
     "output_type": "execute_result"
    }
   ],
   "source": [
    "data={\"boutique_name\":boutique_name,\"ratings\":ratings,\"number_reviews\":number_reviews,\n",
    "      \"price_range\":price_range,\"phone_number\":phone_number,\"address\":address,\"boutique_url_address\":boutique_url_address}\n",
    "boutiques_info=pd.DataFrame(data)\n",
    "coulmns=[\"boutique_name\",\"ratings\",\"number_reviews\",\"price_range\",\"phone_number\",\"address\",\"boutique_url_address\"]\n",
    "boutiques_info.head()\n",
    "#boutiques_info.to_csv(\"boutiques_info\",columns=columns)"
   ]
  }
 ],
 "metadata": {
  "kernelspec": {
   "display_name": "Python 3",
   "language": "python",
   "name": "python3"
  },
  "language_info": {
   "codemirror_mode": {
    "name": "ipython",
    "version": 3
   },
   "file_extension": ".py",
   "mimetype": "text/x-python",
   "name": "python",
   "nbconvert_exporter": "python",
   "pygments_lexer": "ipython3",
   "version": "3.7.6"
  }
 },
 "nbformat": 4,
 "nbformat_minor": 2
}
