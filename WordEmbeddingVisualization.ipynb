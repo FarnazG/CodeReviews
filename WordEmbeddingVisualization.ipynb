{
 "cells": [
  {
   "cell_type": "code",
   "execution_count": 1,
   "metadata": {},
   "outputs": [
    {
     "name": "stderr",
     "output_type": "stream",
     "text": [
      "[nltk_data] Downloading package punkt to\n",
      "[nltk_data]     C:\\Users\\farnaz\\AppData\\Roaming\\nltk_data...\n",
      "[nltk_data]   Package punkt is already up-to-date!\n",
      "[nltk_data] Downloading package words to\n",
      "[nltk_data]     C:\\Users\\farnaz\\AppData\\Roaming\\nltk_data...\n",
      "[nltk_data]   Package words is already up-to-date!\n",
      "[nltk_data] Downloading package stopwords to\n",
      "[nltk_data]     C:\\Users\\farnaz\\AppData\\Roaming\\nltk_data...\n",
      "[nltk_data]   Package stopwords is already up-to-date!\n"
     ]
    }
   ],
   "source": [
    "''' Import libraries'''\n",
    "\n",
    "import pandas as pd\n",
    "import numpy as np\n",
    "import matplotlib.pyplot as plt\n",
    "import seaborn as sns\n",
    "import re\n",
    "import nltk\n",
    "import string\n",
    "\n",
    "from gensim.models import Phrases\n",
    "from gensim.models.phrases import Phraser\n",
    "from gensim.summarization.textcleaner import split_sentences\n",
    "\n",
    "from sklearn.feature_extraction.text import TfidfVectorizer, CountVectorizer\n",
    "from sklearn.manifold import TSNE\n",
    "\n",
    "from textblob import TextBlob, Word, Blobber\n",
    "# to install textblob in your conda packages:\n",
    "# 1. go to anaconda prompt\n",
    "# 2. cd Anaconda3>Scripts>conda install -c conda-forge textblob\n",
    "import numpy as np\n",
    "import nltk\n",
    "nltk.download('punkt')\n",
    "nltk.download('words')\n",
    "nltk.download('stopwords')\n",
    "from nltk import word_tokenize,sent_tokenize\n",
    "from nltk.stem.porter import PorterStemmer\n",
    "from nltk.corpus import stopwords"
   ]
  },
  {
   "cell_type": "code",
   "execution_count": 3,
   "metadata": {},
   "outputs": [],
   "source": [
    "#to accelerate the process create a sample data frame to work on classes and functions instead of the huge original dataframe:\n",
    "\n",
    "dict_CaryLane={'boutique_name':\"Cary Lane\", 'number_reviews':3, 'reviews':[\"I popped in here randomly the other day and was SO surprised! They had several of my favorite designers that I tend to shop online for through Revolve. Everything is brand new and heavily discounted...its like going into the MOST organized designer sample sale ever. I dont know how they do it, but so glad I discovered them! Highly recommend. Its not just one offs either...they have multiple sizes in everything!\",\n",
    "         \"Are you tired of paying too much money for fashion and quality clothing. You will be amazed when you walk in this store. They great when you walk in. The merchandise selection is fantastic. Plus if you pay cash you get 10% off.\",\n",
    "         \"Let just say I emailed the  owner stating I had no receipt and I made with cash. I'm still waiting several weeks later for what are my options.\"], 'star_ratings':[5,5,2]}\n",
    "\n",
    "dict_SanFran={\"boutique_name\":\"San Fran\",\"number_reviews\":4, \"reviews\":[\"Whenever I come to San Francisco I always look out for cool local shops. This is one of them. Got a really cool hat and a mug. Anytime I'm able to buy a non typical souvenir, I'm happy!\",\n",
    "              \"Very, very cool place. The T-shirt's are very soft, and I really liked the designs. Bought a tie dye onesie and a beanie for my granddaughter-on-the-way.  The staff was bright and cheery. I highly recommend this place.\", \n",
    "              \"The staff here at the cafe and ice cream section generally can't be bothered to pretend to care about their customers.\", \n",
    "              \"The staff that is not to bother with really downer vibes. The clothing is not worth the price tag. And in overall the premise of what the brand once was is completely gone. Completely avoid this place\"], \"star_ratings\":[5,3,2,4]}"
   ]
  },
  {
   "cell_type": "code",
   "execution_count": 4,
   "metadata": {},
   "outputs": [],
   "source": [
    "# display.max_colwidth sets the maximum width of columns. Cells of this length or longer will be truncated with an ellipsis.\n",
    "pd.options.display.max_colwidth = 1000"
   ]
  },
  {
   "cell_type": "code",
   "execution_count": 7,
   "metadata": {},
   "outputs": [
    {
     "data": {
      "text/html": [
       "<div>\n",
       "<style scoped>\n",
       "    .dataframe tbody tr th:only-of-type {\n",
       "        vertical-align: middle;\n",
       "    }\n",
       "\n",
       "    .dataframe tbody tr th {\n",
       "        vertical-align: top;\n",
       "    }\n",
       "\n",
       "    .dataframe thead th {\n",
       "        text-align: right;\n",
       "    }\n",
       "</style>\n",
       "<table border=\"1\" class=\"dataframe\">\n",
       "  <thead>\n",
       "    <tr style=\"text-align: right;\">\n",
       "      <th></th>\n",
       "      <th>boutique_name</th>\n",
       "      <th>number_reviews</th>\n",
       "      <th>reviews</th>\n",
       "      <th>star_ratings</th>\n",
       "    </tr>\n",
       "  </thead>\n",
       "  <tbody>\n",
       "    <tr>\n",
       "      <th>0</th>\n",
       "      <td>Cary Lane</td>\n",
       "      <td>3</td>\n",
       "      <td>I popped in here randomly the other day and was SO surprised! They had several of my favorite designers that I tend to shop online for through Revolve. Everything is brand new and heavily discounted...its like going into the MOST organized designer sample sale ever. I dont know how they do it, but so glad I discovered them! Highly recommend. Its not just one offs either...they have multiple sizes in everything!</td>\n",
       "      <td>5</td>\n",
       "    </tr>\n",
       "    <tr>\n",
       "      <th>1</th>\n",
       "      <td>Cary Lane</td>\n",
       "      <td>3</td>\n",
       "      <td>Are you tired of paying too much money for fashion and quality clothing. You will be amazed when you walk in this store. They great when you walk in. The merchandise selection is fantastic. Plus if you pay cash you get 10% off.</td>\n",
       "      <td>5</td>\n",
       "    </tr>\n",
       "    <tr>\n",
       "      <th>2</th>\n",
       "      <td>Cary Lane</td>\n",
       "      <td>3</td>\n",
       "      <td>Let just say I emailed the  owner stating I had no receipt and I made with cash. I'm still waiting several weeks later for what are my options.</td>\n",
       "      <td>2</td>\n",
       "    </tr>\n",
       "    <tr>\n",
       "      <th>0</th>\n",
       "      <td>San Fran</td>\n",
       "      <td>4</td>\n",
       "      <td>Whenever I come to San Francisco I always look out for cool local shops. This is one of them. Got a really cool hat and a mug. Anytime I'm able to buy a non typical souvenir, I'm happy!</td>\n",
       "      <td>5</td>\n",
       "    </tr>\n",
       "    <tr>\n",
       "      <th>1</th>\n",
       "      <td>San Fran</td>\n",
       "      <td>4</td>\n",
       "      <td>Very, very cool place. The T-shirt's are very soft, and I really liked the designs. Bought a tie dye onesie and a beanie for my granddaughter-on-the-way.  The staff was bright and cheery. I highly recommend this place.</td>\n",
       "      <td>3</td>\n",
       "    </tr>\n",
       "    <tr>\n",
       "      <th>2</th>\n",
       "      <td>San Fran</td>\n",
       "      <td>4</td>\n",
       "      <td>The staff here at the cafe and ice cream section generally can't be bothered to pretend to care about their customers.</td>\n",
       "      <td>2</td>\n",
       "    </tr>\n",
       "    <tr>\n",
       "      <th>3</th>\n",
       "      <td>San Fran</td>\n",
       "      <td>4</td>\n",
       "      <td>The staff that is not to bother with really downer vibes. The clothing is not worth the price tag. And in overall the premise of what the brand once was is completely gone. Completely avoid this place</td>\n",
       "      <td>4</td>\n",
       "    </tr>\n",
       "  </tbody>\n",
       "</table>\n",
       "</div>"
      ],
      "text/plain": [
       "  boutique_name  number_reviews  \\\n",
       "0     Cary Lane               3   \n",
       "1     Cary Lane               3   \n",
       "2     Cary Lane               3   \n",
       "0      San Fran               4   \n",
       "1      San Fran               4   \n",
       "2      San Fran               4   \n",
       "3      San Fran               4   \n",
       "\n",
       "                                                                                                                                                                                                                                                                                                                                                                                                                          reviews  \\\n",
       "0  I popped in here randomly the other day and was SO surprised! They had several of my favorite designers that I tend to shop online for through Revolve. Everything is brand new and heavily discounted...its like going into the MOST organized designer sample sale ever. I dont know how they do it, but so glad I discovered them! Highly recommend. Its not just one offs either...they have multiple sizes in everything!   \n",
       "1                                                                                                                                                                                             Are you tired of paying too much money for fashion and quality clothing. You will be amazed when you walk in this store. They great when you walk in. The merchandise selection is fantastic. Plus if you pay cash you get 10% off.   \n",
       "2                                                                                                                                                                                                                                                                                 Let just say I emailed the  owner stating I had no receipt and I made with cash. I'm still waiting several weeks later for what are my options.   \n",
       "0                                                                                                                                                                                                                                       Whenever I come to San Francisco I always look out for cool local shops. This is one of them. Got a really cool hat and a mug. Anytime I'm able to buy a non typical souvenir, I'm happy!   \n",
       "1                                                                                                                                                                                                      Very, very cool place. The T-shirt's are very soft, and I really liked the designs. Bought a tie dye onesie and a beanie for my granddaughter-on-the-way.  The staff was bright and cheery. I highly recommend this place.   \n",
       "2                                                                                                                                                                                                                                                                                                          The staff here at the cafe and ice cream section generally can't be bothered to pretend to care about their customers.   \n",
       "3                                                                                                                                                                                                                        The staff that is not to bother with really downer vibes. The clothing is not worth the price tag. And in overall the premise of what the brand once was is completely gone. Completely avoid this place   \n",
       "\n",
       "   star_ratings  \n",
       "0             5  \n",
       "1             5  \n",
       "2             2  \n",
       "0             5  \n",
       "1             3  \n",
       "2             2  \n",
       "3             4  "
      ]
     },
     "execution_count": 7,
     "metadata": {},
     "output_type": "execute_result"
    }
   ],
   "source": [
    "df_review1 = pd.DataFrame(dict_CaryLane)\n",
    "df_review2 = pd.DataFrame(dict_SanFran)\n",
    "coulmns = [\"boutique_name\",\"number_reviews\", \"star_ratings\",\"reviews\"]\n",
    "df_review = pd.concat([df_review1,df_review2], ignore_index=False)\n",
    "df_review"
   ]
  },
  {
   "cell_type": "code",
   "execution_count": 8,
   "metadata": {},
   "outputs": [],
   "source": [
    "#review related dataframe will contain \"number_reviews\", \"star_ratings\", \"reviews\" and \"boutique_name\" information.\n",
    "''' \n",
    "#write a function to separate all the related info for each boutiques:\n",
    "#1.group dataframe by each boutique_name using groupby method.\n",
    "#2.use the average star_ratings of all reviews as the unique star_rating of the boutique.\n",
    "#3.add all reviews of each boutique into one single list to analyse feedbacks, visualize results and create prediction models.\n",
    "#4.the average number of reviews will remain the same for each boutique.\n",
    "'''\n",
    "\n",
    "def df_checklist(dataframe):\n",
    "    #agg_function = {\"number_reviews\":lambda x: x.mean(), \"star_ratings\":lambda x: x.mean(), \"reviews\": lambda x:list(x)}\n",
    "    agg_function = {\"number_reviews\":lambda x: x.mean(), \"star_ratings\":lambda x: x.mean(), \"reviews\": lambda x:x.sum()}\n",
    "    #create DataFrameGroupBy object and conver it to dataframe using aggregate method:\n",
    "    df = dataframe.groupby(\"boutique_name\").aggregate(agg_function).reset_index()\n",
    "    return df "
   ]
  },
  {
   "cell_type": "code",
   "execution_count": 9,
   "metadata": {},
   "outputs": [
    {
     "data": {
      "text/html": [
       "<div>\n",
       "<style scoped>\n",
       "    .dataframe tbody tr th:only-of-type {\n",
       "        vertical-align: middle;\n",
       "    }\n",
       "\n",
       "    .dataframe tbody tr th {\n",
       "        vertical-align: top;\n",
       "    }\n",
       "\n",
       "    .dataframe thead th {\n",
       "        text-align: right;\n",
       "    }\n",
       "</style>\n",
       "<table border=\"1\" class=\"dataframe\">\n",
       "  <thead>\n",
       "    <tr style=\"text-align: right;\">\n",
       "      <th></th>\n",
       "      <th>boutique_name</th>\n",
       "      <th>number_reviews</th>\n",
       "      <th>star_ratings</th>\n",
       "      <th>reviews</th>\n",
       "    </tr>\n",
       "  </thead>\n",
       "  <tbody>\n",
       "    <tr>\n",
       "      <th>0</th>\n",
       "      <td>Cary Lane</td>\n",
       "      <td>3</td>\n",
       "      <td>4.0</td>\n",
       "      <td>I popped in here randomly the other day and was SO surprised! They had several of my favorite designers that I tend to shop online for through Revolve. Everything is brand new and heavily discounted...its like going into the MOST organized designer sample sale ever. I dont know how they do it, but so glad I discovered them! Highly recommend. Its not just one offs either...they have multiple sizes in everything!Are you tired of paying too much money for fashion and quality clothing. You will be amazed when you walk in this store. They great when you walk in. The merchandise selection is fantastic. Plus if you pay cash you get 10% off.Let just say I emailed the  owner stating I had no receipt and I made with cash. I'm still waiting several weeks later for what are my options.</td>\n",
       "    </tr>\n",
       "    <tr>\n",
       "      <th>1</th>\n",
       "      <td>San Fran</td>\n",
       "      <td>4</td>\n",
       "      <td>3.5</td>\n",
       "      <td>Whenever I come to San Francisco I always look out for cool local shops. This is one of them. Got a really cool hat and a mug. Anytime I'm able to buy a non typical souvenir, I'm happy!Very, very cool place. The T-shirt's are very soft, and I really liked the designs. Bought a tie dye onesie and a beanie for my granddaughter-on-the-way.  The staff was bright and cheery. I highly recommend this place.The staff here at the cafe and ice cream section generally can't be bothered to pretend to care about their customers.The staff that is not to bother with really downer vibes. The clothing is not worth the price tag. And in overall the premise of what the brand once was is completely gone. Completely avoid this place</td>\n",
       "    </tr>\n",
       "  </tbody>\n",
       "</table>\n",
       "</div>"
      ],
      "text/plain": [
       "  boutique_name  number_reviews  star_ratings  \\\n",
       "0     Cary Lane               3           4.0   \n",
       "1      San Fran               4           3.5   \n",
       "\n",
       "                                                                                                                                                                                                                                                                                                                                                                                                                                                                                                                                                                                                                                                                                                                                                                                                            reviews  \n",
       "0  I popped in here randomly the other day and was SO surprised! They had several of my favorite designers that I tend to shop online for through Revolve. Everything is brand new and heavily discounted...its like going into the MOST organized designer sample sale ever. I dont know how they do it, but so glad I discovered them! Highly recommend. Its not just one offs either...they have multiple sizes in everything!Are you tired of paying too much money for fashion and quality clothing. You will be amazed when you walk in this store. They great when you walk in. The merchandise selection is fantastic. Plus if you pay cash you get 10% off.Let just say I emailed the  owner stating I had no receipt and I made with cash. I'm still waiting several weeks later for what are my options.  \n",
       "1                                                                 Whenever I come to San Francisco I always look out for cool local shops. This is one of them. Got a really cool hat and a mug. Anytime I'm able to buy a non typical souvenir, I'm happy!Very, very cool place. The T-shirt's are very soft, and I really liked the designs. Bought a tie dye onesie and a beanie for my granddaughter-on-the-way.  The staff was bright and cheery. I highly recommend this place.The staff here at the cafe and ice cream section generally can't be bothered to pretend to care about their customers.The staff that is not to bother with really downer vibes. The clothing is not worth the price tag. And in overall the premise of what the brand once was is completely gone. Completely avoid this place  "
      ]
     },
     "execution_count": 9,
     "metadata": {},
     "output_type": "execute_result"
    }
   ],
   "source": [
    "df = df_checklist(df_review)\n",
    "df"
   ]
  },
  {
   "cell_type": "code",
   "execution_count": 11,
   "metadata": {},
   "outputs": [
    {
     "data": {
      "text/plain": [
       "\"0    I popped in here randomly the other day and was SO surprised! They had several of my favorite designers that I tend to shop online for through Revolve. Everything is brand new and heavily discounted...its like going into the MOST organized designer sample sale ever. I dont know how they do it, but so glad I discovered them! Highly recommend. Its not just one offs either...they have multiple sizes in everything!Are you tired of paying too much money for fashion and quality clothing. You will be amazed when you walk in this store. They great when you walk in. The merchandise selection is fantastic. Plus if you pay cash you get 10% off.Let just say I emailed the  owner stating I had no receipt and I made with cash. I'm still waiting several weeks later for what are my options.\""
      ]
     },
     "execution_count": 11,
     "metadata": {},
     "output_type": "execute_result"
    }
   ],
   "source": [
    "# test:\n",
    "pd.options.display.max_colwidth = 1000\n",
    "rows = df[(df.boutique_name == 'Cary Lane')]\n",
    "reviews = rows.reviews.to_string()\n",
    "# reviews = rows.reviews\n",
    "reviews"
   ]
  },
  {
   "cell_type": "code",
   "execution_count": 12,
   "metadata": {},
   "outputs": [],
   "source": [
    "def text_cleaning(text):\n",
    "    \"\"\"\n",
    "    This function cleans a block of text.\n",
    "    Input:text = the text to be cleaned.\n",
    "    Output: the text stripped of punctuation and made lowercase.\n",
    "    \"\"\"\n",
    "    # u'\\xa0' represents a non-breaking space in the text block that needs to be removed.\n",
    "    text = text.replace(u'\\xa0', u' ')\n",
    "    \n",
    "    #remove multiple fullstops and make a single fullstop\n",
    "    text = re.sub('\\.+', '. ', text)\n",
    " \n",
    "    #remove multiple spaces and make a single space.\n",
    "    text = re.sub(' +', ' ', text)\n",
    "    \n",
    "    #remove all tokens that are not alphabetic\n",
    "    text = re.sub(r'\\d+', '', text)\n",
    "    \n",
    "    #normalization\n",
    "    text= text.lower()\n",
    "    \n",
    "    #remove punctuations\n",
    "    #punctuation marks, add . if needs be\n",
    "    punctuations = '''!()-[]{};:'\"\\,<>/?@#$%^&*_~'''\n",
    "    #traverse the given string and if any punctuation marks occur replace it with null \n",
    "    for i in text: \n",
    "        if i in punctuations: \n",
    "            text = text.replace(i, \"\") \n",
    "                    \n",
    "    return text "
   ]
  },
  {
   "cell_type": "code",
   "execution_count": 29,
   "metadata": {},
   "outputs": [
    {
     "name": "stdout",
     "output_type": "stream",
     "text": [
      "[['popped', 'randomly', 'day', 'surprised', 'several', 'favorite', 'designers', 'tend', 'shop', 'online', 'revolve'], ['everything', 'brand', 'new', 'heavily', 'discounted'], ['like', 'going', 'organized', 'designer', 'sample', 'sale', 'ever'], ['dont', 'know', 'glad', 'discovered', 'highly', 'recommend'], ['one', 'offs', 'either'], ['multiple', 'sizes', 'everythingare', 'tired', 'paying', 'much', 'money', 'fashion', 'quality', 'clothing'], ['amazed', 'walk', 'store'], ['great', 'walk'], ['merchandise', 'selection', 'fantastic'], ['plus', 'pay', 'cash', 'get'], ['let', 'say', 'emailed', 'owner', 'stating', 'receipt', 'made', 'cash'], ['im', 'still', 'waiting', 'several', 'weeks', 'later', 'options']]\n",
      "Word2Vec(vocab=66, size=100, alpha=0.025)\n",
      "['popped', 'randomly', 'day', 'surprised', 'several', 'favorite', 'designers', 'tend', 'shop', 'online', 'revolve', 'everything', 'brand', 'new', 'heavily', 'discounted', 'like', 'going', 'organized', 'designer', 'sample', 'sale', 'ever', 'dont', 'know', 'glad', 'discovered', 'highly', 'recommend', 'one', 'offs', 'either', 'multiple', 'sizes', 'everythingare', 'tired', 'paying', 'much', 'money', 'fashion', 'quality', 'clothing', 'amazed', 'walk', 'store', 'great', 'merchandise', 'selection', 'fantastic', 'plus', 'pay', 'cash', 'get', 'let', 'say', 'emailed', 'owner', 'stating', 'receipt', 'made', 'im', 'still', 'waiting', 'weeks', 'later', 'options']\n",
      "[-1.4271678e-03  4.0633632e-03 -1.2610669e-03  6.1626668e-04\n",
      " -6.3763338e-04 -4.3244712e-04 -5.5274466e-04  1.7433483e-03\n",
      " -1.4903054e-03 -4.5245895e-04 -1.2663575e-03 -4.3131621e-03\n",
      " -2.6992210e-03 -4.8622955e-03 -1.4923997e-03  1.9213415e-03\n",
      "  3.0563129e-03  2.4361720e-03  2.2367365e-03 -2.0005254e-03\n",
      "  4.4912162e-05  7.7840715e-04 -1.7599636e-03  5.9485063e-04\n",
      "  3.5961366e-03 -4.7256295e-03 -4.2751427e-03 -3.2966905e-03\n",
      "  4.0803580e-03  1.4888184e-03  1.9907963e-03 -1.8998480e-03\n",
      " -4.6303724e-03  2.5897382e-03  4.6689189e-03  2.8342791e-03\n",
      " -3.4486458e-03  4.9481266e-03  4.1589197e-03  1.9443035e-03\n",
      " -2.4088798e-03  8.7779487e-04  2.0655610e-03 -5.7105126e-04\n",
      " -9.5812761e-04 -4.4100089e-03 -3.5432719e-03  1.1864078e-04\n",
      " -4.7343280e-03 -3.0551609e-03 -4.1104015e-03 -3.3229517e-03\n",
      "  1.8608776e-03 -4.8547946e-03 -2.0012872e-03 -4.0086801e-03\n",
      " -3.3843226e-03 -2.1908081e-03  7.2241708e-04 -4.4143312e-03\n",
      " -4.7912048e-03 -4.1148211e-05 -2.0326676e-03 -1.0170051e-03\n",
      " -9.4743143e-07 -4.3678987e-03 -1.3480510e-03  1.4996653e-03\n",
      "  4.9646888e-03 -9.5172256e-04  7.5516180e-04 -1.5778688e-03\n",
      "  2.3555816e-03 -1.4413154e-03  1.9302012e-03  2.1617131e-03\n",
      "  2.0628239e-03  1.3528108e-03  3.3459621e-03 -3.9165821e-03\n",
      " -2.2046501e-03  4.2069829e-03  3.6967448e-03 -4.5786835e-03\n",
      " -1.4259297e-03  3.6760662e-03  2.1320202e-05  9.6039113e-04\n",
      " -3.9428649e-03  3.7621628e-03 -4.5393230e-03 -2.4202438e-03\n",
      " -4.9260100e-03  2.5183498e-03 -4.4209799e-03  3.8230794e-03\n",
      "  4.3003391e-03 -4.3631051e-04 -1.1903942e-03  1.0962697e-03]\n",
      "Word2Vec(vocab=66, size=100, alpha=0.025)\n"
     ]
    },
    {
     "name": "stderr",
     "output_type": "stream",
     "text": [
      "C:\\Users\\farnaz\\anaconda3\\lib\\site-packages\\ipykernel_launcher.py:35: DeprecationWarning: Call to deprecated `__getitem__` (Method will be removed in 4.0.0, use self.wv.__getitem__() instead).\n"
     ]
    }
   ],
   "source": [
    "#word embedding model:\n",
    "from gensim.models import Word2Vec\n",
    "# 1.define training data:\n",
    "# sentences = [['this', 'is', 'the', 'first', 'sentence', 'for', 'word2vec'],\n",
    "# ['this', 'is', 'the', 'second', 'sentence'],\n",
    "# ['yet', 'another', 'sentence'],\n",
    "# ['one', 'more', 'sentence'],\n",
    "# ['and', 'the', 'final', 'sentence']]\n",
    "\n",
    "reviews = text_cleaning(reviews)\n",
    "reviews\n",
    "\n",
    "sentences = nltk.sent_tokenize(reviews)\n",
    "sentences = [nltk.word_tokenize(sentence)for sentence in sentences]\n",
    "# print(sentences)\n",
    "\n",
    "dot = \".\"\n",
    "for i in range(len(sentences)):\n",
    "    sentences[i] = [word for word in sentences[i] if word not in stopwords.words('english')]\n",
    "    sentences[i] = [word for word in sentences[i] if word not in dot]\n",
    "print(sentences)    \n",
    "\n",
    "\n",
    "#2.train model\n",
    "model = Word2Vec(sentences, min_count=1)\n",
    "\n",
    "#summarize the loaded model\n",
    "print(model)\n",
    "\n",
    "#summarize vocabulary\n",
    "words = list(model.wv.vocab)\n",
    "print(words)\n",
    "\n",
    "# access vector for one word\n",
    "print(model['cash'])\n",
    "\n",
    "# save model\n",
    "model.save('model.bin')\n",
    "\n",
    "# load model\n",
    "new_model = Word2Vec.load('model.bin')\n",
    "print(new_model)"
   ]
  },
  {
   "cell_type": "code",
   "execution_count": 38,
   "metadata": {},
   "outputs": [
    {
     "name": "stderr",
     "output_type": "stream",
     "text": [
      "C:\\Users\\farnaz\\anaconda3\\lib\\site-packages\\ipykernel_launcher.py:6: DeprecationWarning: Call to deprecated `__getitem__` (Method will be removed in 4.0.0, use self.wv.__getitem__() instead).\n",
      "  \n"
     ]
    },
    {
     "data": {
      "image/png": "[encoded data removed]",
      "text/plain": [
       "<Figure size 1080x360 with 1 Axes>"
      ]
     },
     "metadata": {
      "needs_background": "light"
     },
     "output_type": "display_data"
    }
   ],
   "source": [
    "#word embedding visualization:\n",
    "from sklearn.decomposition import PCA\n",
    "from matplotlib import pyplot\n",
    "\n",
    "# fit a 2d PCA model to the vectors\n",
    "X = model[model.wv.vocab]\n",
    "pca = PCA(n_components=2)\n",
    "result = pca.fit_transform(X)\n",
    "\n",
    "# create a scatter plot of the projection\n",
    "# from pylab import rcParams\n",
    "# rcParams['figure.figsize'] = 15, 5\n",
    "\n",
    "pyplot.scatter(result[:, 0], result[:, 1] , s=30)\n",
    "words = list(model.wv.vocab)\n",
    "for i, word in enumerate(words):\n",
    "    \n",
    "    pyplot.annotate(word, xy=(result[i, 0], result[i, 1]))\n",
    "pyplot.show()"
   ]
  }
 ],
 "metadata": {
  "kernelspec": {
   "display_name": "Python 3",
   "language": "python",
   "name": "python3"
  },
  "language_info": {
   "codemirror_mode": {
    "name": "ipython",
    "version": 3
   },
   "file_extension": ".py",
   "mimetype": "text/x-python",
   "name": "python",
   "nbconvert_exporter": "python",
   "pygments_lexer": "ipython3",
   "version": "3.7.6"
  }
 },
 "nbformat": 4,
 "nbformat_minor": 4
}
