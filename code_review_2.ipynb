{
 "cells": [
  {
   "cell_type": "markdown",
   "metadata": {},
   "source": [
    "Exploring the Data:\n",
    "\n",
    "Question 1: What are the average User Ratings?\n",
    "\n",
    "Question 2: Which Genres tend to get highest ratings?\n",
    "\n",
    "Question 3: Which Movies are the Highest Rated?"
   ]
  },
  {
   "cell_type": "code",
   "execution_count": 1,
   "metadata": {},
   "outputs": [],
   "source": [
    "#Preparing Pandas df\n",
    "moviesdf = pd.read_csv('movies.csv')\n",
    "ratingsdf = pd.read_csv('ratings.csv')"
   ]
  },
  {
   "cell_type": "code",
   "execution_count": 2,
   "metadata": {},
   "outputs": [],
   "source": [
    "#Merge Ratings and Movies on movieId\n",
    "merged_df = pd.merge(moviesdf,ratingsdf, on=['movieId'])"
   ]
  },
  {
   "cell_type": "code",
   "execution_count": 3,
   "metadata": {},
   "outputs": [],
   "source": [
    "#Drop timestamp column\n",
    "merged_df = merged_df.drop(columns='timestamp')"
   ]
  },
  {
   "cell_type": "code",
   "execution_count": 4,
   "metadata": {},
   "outputs": [],
   "source": [
    "rating_counts = merged_df['rating'].value_counts()\n",
    "sorted_counts = {k: v for k, v in sorted(rating_counts.items(), key=lambda item: item[1])}\n",
    "sorted_count = list(sorted_counts.items())\n",
    "cy = [item[1] for item in sorted_count]\n",
    "cx = [item[0] for item in sorted_count]"
   ]
  },
  {
   "cell_type": "code",
   "execution_count": 5,
   "metadata": {},
   "outputs": [],
   "source": [
    "plt.figure(figsize=(13,8))\n",
    "sns.barplot(x=cx, y=cy)\n",
    "plt.title('User Rating Counts', fontweight='bold', fontsize=18)\n",
    "plt.xlabel('User Ratings',fontsize=14)\n",
    "plt.ylabel('Value Counts')\n",
    "plt.show()\n",
    "print(merged_df['rating'].value_counts(normalize=True))"
   ]
  },
  {
   "cell_type": "code",
   "execution_count": 6,
   "metadata": {},
   "outputs": [],
   "source": [
    "merged_df['genres'].value_counts()"
   ]
  },
  {
   "cell_type": "code",
   "execution_count": 7,
   "metadata": {},
   "outputs": [],
   "source": [
    "#Many movie have genre grouping, they will need to be separated and classified to identify each individual genre\n",
    "merged_df['genres'] = merged_df['genres'].apply(lambda x: x.split(\"|\") if x else x)\n",
    "merged_df.head()"
   ]
  },
  {
   "cell_type": "code",
   "execution_count": 8,
   "metadata": {},
   "outputs": [],
   "source": [
    "all_genres = set()\n",
    "for genres in merged_df['genres']:\n",
    "    if genres:\n",
    "        all_genres.update(genres)"
   ]
  },
  {
   "cell_type": "code",
   "execution_count": 9,
   "metadata": {},
   "outputs": [],
   "source": [
    "#Prepare genre columns for genre counts\n",
    "for genre in all_genres:\n",
    "  merged_df[genre] = np.zeros(shape=merged_df.shape[0])"
   ]
  },
  {
   "cell_type": "code",
   "execution_count": 10,
   "metadata": {},
   "outputs": [],
   "source": [
    "#Iterate through the movies and update the genre columns to 1 if the movie contains that genre\n",
    "for index, row in merged_df.iterrows():\n",
    "    if row['genres']:\n",
    "        for genre in row['genres']:\n",
    "            merged_df.loc[index, genre] = 1\n",
    "merged_df.head()"
   ]
  }
 ],
 "metadata": {
  "kernelspec": {
   "display_name": "Python 3",
   "language": "python",
   "name": "python3"
  },
  "language_info": {
   "codemirror_mode": {
    "name": "ipython",
    "version": 3
   },
   "file_extension": ".py",
   "mimetype": "text/x-python",
   "name": "python",
   "nbconvert_exporter": "python",
   "pygments_lexer": "ipython3",
   "version": "3.7.6"
  }
 },
 "nbformat": 4,
 "nbformat_minor": 4
}
