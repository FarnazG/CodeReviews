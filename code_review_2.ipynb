{
 "cells": [
  {
   "cell_type": "markdown",
   "metadata": {},
   "source": [
    "Exploring the Data:\n",
    "\n",
    "Question 1: What are the average User Ratings?\n",
    "\n",
    "Question 2: Which Genres tend to get highest ratings?\n",
    "\n",
    "Question 3: Which Movies are the Highest Rated?"
   ]
  },
  {
   "cell_type": "code",
   "execution_count": 1,
   "metadata": {},
   "outputs": [],
   "source": [
    "#Preparing Pandas df\n",
    "moviesdf = pd.read_csv('movies.csv')\n",
    "ratingsdf = pd.read_csv('ratings.csv')"
   ]
  },
  {
   "cell_type": "code",
   "execution_count": 2,
   "metadata": {},
   "outputs": [],
   "source": [
    "#Merge Ratings and Movies on movieId\n",
    "merged_df = pd.merge(moviesdf,ratingsdf, on=['movieId'])"
   ]
  },
  {
   "cell_type": "code",
   "execution_count": 3,
   "metadata": {},
   "outputs": [],
   "source": [
    "#Drop timestamp column\n",
    "merged_df = merged_df.drop(columns='timestamp')"
   ]
  },
  {
   "cell_type": "code",
   "execution_count": 4,
   "metadata": {},
   "outputs": [],
   "source": [
    "rating_counts = merged_df['rating'].value_counts()\n",
    "sorted_counts = {k: v for k, v in sorted(rating_counts.items(), key=lambda item: item[1])}\n",
    "sorted_count = list(sorted_counts.items())\n",
    "cy = [item[1] for item in sorted_count]\n",
    "cx = [item[0] for item in sorted_count]"
   ]
  }
 ],
 "metadata": {
  "kernelspec": {
   "display_name": "Python 3",
   "language": "python",
   "name": "python3"
  },
  "language_info": {
   "codemirror_mode": {
    "name": "ipython",
    "version": 3
   },
   "file_extension": ".py",
   "mimetype": "text/x-python",
   "name": "python",
   "nbconvert_exporter": "python",
   "pygments_lexer": "ipython3",
   "version": "3.7.6"
  }
 },
 "nbformat": 4,
 "nbformat_minor": 4
}
