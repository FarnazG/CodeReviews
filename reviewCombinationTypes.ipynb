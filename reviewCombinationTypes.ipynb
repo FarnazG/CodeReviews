{
 "cells": [
  {
   "cell_type": "markdown",
   "metadata": {},
   "source": [
    "# get all reviews for each boutique in a single text:"
   ]
  },
  {
   "cell_type": "code",
   "execution_count": 1,
   "metadata": {},
   "outputs": [
    {
     "name": "stderr",
     "output_type": "stream",
     "text": [
      "[nltk_data] Downloading package punkt to\n",
      "[nltk_data]     C:\\Users\\farnaz\\AppData\\Roaming\\nltk_data...\n",
      "[nltk_data]   Package punkt is already up-to-date!\n",
      "[nltk_data] Downloading package words to\n",
      "[nltk_data]     C:\\Users\\farnaz\\AppData\\Roaming\\nltk_data...\n",
      "[nltk_data]   Package words is already up-to-date!\n",
      "[nltk_data] Downloading package stopwords to\n",
      "[nltk_data]     C:\\Users\\farnaz\\AppData\\Roaming\\nltk_data...\n",
      "[nltk_data]   Package stopwords is already up-to-date!\n"
     ]
    }
   ],
   "source": [
    "''' Import libraries'''\n",
    "\n",
    "import pandas as pd\n",
    "import numpy as np\n",
    "import matplotlib.pyplot as plt\n",
    "import seaborn as sns\n",
    "import re\n",
    "import nltk\n",
    "import string\n",
    "\n",
    "from gensim.models import Phrases\n",
    "from gensim.models.phrases import Phraser\n",
    "from gensim.summarization.textcleaner import split_sentences\n",
    "\n",
    "from sklearn.feature_extraction.text import TfidfVectorizer, CountVectorizer\n",
    "from sklearn.manifold import TSNE\n",
    "\n",
    "from textblob import TextBlob, Word, Blobber\n",
    "# to install textblob in your conda packages:\n",
    "# 1. go to anaconda prompt\n",
    "# 2. cd Anaconda3>Scripts>conda install -c conda-forge textblob\n",
    "import numpy as np\n",
    "import nltk\n",
    "nltk.download('punkt')\n",
    "nltk.download('words')\n",
    "nltk.download('stopwords')\n",
    "from nltk import word_tokenize,sent_tokenize\n",
    "from nltk.stem.porter import PorterStemmer\n",
    "from nltk.corpus import stopwords"
   ]
  },
  {
   "cell_type": "markdown",
   "metadata": {},
   "source": [
    "### step1: Define functions and classes to analyze reviews"
   ]
  },
  {
   "cell_type": "markdown",
   "metadata": {},
   "source": [
    "1. To get the tfidf score for each boutique:\n",
    "\n",
    "    1-1. get all the reviews for one boutique and add them together as a single string\n",
    "    \n",
    "    1-2. clean the string, remove all punctuations and stopwords\n",
    "    \n",
    "    1-3. create a function to give a matrix of tfidf_scores and vocabulary of terms\n",
    "    \n",
    "    \n",
    "2. Plot the word-embedding of each boutique"
   ]
  },
  {
   "cell_type": "markdown",
   "metadata": {},
   "source": [
    "## 1-1. get all the reviews for one boutique and add them together as a single string :"
   ]
  },
  {
   "cell_type": "code",
   "execution_count": 2,
   "metadata": {},
   "outputs": [],
   "source": [
    "#to accelerate the process create a sample data frame to work on classes and functions instead of the huge original dataframe:\n",
    "\n",
    "dict_CaryLane={'boutique_name':\"Cary Lane\", 'number_reviews':3, 'reviews':[\"I popped in here randomly the other day and was SO surprised! They had several of my favorite designers that I tend to shop online for through Revolve. Everything is brand new and heavily discounted...its like going into the MOST organized designer sample sale ever. I dont know how they do it, but so glad I discovered them! Highly recommend. Its not just one offs either...they have multiple sizes in everything!\",\n",
    "         \"Are you tired of paying too much money for fashion and quality clothing. You will be amazed when you walk in this store. They great when you walk in. The merchandise selection is fantastic. Plus if you pay cash you get 10% off.\",\n",
    "         \"Let just say I emailed the  owner stating I had no receipt and I made with cash. I'm still waiting several weeks later for what are my options.\"], 'star_ratings':[5,5,2]}\n",
    "\n",
    "dict_SanFran={\"boutique_name\":\"San Fran\",\"number_reviews\":4, \"reviews\":[\"Whenever I come to San Francisco I always look out for cool local shops. This is one of them. Got a really cool hat and a mug. Anytime I'm able to buy a non typical souvenir, I'm happy!\",\n",
    "              \"Very, very cool place. The T-shirt's are very soft, and I really liked the designs. Bought a tie dye onesie and a beanie for my granddaughter-on-the-way.  The staff was bright and cheery. I highly recommend this place.\", \n",
    "              \"The staff here at the cafe and ice cream section generally can't be bothered to pretend to care about their customers.\", \n",
    "              \"The staff that is not to bother with really downer vibes. The clothing is not worth the price tag. And in overall the premise of what the brand once was is completely gone. Completely avoid this place\"], \"star_ratings\":[5,3,2,4]}\n"
   ]
  },
  {
   "cell_type": "code",
   "execution_count": 3,
   "metadata": {},
   "outputs": [],
   "source": [
    "# display.max_colwidth sets the maximum width of columns. Cells of this length or longer will be truncated with an ellipsis.\n",
    "pd.options.display.max_colwidth = 1000"
   ]
  },
  {
   "cell_type": "markdown",
   "metadata": {},
   "source": [
    "### exploring different dataframes and functions:\n",
    "\n",
    "### Type 1"
   ]
  },
  {
   "cell_type": "code",
   "execution_count": 4,
   "metadata": {},
   "outputs": [
    {
     "data": {
      "text/html": [
       "<div>\n",
       "<style scoped>\n",
       "    .dataframe tbody tr th:only-of-type {\n",
       "        vertical-align: middle;\n",
       "    }\n",
       "\n",
       "    .dataframe tbody tr th {\n",
       "        vertical-align: top;\n",
       "    }\n",
       "\n",
       "    .dataframe thead th {\n",
       "        text-align: right;\n",
       "    }\n",
       "</style>\n",
       "<table border=\"1\" class=\"dataframe\">\n",
       "  <thead>\n",
       "    <tr style=\"text-align: right;\">\n",
       "      <th></th>\n",
       "      <th>boutique_name</th>\n",
       "      <th>number_reviews</th>\n",
       "      <th>reviews</th>\n",
       "      <th>star_ratings</th>\n",
       "    </tr>\n",
       "  </thead>\n",
       "  <tbody>\n",
       "    <tr>\n",
       "      <th>0</th>\n",
       "      <td>Cary Lane</td>\n",
       "      <td>3</td>\n",
       "      <td>I popped in here randomly the other day and was SO surprised! They had several of my favorite designers that I tend to shop online for through Revolve. Everything is brand new and heavily discounted...its like going into the MOST organized designer sample sale ever. I dont know how they do it, but so glad I discovered them! Highly recommend. Its not just one offs either...they have multiple sizes in everything!</td>\n",
       "      <td>5</td>\n",
       "    </tr>\n",
       "    <tr>\n",
       "      <th>1</th>\n",
       "      <td>Cary Lane</td>\n",
       "      <td>3</td>\n",
       "      <td>Are you tired of paying too much money for fashion and quality clothing. You will be amazed when you walk in this store. They great when you walk in. The merchandise selection is fantastic. Plus if you pay cash you get 10% off.</td>\n",
       "      <td>5</td>\n",
       "    </tr>\n",
       "    <tr>\n",
       "      <th>2</th>\n",
       "      <td>Cary Lane</td>\n",
       "      <td>3</td>\n",
       "      <td>Let just say I emailed the  owner stating I had no receipt and I made with cash. I'm still waiting several weeks later for what are my options.</td>\n",
       "      <td>2</td>\n",
       "    </tr>\n",
       "    <tr>\n",
       "      <th>0</th>\n",
       "      <td>San Fran</td>\n",
       "      <td>4</td>\n",
       "      <td>Whenever I come to San Francisco I always look out for cool local shops. This is one of them. Got a really cool hat and a mug. Anytime I'm able to buy a non typical souvenir, I'm happy!</td>\n",
       "      <td>5</td>\n",
       "    </tr>\n",
       "    <tr>\n",
       "      <th>1</th>\n",
       "      <td>San Fran</td>\n",
       "      <td>4</td>\n",
       "      <td>Very, very cool place. The T-shirt's are very soft, and I really liked the designs. Bought a tie dye onesie and a beanie for my granddaughter-on-the-way.  The staff was bright and cheery. I highly recommend this place.</td>\n",
       "      <td>3</td>\n",
       "    </tr>\n",
       "    <tr>\n",
       "      <th>2</th>\n",
       "      <td>San Fran</td>\n",
       "      <td>4</td>\n",
       "      <td>The staff here at the cafe and ice cream section generally can't be bothered to pretend to care about their customers.</td>\n",
       "      <td>2</td>\n",
       "    </tr>\n",
       "    <tr>\n",
       "      <th>3</th>\n",
       "      <td>San Fran</td>\n",
       "      <td>4</td>\n",
       "      <td>The staff that is not to bother with really downer vibes. The clothing is not worth the price tag. And in overall the premise of what the brand once was is completely gone. Completely avoid this place</td>\n",
       "      <td>4</td>\n",
       "    </tr>\n",
       "  </tbody>\n",
       "</table>\n",
       "</div>"
      ],
      "text/plain": [
       "  boutique_name  number_reviews  \\\n",
       "0     Cary Lane               3   \n",
       "1     Cary Lane               3   \n",
       "2     Cary Lane               3   \n",
       "0      San Fran               4   \n",
       "1      San Fran               4   \n",
       "2      San Fran               4   \n",
       "3      San Fran               4   \n",
       "\n",
       "                                                                                                                                                                                                                                                                                                                                                                                                                          reviews  \\\n",
       "0  I popped in here randomly the other day and was SO surprised! They had several of my favorite designers that I tend to shop online for through Revolve. Everything is brand new and heavily discounted...its like going into the MOST organized designer sample sale ever. I dont know how they do it, but so glad I discovered them! Highly recommend. Its not just one offs either...they have multiple sizes in everything!   \n",
       "1                                                                                                                                                                                             Are you tired of paying too much money for fashion and quality clothing. You will be amazed when you walk in this store. They great when you walk in. The merchandise selection is fantastic. Plus if you pay cash you get 10% off.   \n",
       "2                                                                                                                                                                                                                                                                                 Let just say I emailed the  owner stating I had no receipt and I made with cash. I'm still waiting several weeks later for what are my options.   \n",
       "0                                                                                                                                                                                                                                       Whenever I come to San Francisco I always look out for cool local shops. This is one of them. Got a really cool hat and a mug. Anytime I'm able to buy a non typical souvenir, I'm happy!   \n",
       "1                                                                                                                                                                                                      Very, very cool place. The T-shirt's are very soft, and I really liked the designs. Bought a tie dye onesie and a beanie for my granddaughter-on-the-way.  The staff was bright and cheery. I highly recommend this place.   \n",
       "2                                                                                                                                                                                                                                                                                                          The staff here at the cafe and ice cream section generally can't be bothered to pretend to care about their customers.   \n",
       "3                                                                                                                                                                                                                        The staff that is not to bother with really downer vibes. The clothing is not worth the price tag. And in overall the premise of what the brand once was is completely gone. Completely avoid this place   \n",
       "\n",
       "   star_ratings  \n",
       "0             5  \n",
       "1             5  \n",
       "2             2  \n",
       "0             5  \n",
       "1             3  \n",
       "2             2  \n",
       "3             4  "
      ]
     },
     "execution_count": 4,
     "metadata": {},
     "output_type": "execute_result"
    }
   ],
   "source": [
    "df_review1 = pd.DataFrame(dict_CaryLane)\n",
    "df_review2 = pd.DataFrame(dict_SanFran)\n",
    "coulmns = [\"boutique_name\",\"number_reviews\", \"star_ratings\",\"reviews\"]\n",
    "df_review = pd.concat([df_review1,df_review2], ignore_index=False)\n",
    "df_review\n",
    "\n",
    "#Convert date to datetime type before adding to dataframe:\n",
    "#df_review['date'] = df_review['date'].apply(lambda x: pd.to_datetime(x[0]))\n",
    "#'date':[12/20/2019,10/22/2019,1/6/2020], 'date':[8/7/2018, 6/17/2017, 9/9/2018, 2/23/2020]"
   ]
  },
  {
   "cell_type": "code",
   "execution_count": 5,
   "metadata": {},
   "outputs": [
    {
     "name": "stdout",
     "output_type": "stream",
     "text": [
      "boutique_name: San Fran \n",
      "\n",
      "reviews_summary: [\"Whenever I come to San Francisco I always look out for cool local shops. This is one of them. Got a really cool hat and a mug. Anytime I'm able to buy a non typical souvenir, I'm happy!\", \"Very, very cool place. The T-shirt's are very soft, and I really liked the designs. Bought a tie dye onesie and a beanie for my granddaughter-on-the-way.  The staff was bright and cheery. I highly recommend this place.\", \"The staff here at the cafe and ice cream section generally can't be bothered to pretend to care about their customers.\", 'The staff that is not to bother with really downer vibes. The clothing is not worth the price tag. And in overall the premise of what the brand once was is completely gone. Completely avoid this place'] \n",
      "\n"
     ]
    }
   ],
   "source": [
    "#get_all_reviews1 function: ???????????????????????????????????????????????????????????????????????????????????????????????\n",
    "'''adds all reviews related to one boutique to a single string '''\n",
    "\n",
    "def get_all_review1(boutique_names, df_reviews): \n",
    "    for boutique in boutique_names:\n",
    "        doc = [] \n",
    "        sub = df_reviews.loc[df_reviews['boutique_name'] == boutique]\n",
    "        for index, row in sub.iterrows():\n",
    "            doc.append(row[\"reviews\"])\n",
    "    print(\"boutique_name:\", boutique, \"\\n\")\n",
    "    print(\"reviews_summary:\", doc,\"\\n\" )\n",
    "    \n",
    "    \n",
    "boutique_names=df_review[\"boutique_name\"]\n",
    "#print(boutique_names)\n",
    "doc = get_all_review1(boutique_names, df_review)\n",
    "doc"
   ]
  },
  {
   "cell_type": "code",
   "execution_count": 6,
   "metadata": {},
   "outputs": [
    {
     "name": "stdout",
     "output_type": "stream",
     "text": [
      "boutique_name: Cary Lane \n",
      "\n",
      "reviews_summary: ['I popped in here randomly the other day and was SO surprised! They had several of my favorite designers that I tend to shop online for through Revolve. Everything is brand new and heavily discounted...its like going into the MOST organized designer sample sale ever. I dont know how they do it, but so glad I discovered them! Highly recommend. Its not just one offs either...they have multiple sizes in everything!', 'Are you tired of paying too much money for fashion and quality clothing. You will be amazed when you walk in this store. They great when you walk in. The merchandise selection is fantastic. Plus if you pay cash you get 10% off.', \"Let just say I emailed the  owner stating I had no receipt and I made with cash. I'm still waiting several weeks later for what are my options.\"] \n",
      "\n",
      "boutique_name: Cary Lane \n",
      "\n",
      "reviews_summary: ['I popped in here randomly the other day and was SO surprised! They had several of my favorite designers that I tend to shop online for through Revolve. Everything is brand new and heavily discounted...its like going into the MOST organized designer sample sale ever. I dont know how they do it, but so glad I discovered them! Highly recommend. Its not just one offs either...they have multiple sizes in everything!', 'Are you tired of paying too much money for fashion and quality clothing. You will be amazed when you walk in this store. They great when you walk in. The merchandise selection is fantastic. Plus if you pay cash you get 10% off.', \"Let just say I emailed the  owner stating I had no receipt and I made with cash. I'm still waiting several weeks later for what are my options.\"] \n",
      "\n",
      "boutique_name: Cary Lane \n",
      "\n",
      "reviews_summary: ['I popped in here randomly the other day and was SO surprised! They had several of my favorite designers that I tend to shop online for through Revolve. Everything is brand new and heavily discounted...its like going into the MOST organized designer sample sale ever. I dont know how they do it, but so glad I discovered them! Highly recommend. Its not just one offs either...they have multiple sizes in everything!', 'Are you tired of paying too much money for fashion and quality clothing. You will be amazed when you walk in this store. They great when you walk in. The merchandise selection is fantastic. Plus if you pay cash you get 10% off.', \"Let just say I emailed the  owner stating I had no receipt and I made with cash. I'm still waiting several weeks later for what are my options.\"] \n",
      "\n",
      "boutique_name: San Fran \n",
      "\n",
      "reviews_summary: [\"Whenever I come to San Francisco I always look out for cool local shops. This is one of them. Got a really cool hat and a mug. Anytime I'm able to buy a non typical souvenir, I'm happy!\", \"Very, very cool place. The T-shirt's are very soft, and I really liked the designs. Bought a tie dye onesie and a beanie for my granddaughter-on-the-way.  The staff was bright and cheery. I highly recommend this place.\", \"The staff here at the cafe and ice cream section generally can't be bothered to pretend to care about their customers.\", 'The staff that is not to bother with really downer vibes. The clothing is not worth the price tag. And in overall the premise of what the brand once was is completely gone. Completely avoid this place'] \n",
      "\n",
      "boutique_name: San Fran \n",
      "\n",
      "reviews_summary: [\"Whenever I come to San Francisco I always look out for cool local shops. This is one of them. Got a really cool hat and a mug. Anytime I'm able to buy a non typical souvenir, I'm happy!\", \"Very, very cool place. The T-shirt's are very soft, and I really liked the designs. Bought a tie dye onesie and a beanie for my granddaughter-on-the-way.  The staff was bright and cheery. I highly recommend this place.\", \"The staff here at the cafe and ice cream section generally can't be bothered to pretend to care about their customers.\", 'The staff that is not to bother with really downer vibes. The clothing is not worth the price tag. And in overall the premise of what the brand once was is completely gone. Completely avoid this place'] \n",
      "\n",
      "boutique_name: San Fran \n",
      "\n",
      "reviews_summary: [\"Whenever I come to San Francisco I always look out for cool local shops. This is one of them. Got a really cool hat and a mug. Anytime I'm able to buy a non typical souvenir, I'm happy!\", \"Very, very cool place. The T-shirt's are very soft, and I really liked the designs. Bought a tie dye onesie and a beanie for my granddaughter-on-the-way.  The staff was bright and cheery. I highly recommend this place.\", \"The staff here at the cafe and ice cream section generally can't be bothered to pretend to care about their customers.\", 'The staff that is not to bother with really downer vibes. The clothing is not worth the price tag. And in overall the premise of what the brand once was is completely gone. Completely avoid this place'] \n",
      "\n",
      "boutique_name: San Fran \n",
      "\n",
      "reviews_summary: [\"Whenever I come to San Francisco I always look out for cool local shops. This is one of them. Got a really cool hat and a mug. Anytime I'm able to buy a non typical souvenir, I'm happy!\", \"Very, very cool place. The T-shirt's are very soft, and I really liked the designs. Bought a tie dye onesie and a beanie for my granddaughter-on-the-way.  The staff was bright and cheery. I highly recommend this place.\", \"The staff here at the cafe and ice cream section generally can't be bothered to pretend to care about their customers.\", 'The staff that is not to bother with really downer vibes. The clothing is not worth the price tag. And in overall the premise of what the brand once was is completely gone. Completely avoid this place'] \n",
      "\n"
     ]
    }
   ],
   "source": [
    "#get_all_reviews2 function:\n",
    "'''adds all reviews related to one boutique to a single string '''\n",
    "\n",
    "def get_all_review2(boutique_names, df_reviews): \n",
    "    for boutique in boutique_names:\n",
    "        print(\"boutique_name:\", boutique, \"\\n\")\n",
    "        doc = []\n",
    "        sub = df_reviews.loc[df_reviews['boutique_name'] == boutique]\n",
    "        for index, row in sub.iterrows(): \n",
    "            doc.append(row[\"reviews\"])\n",
    "        print(\"reviews_summary:\", doc,\"\\n\" )\n",
    "        \n",
    "    \n",
    "boutique_names=df_review[\"boutique_name\"]\n",
    "#print(boutique_names)\n",
    "doc = get_all_review2(boutique_names, df_review)\n",
    "doc"
   ]
  },
  {
   "cell_type": "markdown",
   "metadata": {},
   "source": [
    "### Type 2"
   ]
  },
  {
   "cell_type": "markdown",
   "metadata": {},
   "source": [
    "#### Manipulate Review DataFrame for easy access to required data if necessary:"
   ]
  },
  {
   "cell_type": "code",
   "execution_count": 27,
   "metadata": {},
   "outputs": [],
   "source": [
    "#review related dataframe will contain \"number_reviews\", \"star_ratings\", \"reviews\" and \"boutique_name\" information.\n",
    "''' \n",
    "#write a function to separate all the related info for each boutiques:\n",
    "#1.group dataframe by each boutique_name using groupby method.\n",
    "#2.use the average star_ratings of all reviews as the unique star_rating of the boutique.\n",
    "#3.add all reviews of each boutique into one single list to analyse feedbacks, visualize results and create prediction models.\n",
    "#4.the average number of reviews will remain the same for each boutique.\n",
    "'''\n",
    "\n",
    "def df_checklist(dataframe):\n",
    "    #agg_function = {\"number_reviews\":lambda x: x.mean(), \"star_ratings\":lambda x: x.mean(), \"reviews\": lambda x:list(x)}\n",
    "    agg_function = {\"number_reviews\":lambda x: x.mean(), \"star_ratings\":lambda x: x.mean(), \"reviews\": lambda x:x.sum()}\n",
    "    #create DataFrameGroupBy object and conver it to dataframe using aggregate method:\n",
    "    df = dataframe.groupby(\"boutique_name\").aggregate(agg_function).reset_index()\n",
    "    return df "
   ]
  },
  {
   "cell_type": "code",
   "execution_count": 49,
   "metadata": {},
   "outputs": [
    {
     "data": {
      "text/html": [
       "<div>\n",
       "<style scoped>\n",
       "    .dataframe tbody tr th:only-of-type {\n",
       "        vertical-align: middle;\n",
       "    }\n",
       "\n",
       "    .dataframe tbody tr th {\n",
       "        vertical-align: top;\n",
       "    }\n",
       "\n",
       "    .dataframe thead th {\n",
       "        text-align: right;\n",
       "    }\n",
       "</style>\n",
       "<table border=\"1\" class=\"dataframe\">\n",
       "  <thead>\n",
       "    <tr style=\"text-align: right;\">\n",
       "      <th></th>\n",
       "      <th>boutique_name</th>\n",
       "      <th>number_reviews</th>\n",
       "      <th>star_ratings</th>\n",
       "      <th>reviews</th>\n",
       "    </tr>\n",
       "  </thead>\n",
       "  <tbody>\n",
       "    <tr>\n",
       "      <th>0</th>\n",
       "      <td>Cary Lane</td>\n",
       "      <td>3</td>\n",
       "      <td>4.0</td>\n",
       "      <td>I popped in here randomly the other day and was SO surprised! They had several of my favorite designers that I tend to shop online for through Revolve. Everything is brand new and heavily discounted...its like going into the MOST organized designer sample sale ever. I dont know how they do it, but so glad I discovered them! Highly recommend. Its not just one offs either...they have multiple sizes in everything!Are you tired of paying too much money for fashion and quality clothing. You will be amazed when you walk in this store. They great when you walk in. The merchandise selection is fantastic. Plus if you pay cash you get 10% off.Let just say I emailed the  owner stating I had no receipt and I made with cash. I'm still waiting several weeks later for what are my options.</td>\n",
       "    </tr>\n",
       "    <tr>\n",
       "      <th>1</th>\n",
       "      <td>San Fran</td>\n",
       "      <td>4</td>\n",
       "      <td>3.5</td>\n",
       "      <td>Whenever I come to San Francisco I always look out for cool local shops. This is one of them. Got a really cool hat and a mug. Anytime I'm able to buy a non typical souvenir, I'm happy!Very, very cool place. The T-shirt's are very soft, and I really liked the designs. Bought a tie dye onesie and a beanie for my granddaughter-on-the-way.  The staff was bright and cheery. I highly recommend this place.The staff here at the cafe and ice cream section generally can't be bothered to pretend to care about their customers.The staff that is not to bother with really downer vibes. The clothing is not worth the price tag. And in overall the premise of what the brand once was is completely gone. Completely avoid this place</td>\n",
       "    </tr>\n",
       "  </tbody>\n",
       "</table>\n",
       "</div>"
      ],
      "text/plain": [
       "  boutique_name  number_reviews  star_ratings  \\\n",
       "0     Cary Lane               3           4.0   \n",
       "1      San Fran               4           3.5   \n",
       "\n",
       "                                                                                                                                                                                                                                                                                                                                                                                                                                                                                                                                                                                                                                                                                                                                                                                                            reviews  \n",
       "0  I popped in here randomly the other day and was SO surprised! They had several of my favorite designers that I tend to shop online for through Revolve. Everything is brand new and heavily discounted...its like going into the MOST organized designer sample sale ever. I dont know how they do it, but so glad I discovered them! Highly recommend. Its not just one offs either...they have multiple sizes in everything!Are you tired of paying too much money for fashion and quality clothing. You will be amazed when you walk in this store. They great when you walk in. The merchandise selection is fantastic. Plus if you pay cash you get 10% off.Let just say I emailed the  owner stating I had no receipt and I made with cash. I'm still waiting several weeks later for what are my options.  \n",
       "1                                                                 Whenever I come to San Francisco I always look out for cool local shops. This is one of them. Got a really cool hat and a mug. Anytime I'm able to buy a non typical souvenir, I'm happy!Very, very cool place. The T-shirt's are very soft, and I really liked the designs. Bought a tie dye onesie and a beanie for my granddaughter-on-the-way.  The staff was bright and cheery. I highly recommend this place.The staff here at the cafe and ice cream section generally can't be bothered to pretend to care about their customers.The staff that is not to bother with really downer vibes. The clothing is not worth the price tag. And in overall the premise of what the brand once was is completely gone. Completely avoid this place  "
      ]
     },
     "execution_count": 49,
     "metadata": {},
     "output_type": "execute_result"
    }
   ],
   "source": [
    "df = df_checklist(df_review)\n",
    "df"
   ]
  },
  {
   "cell_type": "code",
   "execution_count": 55,
   "metadata": {},
   "outputs": [
    {
     "data": {
      "text/plain": [
       "\"0    I popped in here randomly the other day and was SO surprised! They had several of my favorite designers that I tend to shop online for through Revolve. Everything is brand new and heavily discounted...its like going into the MOST organized designer sample sale ever. I dont know how they do it, but so glad I discovered them! Highly recommend. Its not just one offs either...they have multiple sizes in everything!Are you tired of paying too much money for fashion and quality clothing. You will be amazed when you walk in this store. They great when you walk in. The merchandise selection is fantastic. Plus if you pay cash you get 10% off.Let just say I emailed the  owner stating I had no receipt and I made with cash. I'm still waiting several weeks later for what are my options.\""
      ]
     },
     "execution_count": 55,
     "metadata": {},
     "output_type": "execute_result"
    }
   ],
   "source": [
    "# test:\n",
    "pd.options.display.max_colwidth = 1000\n",
    "rows = df[(df.boutique_name == 'Cary Lane')]\n",
    "reviews = rows.reviews.to_string()\n",
    "# reviews = rows.reviews\n",
    "reviews"
   ]
  },
  {
   "cell_type": "code",
   "execution_count": 496,
   "metadata": {},
   "outputs": [
    {
     "name": "stdout",
     "output_type": "stream",
     "text": [
      "boutique_name: CaryLane \n",
      "\n",
      "review_summary: Series([], Name: reviews, dtype: object) \n",
      "\n",
      "boutique_name: San Fran \n",
      "\n",
      "review_summary: 1    [Whenever I come to San Francisco I always look out for cool local shops. This is one of them. Got a really cool hat and a mug. Anytime I'm able to buy a non typical souvenir, I'm happy!, Very, very cool place. The T-shirt's are very soft, and I really liked the designs. Bought a tie dye onesie and a beanie for my granddaughter-on-the-way.  The staff was bright and cheery. I highly recommend this place., The staff here at the cafe and ice cream section generally can't be bothered to pretend to care about their customers., The staff that is not to bother with really downer vibes. The clothing is not worth the price tag. And in overall the premise of what the brand once was is completely gone. Completely avoid this place]\n",
      "Name: reviews, dtype: object \n",
      "\n"
     ]
    }
   ],
   "source": [
    "'''\n",
    "input = list of boutique_names and the dataframe created for storing reviews\n",
    "dataframe columns: \"boutique_name\", \"number_reviews\", \"reviews\", \"star_rating\" and \"date\" optional\n",
    "output = a list of all reviews for each boutique_name\n",
    "'''\n",
    "\n",
    "def get_all_reviews3 (boutique_names, df_reviews):\n",
    "    for boutique in boutique_names:\n",
    "        row = df_reviews[(df_reviews.boutique_name == boutique)]\n",
    "        print(\"boutique_name:\", boutique, \"\\n\")\n",
    "        print(\"review_summary:\", row.reviews,\"\\n\")\n",
    "\n",
    "        \n",
    "        \n",
    "boutique_names = ['CaryLane',\"San Fran\"]\n",
    "df_reviews = df\n",
    "all_reviews = get_all_reviews3 (boutique_names, df_reviews)\n",
    "all_reviews"
   ]
  },
  {
   "cell_type": "markdown",
   "metadata": {},
   "source": [
    "### Type 3"
   ]
  },
  {
   "cell_type": "code",
   "execution_count": 266,
   "metadata": {},
   "outputs": [
    {
     "data": {
      "text/html": [
       "<div>\n",
       "<style scoped>\n",
       "    .dataframe tbody tr th:only-of-type {\n",
       "        vertical-align: middle;\n",
       "    }\n",
       "\n",
       "    .dataframe tbody tr th {\n",
       "        vertical-align: top;\n",
       "    }\n",
       "\n",
       "    .dataframe thead th {\n",
       "        text-align: right;\n",
       "    }\n",
       "</style>\n",
       "<table border=\"1\" class=\"dataframe\">\n",
       "  <thead>\n",
       "    <tr style=\"text-align: right;\">\n",
       "      <th></th>\n",
       "      <th>boutique_name</th>\n",
       "      <th>number_reviews</th>\n",
       "      <th>reviews</th>\n",
       "      <th>star_ratings</th>\n",
       "    </tr>\n",
       "  </thead>\n",
       "  <tbody>\n",
       "    <tr>\n",
       "      <th>0</th>\n",
       "      <td>Cary Lane</td>\n",
       "      <td>3</td>\n",
       "      <td>[I popped in here randomly the other day and w...</td>\n",
       "      <td>[5, 5, 2]</td>\n",
       "    </tr>\n",
       "    <tr>\n",
       "      <th>1</th>\n",
       "      <td>San Fran</td>\n",
       "      <td>4</td>\n",
       "      <td>[Whenever I come to San Francisco I always loo...</td>\n",
       "      <td>[5, 3, 2, 4]</td>\n",
       "    </tr>\n",
       "  </tbody>\n",
       "</table>\n",
       "</div>"
      ],
      "text/plain": [
       "  boutique_name  number_reviews  \\\n",
       "0     Cary Lane               3   \n",
       "1      San Fran               4   \n",
       "\n",
       "                                             reviews  star_ratings  \n",
       "0  [I popped in here randomly the other day and w...     [5, 5, 2]  \n",
       "1  [Whenever I come to San Francisco I always loo...  [5, 3, 2, 4]  "
      ]
     },
     "execution_count": 266,
     "metadata": {},
     "output_type": "execute_result"
    }
   ],
   "source": [
    "#another version of dataframe to get the review lists instead of strings:\n",
    "df_reviews = pd.DataFrame ([dict_CaryLane,dict_SanFran])\n",
    "coulmns = [\"boutique_name\",\"number_reviews\", \"star_ratings\",\"reviews\"]\n",
    "df_reviews"
   ]
  },
  {
   "cell_type": "code",
   "execution_count": 499,
   "metadata": {},
   "outputs": [
    {
     "data": {
      "text/plain": [
       "[['I popped in here randomly the other day and was SO surprised! They had several of my favorite designers that I tend to shop online for through Revolve. Everything is brand new and heavily discounted...its like going into the MOST organized designer sample sale ever. I dont know how they do it, but so glad I discovered them! Highly recommend. Its not just one offs either...they have multiple sizes in everything!',\n",
       "  'Are you tired of paying too much money for fashion and quality clothing. You will be amazed when you walk in this store. They great when you walk in. The merchandise selection is fantastic. Plus if you pay cash you get 10% off.',\n",
       "  \"Let just say I emailed the  owner stating I had no receipt and I made with cash. I'm still waiting several weeks later for what are my options.\"],\n",
       " [\"Whenever I come to San Francisco I always look out for cool local shops. This is one of them. Got a really cool hat and a mug. Anytime I'm able to buy a non typical souvenir, I'm happy!\",\n",
       "  \"Very, very cool place. The T-shirt's are very soft, and I really liked the designs. Bought a tie dye onesie and a beanie for my granddaughter-on-the-way.  The staff was bright and cheery. I highly recommend this place.\",\n",
       "  \"The staff here at the cafe and ice cream section generally can't be bothered to pretend to care about their customers.\",\n",
       "  'The staff that is not to bother with really downer vibes. The clothing is not worth the price tag. And in overall the premise of what the brand once was is completely gone. Completely avoid this place']]"
      ]
     },
     "execution_count": 499,
     "metadata": {},
     "output_type": "execute_result"
    }
   ],
   "source": [
    "#get_all_reviews4 function:\n",
    "'''adds all reviews related to one boutique to a single string '''\n",
    "\n",
    "def get_all_reviews4(boutique_names, df_reviews):\n",
    "    doc = []\n",
    "    for boutique in boutique_names:\n",
    "        a = df_reviews.loc[df_reviews['boutique_name'] == boutique]\n",
    "        reviews = a['reviews'].tolist()[0]\n",
    "        doc.append(reviews)\n",
    "    return doc\n",
    "\n",
    "\n",
    "boutique_names=df_reviews[\"boutique_name\"]\n",
    "doc = get_all_reviews4(boutique_names, df_reviews)\n",
    "doc"
   ]
  },
  {
   "cell_type": "markdown",
   "metadata": {},
   "source": [
    "## The NLP_Project dataframe:"
   ]
  },
  {
   "cell_type": "code",
   "execution_count": 509,
   "metadata": {},
   "outputs": [
    {
     "name": "stdout",
     "output_type": "stream",
     "text": [
      "Boutique_name: Kisha Studio Fashion Boutique \n",
      "\n",
      "reviews_summary: ['[\"Your trust is our top concern, so businesses can\\'t pay to alter or remove their reviews. Learn more.\", \\'Start your review of Kisha Studio Fashion Boutique.\\', \"Oh my goodness im so in lovewith the dress that I received from kisha studio today. \\\\xa0I ordered a black dress that I saw on Instagram on Tuesday the 21st of April it arrived at my mailbox in 4 days. \\\\xa0How awesome is that. \\\\xa0I really wanted this dress so I asked about it how would it fit because I\\'m a short chick and yeah that\\'s my problem. But she insured me that it will be okay so I said yes please i want it.. I gave her my cc info thru direct message thru instatram and boom i hit a tracking number. \\\\xa0Watched it as it came across the Pacific ocean.. i was so excited.. If you really want something cute please follow them on social media. I have another order being delivered on Monday and looking forward to that one to.Oh I forgot to mention it was 36 bucks shipped. \\\\xa0No tax no shipping and handling fee..Now that\\'s perfect.\", \\'I love Kisha! \\\\xa0I always find something I need and want there. Kisha is so helpful and awesome. She always gives great fashion tips, which I need!Price is right and stuff is super cute. \\\\xa0Great customer service too. Shop local!\\', \\'This shop has the most adorable selection of clothes and they were having a 4th of July sale where everything was 15% off. They had quite a few prints that were appealing and prices were very reasonable. The owner is very friendly and sweet as well.\\', \"I\\'ve been shopping here for two years now, and I will definitely continue to shop here for unique and fashionable clothes. \\\\xa0I\\'ve gotten compliments on everything I\\'ve worn here. \\\\xa0I\\'m actually wearing a shirt I\\'ve gotten at Kisha right now!I\\'ve gotten to know Cindy, the owner, and she\\'s the most lovely person you can ever meet. \\\\xa0She always has a big smile when my roommates and I enter the shop, and she already knows exactly what our tastes in clothing are. \\\\xa0Once we start browsing, she already has pieces in mind and shows us. \\\\xa0It\\'s very, very rare that I exit the store empty handed. \\\\xa0Price point average is $55, so it\\'s reasonable, especially since there aren\\'t a lot of the same items in stock. \\\\xa0Once they\\'re gone, they\\'re gone.. so if you see something you like on Facebook, you better place an order or visit the store asap. \\\\xa0And that\\'s another aspect of why I like this store. \\\\xa0The constant change inventory keeps it fresh, and keeps your wardrobe unique.I love shopping here!\", \"Can\\'t get enough of this store! The clothes they sell are unique and reasonably priced. \\\\xa0I also love how they\\'re active on Facebook. \\\\xa0If I have any questions or comments, I get a response right away.And I can\\'t emphasize how friendly the staff is. \\\\xa0It\\'s the best customer service I\\'ve ever experienced. \\\\xa0And it\\'s what I experience every time I\\'m there.\", \"I love this store! Friendly staff and cute clothes. \\\\xa0I\\'m so glad this store exists.\", \\'LOVE LOVE LOVE Kisha Studio! Cindy is awesome and has the magic power to find you the perfect piece regardless of your needs. My friend who lives in LA even told me to bring her here on her next visit.Here\\\\\\'s a very recent example. I went in over the weekend looking last minute for a dress to wear to a wedding. Cindy grabbed two maxi dresses for me to try on. Now I\\\\\\'m 5\\\\\\'3\" aka short and never wear maxi dresses. But both dresses fitted perfectly and looked so good on me that I seriously thought about getting both. Not only did she completely changed how I felt about maxi dresses, she also saved me from a trek downtown and the crowd at the mall. Told you it\\\\\\'s magical!I actually do most of my quarterly shopping spree here at Kisha Studio now, and browse on Instagram a few times a week, which btw is super convenient. You can even message them via IG to ship or save a piece for you.The clothes are unique - no more walking down Market and seeing three people with the same shirt on! Prices are very reasonable for what you get. And just excellent service and wonderful shopping experience from Cindy and team!\\', \\'I LOVE LOVE this boutique. I have done both shopping online and visited the store. Shopping online is so easy. They post regularly on instagram. I will then direct message the store and send a screen shot of the items I want, and size. Cindy responds almost immediately!! Transaction is done via paypal, and the item is shipped the same day. Shopping in the store, Cindy and her assistants are beyond helpful and extremely patient and friendly. I just love their clothes they are perfect for work or going out.\\', \\'So I\\\\\\'m not bias or anything but yes this store and I have the same name! I\\\\\\'ve been shopping at this boutique for over 8 years and they treat me so so good. The selection of items are very well made and very well priced. They do their best to make sure they have items for petite-curvy ladies. I live in Oakland but travel to the city often to see them. I also follow them on Instagram and if I see something I like, I let them know and it\\\\\\'s in the mail! Cindy and her employees have great customer service...Take it from Kisha when I say \"Kisha\\\\\\'s Studio is the bomb.com\".....check them out just don\\\\\\'t take my item in my size!\\', \"I was in the neighborhood and finally got a chance to check out this boutique - ended up with 3 lovely tops (a buttery long sleeve lace, a ruffled sleeveless sheer with gold & yellow flowers and a long sleeve with multi-colour butterflies) and the sweet owner gave me a 10% off of my purchase; can\\'t wait to come back soon the next time I\\'m in the area\", \"Great selection of super cute tops! Cindy was very nice and helped me pick out several tops that would be great for work or a casual night out :) I\\'ll definitely be back!\", \"Kisha never fails to amaze me, this is seriously a hidden gem on clement st. They have something for every occasion! Work, casual, wedding formal, special night outings, you name it. I esp love their beautiful selection of dresses and rompers. The staff here is also very friendly which is a plus plus:) bottom line, I always leave happy shopping here. Thank you Cindy!! I\\'ll be back soon.\", \\'High quality and beautiful clothes. Love the styling of the place. Very nice staff. Definitely going to buy more here.\\', \"Kisha Studio always carries the most fashionable and cutest items that are in season: fancy and casual dresses, flowy tops, simple cardigans and sweaters, pants, handbags, scarves, and even jewelry.Customer service is impeccable; the owner, Cindy, is friendly, suggestive with the clothing, and very responsive through the Facebook webpage when making requests or asking questions.Of the few times I visited this hidden gem in the Inner Richmond, I\\'ve always found something to my liking and tried it on, but I\\'ve also left empty-handed. Several items run petite, but it\\'s still a hit or miss for me. Items are priced reasonably to slightly expensive; tops run anywhere from $30-60 and dresses anywhere from $40-80, but I guess that\\'s pretty standard pricing for small boutiques. The store is very organized and clean, and Cindy is very sweet and willing to help you find any item for any occasion!\", \"Needed an outfit for a party and wasn\\'t sure what to wear. Cindy grabbed me a few things and before I knew it I had the perfect thing to wear! Go check her shop out or her Instagram page. If you find something you like she will hold it for you. :)\", \"LOVE this boutique! \\\\xa0Cindy and her team are so hard working and always serve to make me feel happy in my clothes. \\\\xa0Cindy has a wonderful eye and is great with picking out things for me to try (even when I don\\'t feel like it!) \\\\xa0She knows what will look great on me and I\\'m so grateful for her customer service! \\\\xa0Her items are reasonably priced and great quality with a unique flare, so I\\'m always excited to check out the new items in her store. \\\\xa0Things move quickly, so if you like something, get it! \\\\xa0Cindy also has a great Instagram account and she is really responsive and can ship you items without coming into the store. \\\\xa0Thanks Cindy, you are the best!!!\", \"I really love this small boutique! They always have tons of cute dresses in stock however they do run out of smalls quite frequently and I\\'m not even sure if they carry XS. I occasionally find it hard for the smalls to fit me right (or maybe it\\'s my weird shaped body) but I do love the styles they sell and the variety. Every time I\\'ve been in here it\\'s been well organized, clean, and tidy which I like (unlike you F21). The woman who I usually chat with behind the counter (I think she might be the owner) is so nice and funny! Sometimes when I check out we have 20 minute convos! Wish I caught her name!\", \"I love popping into this cute boutique while strolling down Clement St and after finding the PERFECT dress here for a recent wedding I had to write a review!This boutique has unique pieces at super reasonable prices and I love that there is always new stuff coming in every week! \\\\xa0The owner is always friendly but does not bother you while you browse.I especially love the selection of cute dresses here, I\\'ve bought two dresses here so far and I\\'m looking forward to more cute finds! \\\\xa0Definitely follow the Kisha facebook and instagram account for updates on new selections at the store, and there is also an option to purchase directly through facebook and instagram! \\\\xa0So glad this gem is in my hood!\", \\'Nice shop in this eclectic shopping area. Not really my style but it did have a nice mixture of things. Prices were not unreasonable but clothing definitely in the 20-30 something age group.\\', \\'One-of-a-kind neighborhood boutique with pieces for any occasion. They are stocked with a wide selection of clothing and accessories, many in unique styles and prints and are gone quickly once the sizing is sold out. Their dress selection is amazing - I have at least five dresses from Kisha, from formal to casual wear. The pricing is also very reasonable - usually ranging $40-60 for dresses, sometimes less if there is a sale. The girls are Kisha are so friendly and helpful, they suggest items that suit your frame and style preferences. That being said, the owner (Cindy), is wonderful and does an amazing job bringing in modern, relevant pieces on a frequent basis and continuously updates new looks on the business Facebook page.\\', \\'What an amazing shop! Yes it is way out in the Richmond, but so happy I made the trek out! There were so many awesome dresses to choose from. The owner was absolutely adorable and super helpful. She was kind enough to even give me a 15% discount on my dresses! I left with two dresses (for weddings) and a clutch.. for $158.. what a steal! Will def be back for my next round of wedding dress shopping!\\', \"I love this boutique. I\\'ve lived in the neighborhood for 15 years and had never noticed the boutique on clement until recently. I just did my Xmas shopping here and love that the clothing is inexpensive, good quality, and for both young women and older women.They have hip casual clothing, boho sweaters, dresses, and more conservative work wear.I will def be back again!\", \"Your trust is our top concern, so businesses can\\'t pay to alter or remove their reviews. Learn more.\", \\'Start your review of Kisha Studio Fashion Boutique.\\', \\'Never expected to buy anything in California these days. My clothing taste has predominantly been with the \\\\xa0French designers, in France during their le soldes season, every year, maybe on occasion picking up a piece here and there during my travels but never in California, which was how I had always been in my 20s. Finished dinner and saw a mob of people on Clement, young, youngish, families. Turns out it was the Richmond microhood Thursday eve. I stopped by one stop that sold gifts and tees, mobs of people and nothing that exciting, the next door was okay as well, and then the third was Kisha and the owner was the one who greeted me. A cute young Asian designer, who offered free champagne and 10% off everything.We women are vain creatures. We like sizes that are smaller than we had anticipated. That\\\\\\'s a fact. If you are a size 10, and you can fit a size 8 in a particular store, you may want to pick that up, it\\\\\\'s human nature. I had exactly 5 minutes to browse before the next event. My GF had a glass of champagne and was supposed to be the one who told me it was time to go, but she was happily browsing as well. Spotted a blue dress. Tight fit, size looked snug, sort of like Bebe sized, designed for petite Asian woman, Ordinarily, I\\\\\\'d wear a size medium but out of curiosity I picked up a size small just in case as well. \\\\xa0Store owner, the same cute Asian woman, brought me to the back dressing room and told me that given the cut, I may need to do the medium. All right. I did. It fit funny. Disappointed but relieved that my allotted time was up, I was about to leave when she said, \"Wait, I know why, you need to go small.\" I was very skeptical. Medium seemed right. But under her advice, I did, it fit well. A bit snug but sort of built for my body type. She laughed. \"I know my clothes.\" She apparently was not just the owner but the designer. Here I was, walking out of a shop, owning a piece of cute blue dress, fit just right. As a petite Asian woman myself, finding clothes that fit well in America is a challenge. In France is where women like me go, but not any more. Clement street\\\\\\'s KS may see more of me. Next time, allow more time.\\', \"Been coming to this boutique for a few months now and I absolutely love it! They have a Facebook and Instagram page that I follow. I also enjoy the fact that they update their social media sites frequently with the new shipments of clothes that came in. That way I don\\'t have to go into the store and can see what\\'s in stock from the convenience of my laptop at home or on my phone when I\\'m out and about! Pro-tip: if you see a picture of an item you like posted on their IG or Facebook page, you can comment on the picture or message them on Facebook with your size and ask for them to hold it and they\\'ll be more than happy to help you out!Their in-store customer service is fantastic as well! I\\'ve gone in a few times to look at some tank tops, dresses, and work tops! If the clothing item of choice doesn\\'t work for you for whatever reason, no big deal! They don\\'t push sales on you. Clothes are decently priced to the more expensive side depending on what you buy. Approximately 25-40 for tops and a little bit pricier (close to 50) for some outerwear. Oh! They also have a rewards system! You get a point for every dollar you spend.\", \\'Loved this shop! Was in the area staying across the street and stumbled into this adorable shop!! I am seriously in love with all the clothes and walked out with a handful of items. All their items are so breezy and fresh! This is a must stop when you are spending the day shopping!\\', \\'This is where I go to make my \"Pinterest closet\" come to life.One of my favorite gems in San Francisco. Definitely a diamond in the rough.The service here is awesome. From other reviews I\\\\\\'ve gathered that Cindy is the name of the woman that is typically at the store. She\\\\\\'s so great. She is always very welcoming and receptive and a perfect balance between offering help while not being over-bearing. In such a small boutique, it\\\\\\'s quite hard to find that combination. She\\\\\\'s very receptive to letting you browse in peace but if you ask for help or suggestions she\\\\\\'ll jump right out of her seat and manage to grab the perfect piece right off the racks for you. She\\\\\\'s great at helping with the fitting room (i.e. giving feedback on any of the items I try on). She\\\\\\'s obviously very passionate about her store and her products.I\\\\\\'ve never ever regretted buying anything from here. The highlight of the store is its dress selection. I have found an enormous selection of dresses: business appropriate, sundresses, club attire, even dresses for formal social events such as weddings or showers. I\\\\\\'ve bought two structured business dresses that I wear frequently and receive compliments on every time I wear. The construction makes me feel really confident. I also bought a tighter fitting dress that I\\\\\\'ve worn on multiple occasions but I\\\\\\'ve had it for about two to three years now and it\\\\\\'s still holding up. She has a great collection of sweaters and jackets. While I\\\\\\'ve never bought a jacket, I really want to. And the sweater I have bought is one of my favorite lazy-but-not-slobby sweaters to wear around the city.My biggest tip is to try everything on. Some of her pieces look fabulous on the hangers but sit weird when I put them on, and I\\\\\\'d say I have a pretty average build.My few criticisms are that I wish some of the prices were lower. I\\\\\\'ve found dresses and fallen in love with them but I\\\\\\'m not sure I wanted to pay $85 for a dress whose designer I\\\\\\'ve never worn before so I don\\\\\\'t know how it will hold up in the future. So if I find a dress in this situation, I\\\\\\'ll usually periodically pop in to see if it\\\\\\'s on sale.I\\\\\\'m also not too confident that she has enough dresses for bustier women above a dress size of ten. I know her store is small, but I wish she had more sizing options in many of her pieces. Ultimately, I love how Cindy appreciates her customers. When she\\\\\\'s gone to a showing and comes back to SF with random trinkets such as earrings, nail polish, or other handouts she\\\\\\'s received, she\\\\\\'ll often just give them to us even if we only pop in without buying anything. I\\\\\\'ll return again and again to this boutique.\\', \"Love Love Love!I came on a special opening night and Cindy was an absolute doll! I\\'m from out of town and would compare this cute boutique to langford market or Lavo here in Houston. I would definitely order outfits from online or visit everytime I\\'m in the Bay area. I purchased a hot pink pleated dress with studded/jeweled cap sleeves and a light turquoise blue shirt with a gold sequined peter pan collar. I\\'ve received compliments from my boss and girl friends while wearing the shirt, and tons of love with the dress on while out on the town! Since I was on a 3 week \\\\xa0vacation I had to resist buying the whole store, but happily left with the dress and shirt under $140 and with complimentary eyelashes.\", \\'I stumbled across this little boutique and I really really love the service there. The owner, Cindy, is often there and she has a great eye for fashion and what would look good on each person according to their body type. She\\\\\\'s never suggested anything that didn\\\\\\'t look flattering and had often suggested items that, to my surprise, became the highlight of my wardrobe. She makes looking beautiful fun.The clothes are reasonably priced and she often throws in special free gifts like jewelery, belts or tanks, to help make an outfit. I appreciate that because I don\\\\\\'t have an eye for accessories. Today was the opening of the new store and I was impressed with all the familiar faces that I saw. I guess I\\\\\\'m not the only \"Kisha Studio\" fan.\\', \"I love this place!!! They have such cute clothes. I\\'m really glad they have the loyalty program, it\\'s really a great deal. I always find something I love.If your a native or a visitor this is a place you must visit. The staff is so friendly and sweet! I love the owner.\", \"The customer service at Kisha is pretty unparalleled. I can\\'t wait to come back here and pick up some more fashionable wear. It\\'s places like Kisha that make shopping experiences both enjoyable and fruitful. They have it all and the staff here will really work with you to help you find unique pieces that resonate with your personality.Looking forward to rocking my two new dresses, which were personally hand delivered to my door.Trust.\", \"Customer service goes very far in life. You can have stellar food and clothing at a business - but if the customer service is lacking \\\\xa0- it can be hard to retain regular customers and difficult to keep momentum in our fast changing business climate.Kisha Studio not only carries a darling selection of affordable fashionable dresses, coats, and tunics, but the staff here go above and beyond to make sure that every customer walks out feeling great.While waiting for dinner reservations at B Star - I stumbled into Kisha Studio and was instantly enchanted by the warm vibe within the place. As soon as I entered the lady at the counter offered to get me tea and offered her assistance when it came to finding sizes and styles. In a matter of minutes I had decided on two outfits. Both of them were adorable, well cut, and best of all - extremely well priced at just around 40 dollars each. Since I was going to show later on in the evening \\\\xa0- I was reluctant to buy the items at that moment, since I have a horrible track record for losing items. The lady behind the counter \\\\xa0-was so obliging, that she offered to even drop the items off to me later on in the week - during her weekly errands. When do you ever get customer service like that?!!! I bought both dresses, then and there \\\\xa0-and I can\\'t wait to rock them.The rave reviews of this boutique are well deserved and true. A boutique that strives to make sure that their selection is diverse, fashionable, and affordable, and does so with affable ease and love - is definitely my kind of store.Trust.\", \\'Super cute boutique with some really good finds: and the girl who was working was so sweet and gorgeous and very helpful - great experience\\', \"My mom has been a frequent customer of this boutique for years now and told me to check it out myself (this was right after she had told the owner I was looking for a job after being laid off back in 2008 after hearing they might be needing some part time help.) So, the whole job thing hasn\\'t quite worked out yet, though I finally paid the owner a visit today to check out the clothes and see if I could find some of the items I had been eyeing on their site.Sure enough, I walk in and the owner is very friendly and welcoming. Right away, I am offered champagne and grapes. The boutique isn\\'t very big but all the clothing and accessories are really nice and one of a kind items. They even have certain popular knock offs of bags, necklaces and other items. Prices range from $10-80 or so, depending on the item and label, which isn\\'t so bad if you do have a job. After chatting a bit with the owner and finally finding the cute royal blue tear drop necklace on a linked chain I was searching for, I was so excited about getting an additional 10% off for just checking in on Yelp.Once I do get me a job or they finally have an opening (whichever comes first) I will be stopping by more often to get my designer knock off fix!\", \\'Kisha studio is my favorite and the only boutique store I trust and go to. \\\\xa0They are always restocking with not just the current fashion, but also up & coming fashion. The pieces are one of a kind and the staff is amazing!!! The owner, Cindy is so helpful and every single piece she recommends that pushes me out of my comfort zone of style gets so many comments.Go there often and visit their facebook site as they have new inventory all the time.\\', \"I discovered this sweet boutique through The Bold Italic\\'s Block Party and since it was a wee packed inside I decided to come back another time. Even when there was 10+ people inside the owner seemed to find her way to me and offer me some champagne.I came back today and found a cute sweater and received the same friendly welcome \\\\xa0from her and another staff member. Nothing says more than consistent customer service on two separate occasions. Also doesn\\'t hurt that the store is impeccably organized by color, style, and discount :)\", \"I bought here some summer dresses and blouses and i\\'m absolutely happy with the quality and the service. Great fashion boutique, i\\'m glad i found it!\", \"My favorite boutique of ALL time!! The staff are so friendly and always helpful. I never walk out with just one item and now that I\\'ve moved further away from the inner Richmond I still make it a point to go a few times a month. Affordable and quality pieces here. There are a wide range of colors and styles and there are always new shipments every week!\", \"LOVE this boutique! They have amazing dresses for all occasions, as well as cute tops and jackets. Cindy the owner makes great suggestions, and she is so friendly and stylish herself! I\\'m addicted to buying clothes from here, and it\\'s dangerous for my wallet but every piece is a great addition to my wardrobe. I wear everything that I buy from here often, and I always check their Instagram page for new stuff.\", \"Here are the positives: the employees here are nice and welcoming, greeting you the second you walk into the store. I love the spacious area and the organized racks. The clothing is relatively inexpensive for boutiques - from $10-$70. This isn\\'t a place to find timeless pieces but is a place to find a cute dress for a night out or some seasonal wear. Here are the negatives: I usually can\\'t find things in my size, but this is a problem not uncommon for me in smaller boutiques. I\\'m petite and am usually a XS to S, so most clothing here do not fit me well because in my experience they only carry L, M and S regular clothing. It\\'s hard finding a S here sometimes too, but you can always ask the employees if they have a different size in the back and they\\'ll tell you. In my experience, you have a higher chance of scoring clothing if you\\'re an M. Stop by for their jewelry and their sales racks! And I bet if you really fell in love with something, they could let you know if they ever restock (I\\'ve never tried this, but they seem nice enough to do that).\", \"This is my fave boutique store in SF. The clothes are reasonably priced, there is always a lot of new stuff each week, the service is wonderful (Cindy is fantastic) and they post updates regularly on Facebook so that you can see what\\'s new before going into the store - and they\\'re very responsive about holding the item if they can for you to try it on. I have bought so many clothes there - gifts for girlfriends, maxi dresses and skirts, tops. Would definitely recommend checking it out.\", \"Had some time to kill yesterday and have been hating everything in my closet, so I looked up shopping options and found Kisha\\'s Boutique. I was very apprehensive because it is near laurel heights ($$$$). But after walking thru the first rack of clothes, I was pleasantly surprised. Not only are these clothes adorable, they are extremely reasonable. Plus you get to meet Cindy, the sweetest and non-pushiest owner I have ever met. So helpful, so positive and so cute! I will definitely be making this my local SF shop for retail therapy. Love the Instagram presence as well \\\\xa0Kisha FTW\", \\'The best boutique on this side of town! This place satisfies my type of clothing. Cindy is truly amazing and super friendly. Great customer service and always willing to help you find what you are looking for. I definitely recommend shopping here!!!\\', \"My friend brought me here for an event they were having. She told me I\\'d like it, and as soon as I walked in, I found the blue scarf I\\'d been looking for. Not only that, I found THE yellow dress I\\'ve been searching for for the past 2 years. It was just how I wanted it in the shade I envisioned it to be too. Woo, I was a happy girl!The prices vary, so I didn\\'t think that they were cheap, but they weren\\'t incredibly expensive either. I liked the variety of choices they had for different tastes. It\\'s a small boutique, but big enough. The service was awesome! The girl who was there was very sweet and even though she was busy, was good about trying to help or greet everyone when needed.\", \"Your trust is our top concern, so businesses can\\'t pay to alter or remove their reviews. Learn more.\", \\'Start your review of Kisha Studio Fashion Boutique.\\', \\'Love this little boutique! Owner is super helpful, I always find something to bug here!\\', \\'A unique and fashionable store. They are well active on facebook page. Get your questions answered right away.Price are very reasonable and affordable.Love it !!!!\\', \"Loved all the dresses and tops in the store - great variety for ladies 20+ up. The girls working there were really nice and helpful. Love their sale rack - some great steals. Prices are just right or a little expensive depending on the items (~$40-50 for a dress, for example). They also have a nice rewards program that can get you $5 off a subsequent purchase when you accrue 150 points (100 when you\\'re join, $1 spent = 1 point). Will come back.\", \"Thank you so much to the beautiful ladies at Kisha Studios for helping me find my perfect dress for Vegas. \\\\xa0I got so many compliments! The dresses I tried on fit really well. Super flattering for all body types and does not hurt your wallet. \\\\xa0If you are in the area, I highly recommend to stop by. \\\\xa0Even people like me who don\\'t like to shop really would really enjoy your experience here.Thanks! Thanks! Thanks! \\\\xa0Love you girls!\", \"I first heard of Kisha Studio because they were doing a facebook offer [come in for a free necklace or nail polish], but as I browsed their facebook page, I fell more and more in love with them! I didn\\'t have a dress for a wedding that weekend, so I really wanted to come in and try some clothes on but I wasn\\'t sure if I would have time, so when I messaged hte owner, Cindy, she said she could ship the clothes I wanted for me for free [because I wanted 2-3 items]! She\\'s sooo nice!! Anyway, the boy offered to take me the day before the wedding [cutting it close I know.. haha..], so yay! We got there right when she opened and right when she got there, she pulled the items I\\'d inquired about off the racks for me. She told me to feel free to look around for a bit as she got the dressing room ready, so I grabbed a few more items. I loved almost everything I tried on oh my goodness. I ended up finding the perfect dress to wear to my cousin\\'s wedding, as well as a few other items... It\\'s a good thing I don\\'t live up in SF otherwise I\\'d be here all the time.. but the again, she ships, so my wallet may be in danger... uh oh. :PBut seriously, this was the best shopping experience I\\'d ever had! I knew Cindy\\'s opinion on the clothes I tried were genuine [not just flattery to get me to buy more], and that was just so awesome. I love Kisha!!\", \"Several months after the grand opening, I stopped by Kisha Studio Fashion Boutique once again to see how things were going. I must say that they\\'re doing great, and it\\'s understandable why. The clothes are absolutely adorable, and the customer service is top-notch. It took a lot of self-control not to buy everything on the spot. The styles are always changing! I receive monthly emails with their latest and greatest. If you\\'ve visited and liked what you saw, be sure to get on their mailing list! Unfortunately, there are only two dressing rooms! But it also makes the whole shopping experience more personal. I don\\'t mind getting the feedback from Cindy or the other shoppers. In fact, I was talked into getting this awesome dark blue button-down dress that I\\'ve worn out as a shirt over pants. Go go, Gadget Legs!I\\'ll stop in again when I want to gift myself with something new and cute. Looks like you can order online, and there\\'s an Ebay store to come as well!\", \"This is no placeholder. While this business listing did not exist on Yelp yesterday, it does now! I had a chance to stop in at Kisha Studio Fashion Boutique on the first day of the grand opening week. Picked up a cute dress. Er, more of a top because my legs are a little too long, and if I don\\'t wear pants or leggings with it, those around me will see a little too much of me.The owners, Cindy and Lin, transformed this former frame shop into a cute women\\'s fashion boutique featuring dresses and tops [some casual, more on the dressy, going out side] in their own designs, as well as several other brands. They are such sweet gals - friendly and helpful. If you let \\'em know what you\\'re looking for or give them an idea of what your style is, they\\'ll look around the store for you.There\\'s free parking [2 spots] for customers right out front. This is extremely handy in the neighborhood, considering the boutique\\'s proximity to Blue Danube, Murasaki, Green Apple, Toy Boat, and -gasp- Burma Superstar [Mandalay is not too far away either]!\", \\'Ah, how could I have missed this place, since the fabulous mz. tinna reviewed it months ago??? \\\\xa0So, RIGHT behind Martha Bros. coffee shop on Clement is this adorable adorable boutique!Shops like this make me wish it were always 77F and sunny in our great city.... they have some kay-yute sundresses and tops, many of pure silk, some designed by the owners of the boutique itself. I picked up a silk sundress with spaghetti straps... Which I am absolutely in love with. The owners, Cindy and Lin (who hail from Hawa\\\\\\'ii and China, respectively,) are super friendly- I admire how much effort they are putting in to their new endeavor! Next time, I\\\\\\'m going to take a closer look at their accessories, including their bags and such. A quick glance at the \"sandwich board\" \\\\xa0on the corner brought Kisha Studio to my attention, and I walked in. It is a rare occasion that I walk into a shop and think that I might *like* to buy almost everything, at every turn. Check out their styles atkishastudio.com It\\\\\\'s right near WaMu (my bank... how CONVENIENT, now I can just turn around, deposit my check, and spend it all here!)\\', \\'This is the most awesome boutique store ever. The girls that work here are co-owners and they are the sweetest girls. They pick out the greatest pieces for their store. My cousin found this place and everytime she goes in, has found something awesome.This was my first time going as I don\\\\\\'t live in SF, but I must make a stop from now on! I picked up this awesome corset back coat that can double as a dress and a slick party dress we named \"the slash.\" My friend and cousin grabbed yoga pants, a really cute blouse and jewelry. The blouse was too big, but the girl fixed it for us, and told us to get some coffee and come back in half an hour. It fit perfectly after and we were ecstatic.So many cute items and great customer service.\\', \"This is my favorite boutique! I\\'m always checking Facebook and Instagram for new arrivals and she ships them all the way to Kaua\\'i! Easy to purchase and I always get tons of compliments when I wear clothes from her store.\", \"Kisha Studio is my go-to fashion store! \\\\xa0Cindy always finds something amazing that I can wear to any occasion! \\\\xa0Whether it be partying in Vegas dresses, ringing in the New Year outfits, work blouses or something simple for everyday use, she has impeccable fashion sense and is always making me look good. \\\\xa0I live in Seattle so I usually check the Kisha Studio Facebook page for all the newest items and she\\'s very accommodating when it comes to shipping them to my house!\", \"Love, love, love this shop! \\\\xa0This review is about a year overdue -- that\\'s how long ago it\\'s been since I first set foot at Kisha\\'s. \\\\xa0It\\'s like shopping at your fashionista sister\\'s closet because you don\\'t feel rushed or pressured as you look thru all the cute stuff on display. \\\\xa0Cindy makes sure your experience is positive. \\\\xa0She goes above and beyond and I\\'ve always left very satisfied with my purchases. \\\\xa0I\\'ve taken a couple of my girlfriends here and they both couldn\\'t resist the fall collection last year. \\\\xa0Great service. \\\\xa0Cute shop. \\\\xa0A mix of classic and unique pieces you will only find at boutique shops.I went on a shopping spree here last winter and I am due for a return visit to get Spring/early Summer outfits. \\\\xa0I appreciate the email update on new arrivals. \\\\xa0Looking forward to my next visit!\", \\'I seriously love this place!Every time I get brunch with my friends at Qs, we always stop by Kisha after, and every time I go there, I end up buying something. The past two times I bought earrings and they are very unique. At first I was a bit hesitant. I have to buy coated earrings because my ears are sensitive to the cheap metals used on certain earrings. This was not the case at Kisha! I recently wore yellow gold (not real gold) earrings I bought from Kisha (shape of a lock with a heart shaped hole in it -- kinda like a keyhole to the lock) and my boyfriend kept staring at me during dinner one night. I finally got irritated and said \"What!\" his response \"those earrings look beautiful on you.\" I smiled and I think I blushed a little. I will definitely come here again and again to find more unique jewelry and clothes from Kisha!\\', \"I heart Kisha Studio. I\\'ve been meaning to go check them out for some time but it is a little bit out of the way for me since I don\\'t live in the city and parking can be a B. I managed to find some time and went to look for a gift for my friend and also for me. I had previously contacted Cindy, one of the owners, via Facebook about some items I was interested in, and she had remembered me when I got to the store and showed me the items I had asked her about.They have a lot of cute stuff, mainly tops and dresses. A lot of their dresses are a bit on the smaller size, meaning they are cut more for the petite Asians. I drool over their dresses but I can\\'t wear them to work because they are a bit short and since I am a mom now, wearing short skirts/dresses can be a bit inconvenient with a toddler. Nevertheless, I found a dress that was doable for work and it was on sale for 30% off, last one in my size!They have a ton of cute tops but I didn\\'t get any for myself since I was over my budget these past few months. Most of their tops are in the high $30\\'s range, which is not ridiculous but can be taxing to my budget. I love love love their accessories. They are super affordable!Nevertheless, Cindy offered me exceptional service. She even offered me tea!!!! Mind you, I came looking semi-bummish without fixing my face or hair. I stalk Kisha Studio on FB daily, waiting for Cindy to post new arrivals and post items on sale. If you like an item, you can message or comment to her on FB and she will set them aside for you. Looks like I will be doing some Christmas shopping there.\", \\'I have yet to visit the boutique, but I have had such great experiences with online ordering. I follow them on instagram. Their clothes are AMAZING. I have been searching for a store that had pieces that were my style. Kisha is it. So everytime I see something I like, i send them a direct message on instagram. Then they send an invoice via paypal/email. Its such an easy process. And they ship fast!! Cindy has taken care of my past few orders she is amazing!! Excellent customer service. I would buy from them again and again.\\', \"I love this neighborhood boutique. The owner, Cindy, is absolutely pleasant, sweet, and helpful. She makes the visit incredibly personable. All the clothes are extremely affordable and very trendy. You can get the current look for super reasonable price. I always get so many compliments when I wear items from this boutique. I couldn\\'t ask for a better place to shop. Plus, it\\'s a local business. So I hope all the girls make the time to get out to Kisha Studio!!Thank you Cindy!!\", \"Been coming here since it opened at it\\'s original location. Pretty much everything I wear is from here! \\\\xa0Clothes are way too cute and it\\'s hard to say no to Cindy, haha... But in all seriousness, super cute clothes and reasonable prices in good company. Check them out on facebook too for easy online shopping and holds.\", \"One of my friends recommended this boutique to me and when I finally went in I was not disappointed. Cindy has excellent customer service and is extremely accommodating. Oh and if you are looking for a pair of great fitting skinny jeans she\\'s got them!\", \"Thank you Facebook for bringing Kisha Studio and I together. \\\\xa0I have a new guilty weekly pleasure (I hope the husband isn\\'t reading this!). \\\\xa0 My girlfriend Dessa R posted some pictures of items she was getting from Kisha, and then when I looked them up on Facebook, I found out that they were super close to me, and right across from my acupuncture studio. \\\\xa0I went one time, and then I was hooked.I wait every week, like a girl waiting for a boy to call, for Cindy and Kisha Studio to post pictures of the new items that came in that week! \\\\xa0Then I LIKE the items that I want, Cindy pulls them aside and I get there when I can and try them on! \\\\xa0And usually I leave with other items too. \\\\xa0Cindy is great at stocking the store with items that are fashionable but leave room in your checking account for other things (like mortgages, groceries and gas).......She also is great at pointing out stuff to you that you may not have considered!Love this place!\", \\'Heart this place! Cindy is always super friendly and excellent in her recommendations. I went in with little to no idea of what I want and she recommended 3 cute outfits!I am always supportive of local stores!!!\\', \"I LOVE, LOVE, LOVE Kisha Studio! \\\\xa0The owner, Cindy is A-M-A-Z-I-N-G. \\\\xa0She\\'s the sweetest person ever, is SO fashionable, and provides excellent customer service (better than Nordstrom, I swear). \\\\xa0Also, the clothes and jewelry selection at Kisha are phenomenal!!! \\\\xa0All items are one-of-a-kind, stylish, and the best part....very affordable! \\\\xa0Insider tip: Kisha Studio gets new clothes every week (usually on Thursday). \\\\xa0Go to the Kisha Studio Facebook page to see ALL the new arrivals. \\\\xa0Happy shopping!\", \"Kisha Studio\\'s is one of my favorite places to buy dresses. They are not overpriced, offers a good selection for the size of the store, and the people that work here are so incredibly nice and friendly. The owner is especially great because she\\'s helpful and just darling.\", \"Your trust is our top concern, so businesses can\\'t pay to alter or remove their reviews. Learn more.\", \\'Start your review of Kisha Studio Fashion Boutique.\\', \"Great boutique with great staff! I got the cutest dress here and I didn\\'t even have to look for it, just said what I was looking for and it\\'s like the girl that was working and I were on the same brainwave. She brought out exactly the dress I was looking for.\", \\'So cute! And so reasonable! I compare this place with Ambiance price wise and clothes selection. \\\\xa0Not as vast of a selection, but definitely everything is super cute.\\', \\'Great little neighborhood shop. \\\\xa0Always greeted with a friendly smile. \\\\xa0They offer trendy clothing for women at really affordable prices. \\\\xa0They post their new offerings on Facebook and will reserve an item for you based on your comment; great little addition to customer service!\\', \"I had to go to yelp to write my positive experience, especially for my girlfriend..This is local butique shop with great selection, I guess girls just love it! Good place to get your gf Bday gift or shopping experience. Lots of fashion you can\\'t find in regular stores! Each fashion is unique and they can customize as well. The owner was there, very helpful, friendly and attentive, will definitely be back for other shopping!thanks for great experience!\", \\'I was driving down Clement Street and spied an awesome fuscia dress that was on display in front of Kisha studio. I didn\\\\\\'t have time to stop by so called them to see if they were going to be open on NYE. They said yes and that they were having a 10% off sale on dresses for NYE. Awesome. I went in and wandered around looking at different pieces. Not a lot of sizes but that is because each piece is uniquely chosen by the owner. I found the fuscia dress that I saw and when I read the tag, I sulked as it read \"medium\" as even an \"xsmall\" doesn\\\\\\'t fit me. The owner told me that the sizes run small and that I should just try it on to see what it looks like. I tried it on and to my surprise, it fit beautifully!\\', \"I was pleasantly surprised to discover this little cute boutique among the plethora of businesses on clement street.I stopped in last week and I\\'m happy I did. The friendly girl at the counter told me that their jewelry is made by local artists, as she saw me scoping out the array of semi-precious stone jewelry. I ended up buying a silver-plated agate necklace for $25 dollars that caught my eye on a whim---and I\\'m happy I did. Check it out!\", \"LOVVVVVE this place. They are lifesavers. LIFESAVERS. Seriously. Two days before prom I hit this place and got THE dress. For such a reasonable price too. I had done NO prom shopping whatsoever prior to this so it was really down to the wire -- I was counting on this store to have SOMETHING and they did! I\\'d definitely come back here if I had the time! The owners are soo friendly and helpful!\", \"I\\'ve never (NEVER) written a Yelp review before, although I rely on it when choosing restaurants, looking for new boutiques, etc. After shopping at Kisha Studio today, I just had to write my first review.I happened upon Kisha Studio while having coffee with a friend just down the street. We decided to pop in and check it out, and ended up spending the entire afternoon trying on (and subsequently buying) practically everything in the store.One of the owners (Lin) actually gave my friend and I 5% off our total purchase, plus a free necklace, to make up for the fact that we got a parking ticket while shopping. How amazing is that? She also helped us find dresses that flattered us and fit our own personal styles, without being pushy.Bottom line: beautiful, unique, high-quality clothing, very affordable prices (I\\'m on a public school teacher\\'s budget!), and the best customer service I\\'ve ever had on a shopping trip. I will be back here again and again.\", \\'I have been here twice to shop and fell in love. I had seen it a few times and thought since it was a boutique that it would be super pricey. WRONG. Some dresses and such are in the 50 range, but there are quality garments. I just got a printed dress, ring and earrings for 50 all together.Plus the sales women are really accommodating and nice!They set up a dressing room for you and offer you water or coffee. Like the selection a lot, they have modern pieces and a good place for a night out dress.Very pleasant shopping experience every time I go here!!\\', \"Love this place. I love that I don\\'t have to dig and dig to find something nice. It\\'s well curated and all the pieces are interesting and stylish. I get comments on my clothes from here all the time. They keep asking me where I shop. So glad I don\\'t have to go wading through huge stores and huge crowds for hours and coming out with nothing. They are really nice here and let you look around without being pushy. I know I can go in, look around, want to try on everything, and come out with a great new statement piece without paying through the nose. Seedstore is right next door and the clothes there are cute too, but almost 10 times the price. Kisha has more style, in my opinion, and the price is SOO right. If I could I would be there all the time, but it takes a lot of self control to not stop in all the time. But I totally recommend you go there! Inventory change all the time, so you will always find something new. Plus you can facebook them to save a piece in your size when they put up new pics of clothes that have come in.Check it out!\", \"It\\'s been almost five years since my last review and my opinion of Kisha Studio still has not changed! I love every single outfit I get from here. And Cindy is just as great! She always gives the best shopping advice :)\", \"Kisha Studio is by far my favorite place to shop in SF. \\\\xa0The service is always top-notch, and the clothing & accessories are so stylish. \\\\xa0Cindy, the owner, really knows fashion and she makes great recommendations... just let her know of the occassion, and she will find the right dress/outfit for you!the new location, on 3rd Avenue & Clement, is great. \\\\xa0it\\'s super easy to get to by bus.\", \\'I was there after they only opened for 2 weeks. I think it was Lin that helped me out, but I just looked inside and came out with a black top and a creme 3/4 quarter sleeve jacket! As a promotion, she also gave me a pair of semi-long black earrings~ I still wear all 3 today, a year later!Service: GREAT!Quality: clothes are still great after a year of washing!If this boutique was in LA, this would be my one time stop for most of my tops and dresses! This is def. a stop when visiting San Fran!\\', \"Me and my best friend found this place by accident when we were finding a place to get our nails done. My friend loved the dress that was displayed on the mannequin outside, so we went inside to check it out. The owner, Cindy, is so sweet. She offered both of us Champagne and she even suggested a nail place.The clothes in this boutique is very cute. They have clothes for all occasions and at reasonable prices. I especially like their accessories! I\\'ve bought 3 pairs of earrings, a necklace, and a clutch purse from there after that first time.If you want clothes that\\'s one-of-a-kind, then Kisha\\'s is recommended.\", \"PLEASE don\\'t let the economy take this away from me. \\\\xa0I\\'m sorry I have no money right now to buy new dresses or I promise, I\\'d be getting them here.Thank you for opening a decent boutique in the inner Richmond. \\\\xa0Quality clothing. \\\\xa0YES. \\\\xa0No more Ross!Thank you for being 1 block away from my parents\\' house. \\\\xa0Extremely convenient.Beautiful, original designs and frequent sales. \\\\xa0Scarves and purses, too? \\\\xa0You\\'ve gotta be kidding me. \\\\xa0This place is a GEM (a word I got from yelping and the first time I\\'ve actually used it).One time, I bought 2 silk dresses and got a silk scarf of my choosing for free. \\\\xa0LOVES IT\", \"Went to check out the grand opening this weekend. Cute little boutique store featuring the owners\\' unique designs, as well as pieces from other brands. Styles range from cutesy to chic - reminded me a bit of the Mango store, for some reason. For some good deals, there\\'s a sale row in the back.\", \\'Yay! \\\\xa0I\\\\\\'m a fan. \\\\xa0Of their stretchy bra tops. \\\\xa0Good quality and not crappily made. \\\\xa0The sales lady was really friendly, too. \\\\xa0I\\\\\\'m not back into \"dressing up to party\" mode yet, but when and if I am, I will return to check out some of their dresses. \\\\xa0The prices are affordable. \\\\xa0You can pick up a dress for $45.\\', \"Lin and Cindy are the nicest people. They are down-to-earth, have keen eyes, and have a great sense for people\\'s body types and fashion preferences. Even still, they also help make shopping fun by suggesting you try on things you normally wouldn\\'t, just for fun. Usually those end up being the greatest finds in the store. They carry clothing from different designers and I usually find one that really works for someone my height, size, and body type.Their clothing ranges from dressed-up knock-your-socks off sexy, \\\\xa0to a relaxed Sunday outing. They have quick inventory turnover so there is always something new, but it sure goes quick!I always find something I like at Kisha. That, combined with their superior and friendly service, very reasonable prices, and occasional minor alterations are why I continue buying from Kisha!!\", \\'I once joked that I could pretty much live my entire life (minus work) within a 5-block radius of my house. That\\\\\\'s what\\\\\\'s so great about the Inner Richmond -- tons of restaurants, grocery stores, dry cleaners, walgreens, cafes, nail places, pilates, jewelry shop ... all of the girly essentials except for a boutique. That is, until Kisha Studio opened a couple years ago.The two owners are very kind, not pushy and helpful. All of the clothes seem to come from Asia, so they\\\\\\'re often not the best quality but on-trend (borderline a little fobby). Personally, I like it. It\\\\\\'s similar to what you\\\\\\'ll at Forever 21 -- a lot of \"going out\" dresses and flirty tops, plus a few cardi-sweaters and coats thrown in. It\\\\\\'s definitely a girly-girl shop. I\\\\\\'ve bought a few dresses here, mostly in a last minute panic after I\\\\\\'ve taking a glance through my closest pre-Saturday night. I\\\\\\'ve been happy with my purchases... dresses can be found for around $45 at the low end. If you live within the 5-block radius, definitely stop by and take a look!\\', \"I went into the store during grand opening. I saw this red coat... and thought to myself, that looks so similar to the Kate spade coat i have been eying for months! Kate Spade coat was 450$ and the red coat i got from Kisha was 60$. you do the math. I get compliments ALL the time when i wear it. Cindy, the owner was super great. She told me if i didn\\'t think it fit right, i can always exchange it for something else. I saw other cute things, but I have so much clothing. So I walked out with only one item. ONLY because I told myself I wasn\\'t going to buy anything else! Trust me. When it comes to fashion, I know what I am talking about. almost every piece of clothing I wear, handbag I carry, shoes I put on, I get compliments. Kisha Studio has some pretty awesome stuff.\", \"I love clothes, but honestly, I don\\'t love shopping. It always seems like a major production to get downtown or worse, the mall. Wouldn\\'t it be great if I could find adorable clothes in my own neighborhood? Wait, I can!I walked by Kisha Studio a bunch of times before I ever went in. Damn, I wish I had known what I was missing! This store is awesome. First off, there\\'s a level of customer service you usually have to go to high end department stores to get. The owner really knows her inventory and is great about making suggestions for each customer. Second, the clothes are really cute and on trend. And, third, everything is really reasonably priced. You get boutique style at Target prices.The stock in this store turns over really quickly, so you\\'ll always find something new.LOVE this store.\", \"Your trust is our top concern, so businesses can\\'t pay to alter or remove their reviews. Learn more.\", \\'Start your review of Kisha Studio Fashion Boutique.\\', \"I discovered this store when I was exploring the area with a friend that just moved into an apartment nearby. Let me tell you, checking this place out was one of the best decisions I have made over the last 2 years.This place carries a lot of great clothes at affordable prices. I haven\\'t ever walked in this place without buying anything. I\\'ve gotten 3 dresses from here and have gotten compliments on all of them. The owner and people that work here are awesome. They always bring you different sizes, other options and give their opinions which can be helpful. They are also constantly getting new things. The only downside is that they generally have 1-2 pieces in each size.Overall, if you are in the area, definitely check this place out. It is awesome.\", \"Kisha Studio is my favorite boutique! Cindy is the best!! I\\'ve been shopping here for over 2 years and I love all the cute clothes she carries in her shop. I never leave empty handed when I\\'m there. Couple months ago I was there at least once a week!! I can\\'t wait to wear all the new clothes I bought today. Thank you Cindy!!\", \\'On a random outing to SF, I wandered by this cute boutique and had to take a quick peek. I ended up buying a cozy and stylish jacket at a very reasonable price! Unlike most boutiques, Kisha offered a variety of hip, feminine pieces that the every day woman can afford.To top it off, the owner was very helpful and sweet. Great customer service and attention! She even offered us tea when we stepped in. FYI: She also alters clothing to fit the customers needs.\\', \"What the heck do I know about buying women\\'s clothes? Not much. Thankfully, I had my friend Ji to help me pick out a present for my girlfriend. She grabbed a dress off the rack that I just did not understand, but the price was right, and Cindy, the owner, was super nice and assuring that if my girlfriend didn\\'t like it or it didn\\'t fit that we could exchange it and find something she would like. My personal shopper seemed to agree (she bought a red/pink trench coat that she said she\\'d seen a designer-version of for hundreds of dollars, but paid $60 for at Kisha). At any rate, I got the dress home to my girlfriend and she loved it, and wore it that night to a wedding we were going to. And since then she has worn it a few times. So thanks to my shopping consultant Ji and thanks to Cindy and Kisha for helping me get my girlfriend an awesome dress that she thinks I spent way more money on than I did!\", \"When I lived in the Inner Richmond, what was lacking in the neighborhood was a women\\'s clothing shop that sold fashionable, affordable, youthful clothing. There were some boutiques around the area which met one or two of those criteria but not all of them. This is clearly not a problem anymore, since Kisha\\'s has been open for well over a year and appears to be doing very well, with good reason! I walked in here for the first time last month, without the recommendation of Yelp, believe it or not (it\\'s a rarity these days). I was pleasantly surprised not only with the clothing selection, but also the customer service. The salesperson greeted me warmly, offered me a cup of water, and briefly told me about the sale going on. The set-up of the store is really nice... there\\'s just enough merchandise on the floor so that you feel like you have a lot of stuff to look at without being overwhelmed. Not everything is super cheap, but many things are within reach. I came in hoping to find something to wear out to the clubs in Vegas with my friends, and was lucky to find a selection of sexy dresses near the back. I walked out with a cute purple strapless, more or less what I was looking for. The girl threw in a fun but cheap pair of earrings with my purchase (they broke the second I took them out of the bag at home). I guess they were free after all.My second visit to the store was not as fruitful as the first, but there was still a wide variety of cute clothing in a range of prices. Overall, a very pleasant place to shop on Clement.\", \"Kisha Studio is a tiny boutique clothing store, and I definitely recommend that you stop by if you\\'re in the area. \\\\xa0It\\'s full of really cute dresses with a bit of flair, and I personally can\\'t get enough of them!The owner, Lin, is really friendly and helpful. \\\\xa0I felt like she was more of shopping buddy than a store manager, and she\\'s super nice.I think the clothes are pretty reasonably priced, especially for a small boutique. \\\\xa0The dresses I tried on ranged from about $50-60, and I happened to stop by on a day where I didn\\'t have to pay the sales tax. \\\\xa0She even gave me a pair of earrings with my purchase, as well as a convenient tote bag. \\\\xa0Thanks, Lin!I asked her about their collection at Kisha, and she said that they basically just stock the store with clothes that they would wear. \\\\xa0This boutique is full of unique and fun dresses, and I have a feeling it\\'s going to be one of those places I\\'ll never leave empty-handed.\", \"I LOVE LOVE LOVE this boutique!!! I found it this past summer and just can\\'t get enough of it: amazing customer service, super friendly and laid-back, great styling suggestions, chic and stylish clothes and accessories. New pieces come into the store every week and they just carry a small batch of sizes for each item, so if you love something you need to get it right away, but that means you don\\'t need to worry about running into someone else with the same outfit. They\\'re super active on Facebook uploading pictures and sometimes even videos to show how something fits/flows/moves -- it\\'s like daily eye candy, plus you can request (on fb!) to put something on hold if they have your size! And they just keep getting better over time, they can do FaceTime shopping/consultations (!!!), they just added a loyalty points program , they do promos pretty often and they can even ship internationally! I feel like every time I\\'ve shopped with them there\\'s been some extra surprise like a discount or freebie (leggings, stockings, basic shirt, an accessory). I just can\\'t say enough good things, this place is awesome!!!\", \"LOVE this place! \\\\xa0And love Cindy, the owner. \\\\xa0She even made my boyfriend happy! \\\\xa0And that\\'s rough to do when he\\'s forced to watch me try on clothes! \\\\xa0:)\", \"Cute clothing at a somewhat reasonable price. \\\\xa0I stop in every now and then, the woman who owns it is absolutely great. \\\\xa0She\\'s very sweet and always has a smile, but doesn\\'t try to push anything on you. \\\\xa0Felt extremely comfortable and even bought a couple things.. will definitely be back again soon!\", \"I stopped in on my way home the other night and can\\'t wait to go back and spend the paycheck I get tomorrow :)Very cute designs and the owners seem very helpful in picking out some things for you to try on. It\\'s great to have this as a new addition to the neighborhood!\", \"I had a great time doing an event on hair styling a couple of weeks ago at Kisha Studio. Cindy the owner is fantastic. She\\'s so friendly and sweet. I love how she greets guest by their first name. The selection of clothing is excellent, lot of variety and the price point was reasonable. I will definitely come again and often!\", \"Kisha studios is one of my go to stores when I am holiday shopping. The owner Cindy is extremely friendly and has a wonderful staff. Everything in the store is handpicked by Cindy and I always find something I want when I go in there. There is a great selection of dresses, outerwear, and accessories. I once bought a zip up jacket from Kisha and after about a month the zipper broke. I didn\\'t take it back to the store for a few months after that. Cindy was extremely helpful. She tried to see if she could order a new jacket, when that didn\\'t work out she recommended a place where I could get the zipper fixed and she gave me store credit to cover the expense. My jacket is even better than when I first bought i\", \"Kisha has become my go-to store for nearly all occasions! I come here for work clothing, casual tops, coats, skinny jeans, sexy going-out dresses, formal evening wear, jewelry, hand bags... I think that covers pretty much every girl\\'s needs! What\\'s awesome is that you can always expect new items on a weekly basis which keeps me coming back for more. And of course, this is Not one of those shi shi places that over charges.On top of all the great clothing selection and price, is the owner, Cindy. She is the sweetest person on earth! She has a great sense of style, always recommends the right choices, and is never pushy. The shopping environment is so stress free, which I really appreciate. I usually try out a ton of stuff, but she doesn\\'t mind and is helpful whenever I need her. She has altered belts and dresses for me just so I\\'m 100% happy with the final purchase. Bottom line, come to this store and you won\\'t be disappointed, and be sure to check back often, you never know what gems you\\'ll find!\", \"I learned about Kisha Studio from a friend when I met up with her at this cute clothing boutique. \\\\xa0Upon arrival, I was warmly greeted by Cindy and was immediately enthralled by all the cute dresses on the racks and all sorts of accessories \\\\xa0-earrings, necklaces, belts- \\\\xa0on display. Cindy (who also became one of my makeup clients!) is SUPER friendly and helpful and she makes you just want to shop! I didn\\'t intend on getting anything, but I ended up buying a SUPER cute (very unique) dress because I couldn\\'t pass it up. The prices are also very reasonable. I think my dress was around $50 which is about the same price as dresses you can find at H&M or Zara but it has a special one of a kind feel to it. I\\'m definitely \\\\xa0returning and bringing my friends!\", \\'I love this place. I found this place on facebook over a year ago and have been a loyal customer ever since. Great clothes and Excellent service.\\', \"I stumbled upon this place after running an errand in the neighborhood. Loved the fashion, and what really made it a hit, was the fact the lady that worked there was so sweet and so helpful. She brought things to my attention, such as sales, and other cute dresses that really made her personal touch a great shopping experience. I\\'m def gonna go back to this place. I came out with two dresses and a tank top. The prices were reasonable (I bought stuff from the half off rack) and the selection was great!\", \"The day of my birthday party and I had nothing to wear! CRISIS!!! I quickly yelped and came across Kisha. As I only had a few hours before I had to get ready I didn\\'t have too much time to shop around. Probably the biggest plus for Kisha for me was the website. They show what dresses they have in store. This made it infinitely easier for me as I kinda new what I would see upon arrival.Parking was fairly easy although we did go in the middle of the day on Friday. My boyfriend and I were warmly greeted. The store is small so it didn\\'t take long to see all of the options (I was pleasantly surprised to see that the dresses on the website were the same in the store). After choosing 6 dresses with alot of great help I decided on one. Since then I\\'ve worn the dress twice and received great comments each time. I bought my birthday dress from here. It was about 80 bucks and since my bday, I\\'ve worn it twice. I love it. The color was gorgeous and the fit was nice. My decision was great and made within a half hour (quite a feat for the day of my brithday)! I strongly recommend going if you\\'re trying to find a chic, trendy dress for an event. Keep in mind most of the clothes were from 25-100. They had some great quality dresses for under 60 bucks!! Most of the styles are for those 35 and under, I would say.\", \"I\\'m such a fan of smaller, more intimate botiques. Cindy is soooooooo nice and although I haven\\'t met the other owner yet, the customer service is phenomenal. The prices are fairly reasonable for such great quality clothes. The clothes are awesome, modern, and saucy for any type of woman! This shop is in the inner richmond district and plenty of parking, away from the downtown hustle-n-bustle. I\\'m a big fan-i will probably shop there at least once or twice a month.\", \"This is the best place to find current trends at good prices. \\\\xa0The owner, Cindy is helpful without being pushy. \\\\xa0Because I\\'m not super young and skinny anymore I didn\\'t think the styles would look right on my 40-something figure! \\\\xa0I was wrong. \\\\xa0The jacket I purchased here makes me look 20 pounds lighter............thank you Kisha!\", \\'I needed a dress for a wedding that I was attending and came across this \\\\xa0wonderful boutique. Cindy helped me pick an amazing dress and got so many compliments at the wedding. Cindy was really nice and helpful. I highly recommend this boutique.\\', \"Your trust is our top concern, so businesses can\\'t pay to alter or remove their reviews. Learn more.\", \\'Start your review of Kisha Studio Fashion Boutique.\\', \"I normally don\\'t write reviews (can you tell?) but I had to come and write one because I got so many compliments on my pea coat that I bought from there that I feel obliged to. Haha. I was a little skeptical at first of a boutique that sold cheap pea coats (at least half the cost of stuff I\\'ve found elsewhere!) but I liked the cut & color so I tried it out. Now I\\'m wearing it in Boston where it\\'s 40 degrees and the wool is keeping me warm! Yay! Not to mention that the petite cut is so hard to find! Needless to say, I love my pea coat!\", \"What can I say, I love Cindy!!! She is the sweetest person and helpful without being pushy. Nt to mention, the nicest business owner I\\'ve ever met. Cindy\\'s clothing selection is vass. She has a little something for everyone. She\\'s always a pleasure. Plus, my dog LOVES her!! :-)\", \\'GREAT Boutique, GREAT \\\\xa0service & GREAT \\\\xa0clothing line.....If you\\\\\\'r looking for unique,different and adorable dresses...this is the place to go. I found this boutique 2 years ago when i was walking back to my car after i had my hair done for an a very special \\\\xa0party and \\\\xa0 wondering what to wear... and \\\\xa0then by accident I was in front of the \"Kisha\\\\\\'s Studio\" What a great accident.......I got my perfect dress and I have been a happy customer since then:)\\', \"Cute little boutique with one of a kind ensembles, relaxing, casual environment. The owners go out of their way helping the customers with outfit selection. Prices are very reasonable. Perfect stop over when you\\'re dining on Clement street.\", \"I took my girlfriend here and regretted it. \\\\xa0The store is really nice, the owners did a great job renovating it. \\\\xa0They even had two convenient parking spots for customers which is a gold mine for the area. \\\\xa0I\\'m not too sure about prices, we bought a lot and seemed relatively cheap. \\\\xa0Really friendly atmosphere.\", \"I spotted this store while walking on Clement . There was a cute top and dress but unfortunately , they were too big ! The rest of the clothing was just not very appealing . I only ended up getting one top , one necklace and a cute pair of earrings . After I left the store , I realized that one of the strings used to tie the shirt was already broken when I bought it ( I didn\\'t break it , I bought it that way ) . I guess it comes to show me that I should check my clothes for defects before I buy them . Overall , this a cute little store where you may or may not find a cute thing or two for a decent price which wont break your bank . Oh , and I was surprised to find that this store had been open for 2 years but recently just moved to this location like about a week ago .\", \\'This was the one place I bought the most things when I went up to SF! It\\\\\\'s such a cute store with a variety of items, from day-wear to night-wear. There\\\\\\'s always new items coming in, so it\\\\\\'s a great place to keep up with the fashion trend. I definitely recommend this boutique to all those who are looking for something \"special\"!I can\\\\\\'t wait to stop by the boutique again on my next trip to SF! I enjoy browsing the website as well because there\\\\\\'s always an occasion to buy something.\\', \\'This place is great. \\\\xa0The proprietors are very friendly and helpful, and you can pick up original designs for very reasonable prices. \\\\xa0I bought a periwinkle dress and I get compliments every time I wear it.\\', \"I love shopping at this boutique. \\\\xa0They always have cute clothes at affordable prices. \\\\xa0The owner Cindy is amazing. \\\\xa0She\\'s so sweet, helpful and accommodating. \\\\xa0If you can\\'t make it to the store right away, she\\'ll hold the item for you in your size for a few days. \\\\xa0It\\'s always an enjoyable experience shopping here!\", \\'I love this store! Cindy, the owner, is so super lovely and sweet. She gives great advice about fashion, and everything else. I love to go in for beautiful clothes and friendly conversation. The clothes is great quality, trendy, and cute. You can find an outfit for any occasion at affordable prices. I can never leave without purchasing a few pieces. Great location, too! See you soon, Cindy!\\', \"This place is great and Cindy is amazing! \\\\xa0The items here are cute, on trend, and very reasonably priced and Cindy, the owner, has a great eye and is super willing to make suggestions. \\\\xa0I literally can\\'t walk in without buying something!\", \"LOVE IT! well, although i am a yelp review slacker, i promised myself id write a review for KEISHA because I absolutely love this place..including the clothes, accesories, location and most importantly...the staff. I live literally around the corner and I have popped in here a few times and never left empty handed. Keisha has provided me with a few very important pieces of clothing...my 23rd Golden birthday party dress, my new years dress, and a dress i wore to a friends wedding. Every dress received many compliments. But, the best part about this place in my opinion is the fact that their dresses are unique and usually at a reasonable price. Id much rather pay about 50-60 dollars for a dress than go to the tourist infested Forever 21 and pay 25 bucks for a dress that probably a million girls in SF have. First time I bought a dress, they gave me a free scarf...then when i bought my bday dress the main sales lady (don\\'t know her name but shes sooo nice) gave me a matching necklace as a gift for my birthday. I thought that was very sweet. Point is...this place takes care of their customers and it seems to be working because the locals and regulars keep coming back..i kno i do! THANKS KEISHA :)\", \\'LOVE LOVE LOVE this place! The clothes are so cute and unique. \\\\xa0I have been shopping all over SF and Kisha is definitely the best. \\\\xa0They has affordable AMAZING dresses that no one else has :) Cindy is so friendly and sweet!!! Love this place - i go as often as possible!\\', \"Hands down the best service I have ever got! The lady checked up on me when I was changing; she asked if i needed help; she also offered to help hold the straps of a few dresses that were too long for me. The store \\\\xa0had a pretty great selection of dresses, but most of the dresses are skin tight. Also the store doesn\\'t carry much jewelry compared to their website which showed beautiful cocktail rings. The plus size is..if you see something you like on their website you can tell them to order it for you.(:\", \\'What a cute little shop! I stumbled upon this boutique when I was running an errand on Clement and glad I found it. Great selection of affordable dresses, tops,jackets, accessories and more. Good mix of trendy pieces for the season. Cindy was super helpful in finding pieces that worked for me and was willing to switch out belts from other dresses to make the outfit I wanted work. She even altered the straps of a dress I tried on that were too long, while I waited (in less than 5 min i must mention) and for free! Great experience and look forward to going back.\\', \"Just got back from my first shopping experience at Kisha and let me tell you ladies, I had a blast! Cindy, the owner, is a doll and she helped me put together a couple of cute outfits. She genuinely seemed to have as much fun as I did! She\\'s reallly good at figuring out what looks good on you without being judgmental and has some great suggestions. They have some really fun, stylish and affordable clothes. I will definitely be back. It\\'s so nice to have a friendly clothing store in the hood if you don\\'t want to shlep downtown. I will say, though, if you are a full figured woman, this may not be the place to go. Sizes run on the smaller side but some of the loose tops look pretty roomy. I highly recommend Kisha for a fun shopping outing. Cindy rocks!!\", \"Three words: A. MAZ. ING.i LOVE LOVE LOVE this store! \\\\xa0i\\'ve actually been shopping here since it first opened, and at this point i think about 90% of my dresses are from kisha.ABOUT CINDY: cindy, the owner, is so sweet...it\\'s almost like hanging out at a girlfriend\\'s house, going through her (well-stocked) closet and playing dress-up. \\\\xa0since she does all the ordering, cindy is very well acquainted with everything in the store. \\\\xa0she\\'ll make suggestions about what will look good on you (taking into account your size and figure), but she does it in a way that\\'s not at all pushy! \\\\xa0just friendly...you get the sense that she really does just want you to look good and feel good! \\\\xa0when you try things on, she\\'s honest about what looks best, brings you other sizes and styles, and just generally makes you feel really at ease.ABOUT THE CLOTHES: \\\\xa0i love the fact that she has just a few of each style in each size. \\\\xa0as i said, i\\'ve been shopping there for years, and i\\'ve almost never run into a situation where i wanted something that wasn\\'t carried in my size. \\\\xa0plus, you can literally go in every week and find something new. \\\\xa0the styles are very on trend, very easy to wear. \\\\xa0there\\'s mostly dresses and tops, everything from super casual to hot clubbing to sexy chic. \\\\xa0she\\'s also go cute stuff for work, a great selection of belts, comfy leggings, etc etc etc. \\\\xa0and i love the jewelry!! \\\\xa0my favorite thing, though, is the price. \\\\xa0it\\'s so reasonable! \\\\xa0for a san francisco boutique with unique, hand-selected merchandise, to find the perfect dress for $50 bucks give-or-take is almost unheard of, but here that\\'s just par for the course! \\\\xa0and last time i was there, i practically bought out the store...and cindy threw in my accessories for free! \\\\xa0ABOUT THE LOCATION: \\\\xa0kisha is in an awesome location. \\\\xa0right on clement at third, right next to martha\\'s coffee. \\\\xa0it\\'s easily accessible by bus (right on the #2 bus line, a block from the #38, and no more than three from the #1, #33, and #44), and close to a bunch of great restaurants...a perfect stop while waiting for a table at burma!!! \\\\xa0also, the store just moved from the original location, which was right around the corner...the new place is spacious and classy, and now there\\'s three dressing rooms!anyway. \\\\xa0GO TO KISHA! \\\\xa0i can say enough good things about this store and its proprietor!\", \\'For my first Yelp review I have to pick Kisha Studio- love this place! \\\\xa0Kisha studio is off Clement on 3rd ave and is a must if you are looking for something cute and stylish. \\\\xa0Prices are really reasonable and the owner, Cindy takes the time to actually know the customer and offers some style advice-something I really appreciated! \\\\xa0Otherwise I would have never known what a bolero is! \\\\xa0It takes current hot trends and makes them accessible to the rest of us. \\\\xa0Make sure to stop by if you are in the neighborhood!\\', \\'they have nice jewlery and nice clothes, a bit expensive though and not as many new styles as I would like to see\\']'] \n",
      "\n",
      "Boutique_name: Isalis \n",
      "\n",
      "reviews_summary: ['[\"Your trust is our top concern, so businesses can\\'t pay to alter or remove their reviews. Learn more.\", \\'Start your review of Isalis.\\', \"By far my favorite boutique in SF! I\\'ve been following TopShelf since it was a truck and have bought some of my best pieces here, including a vegan leather jacket that zips up into a big collar, and an Adina Mills ring / wearable art. Today I stopped in on my way to an interview and stumbled into a FANTASTIC sale, a maxi dress, infinity scarf and a hip pair of shades, all for $18! The sales women were super sweet, engaging and made me really feel welcome, like they knew me knew me. I can\\'t wait to go back! Thanks TopShelf for making my day!\", \"OMG Elizabeth! Thank you so much. \\\\xa0This is what it is all about, making women feel like you did. \\\\xa0We really try hard, so it warms my heart to hear that it\\'s working. \\\\xa0Thank you for the review and for being a long time great customer. Come by again soon please, it is a pleasure to help you find amazing clothes :)\", \\'They don\\\\\\'t price match--citing that they\\\\\\'re \"just a small, local company run by women.\" What? There are many companies run in SF owned by women that actually practice competitive pricing on items that are 3+ months old. Also, came to the Post location trying to make an exchange, got there at 1:30, to find that it was closed and would open at 2 because they were \"working on inventory.\" Came back at 2:15, and still no one was there. Unprofessional, no business savvy. Really shouldn\\\\\\'t be typing in all caps when all they do is sell rayon clothes made in China. Unimpressed.\\', \"I don\\'t like giving low rating on a small business since I think we need more of them, but I was not happy with my experience here. When I first tried on the dress I was afraid the dress was too big and wanted some advice but there was no one there to help. I decided to buy the dress despite it being a little too big and told the cashier about the size issue but that I\\'d get it anyways and just come back the next day to return it in case I changed my mind. The cashier said okay. Came back the next day to return it only to find out they only do in store credit and exchange. Really wish the cashier would\\'ve mention this before I purchased it when I said I wanted to take it home and think about it.\", \\'So sorry for this experience. I just send you a direct message about it.\\', \"Isalis has nice clothes, but their customer service needs work. I came in once and bought some items and asked the cashier to apply the Yelp $10 off a purchase of $100+ deal (which is still available right now). The two young women who were managing the store both said that they did not know about this deal. I showed it to them on the Yelp app, and they still insisted that their boss didn\\'t tell them about this and that they could not honor it. Rather than argue about $10, I paid and left. But this store really needs to train their employees better and to keep them updated on any promotions. This was a very poor customer experience and I am unlikely to return.\", \\'Sorry about this Victoria. \\\\xa0It was a deal that we thought expired long ago. \\\\xa0We will definitely work on updating our staff with any new deals that we release.\\', \\'love this store! they always have such cute clothes and all the girls that work there are so nice and helpful!\\', \"My new favorite store! Ditch your StitchFix / Trunk Club and come here. Friendly and welcoming with super sharp/fun/cute clothes at a good price point. I\\'m a tall/athletic build and usually it\\'s a struggle to find clothes that fit - but they have tons of options, across a range of occasions (work, casual, date night). Christina and team will work with you to find what you need. Can\\'t wait to come back!\", \"Natalie, thank you so much for this review! Can\\'t wait to work with you again soon.\", \"I had so much fun discovering this shop. I bought many cute pieces! Christina, one of the shop owners, was very attentive and her fashion sense is amazing! It was one of the best shopping experiences I\\'ve had. Too bad the store is not near me.\", \"Loved styling you too!! I know we aren\\'t close enough, but I see you IG shopping :) Thank you so much for the great review. Too sweet.\", \\'My husband shops here for every occasion. He works nearby and this is his go-to place for gifts for me. I love all the pieces that he picks out (I am sure he gets help) for me. Great, non-traditional items. I must have already 20+ pieces of jewelry from here and this so so cute acrylic clutch. Look forward to the next gift!\\', \\'We love this so much! Tell him to come in again soon :) Thanks for sharing this experience Shannon.\\', \\'Wow, never have had such poor service. I walk in and ask about the material of their jewelry. Each time I tried to ask her a question the sales associate was busy talking to her friend about plans for the weekend. I asked her some information as to if the material would cause my skin to be green and she simply said \"Sorry I\\\\\\'m not a metal expert, but of course don\\\\\\'t wear it in the shower and things like that, every person is different. If you want something else to wear all the time you should go find yourself some 14 karat gold jewelry.\" And while I\\\\\\'m in the middle of a sentence she cuts me off and suddenly decides she\\\\\\'s done helping me and just helps someone else. I\\\\\\'ve never felt like a store treat me like I was beneath them. I guess that\\\\\\'s what they mean by \\\\\\'top shelf life.\\\\\\' Hopefully you don\\\\\\'t get stepped on. On your way off the top shelf life.\\', \\'Cindy, I just wrote you a message. But would also like to apologize publicly. I remember you and remember the ring question. It was a big mistake and misunderstanding on my part, and I am really embarrassed and sad to have made you feel that way.\\', \"This is by far my favorite boutique in the city, they have super cute clothes, GREAT jewelry and accessories and the new location is awesome!! The inventory is amazing, versatile enough for any fashionista and the prices are reasonable so don\\'t worry about breaking the bank. I\\'m fortunate to work in the tower building at Crocker Galleria so I frequent this store and there\\'s always new merchandise. What I love most is there\\'s only a few sizes of each item so you don\\'t have to worry about seeing too many people in your favorite piece. The staff is friendly and very helpful. Do yourself a favor and check em out...you won\\'t be sorry!\", \\'Yay! Thank you thank you so much. \\\\xa0We LOVE having you as a customer. \\\\xa0Thanks for the review and we promise to keep making you and your wardrobe HAPPY. XO.\\', \\'Since day 1 I loved the whole thing about TopShelf Style - great unique styles (bohemian, great prints, basics, and soft cool cuts), great customer service and great price points. Love shopping here and I support a local small business ;)\\', \\'Jules, you are such a sweetheart and soul! Thank you so much for being into us. WE ARE SO INTO YOU TOO :)\\', \"Oh the joy of new discoveries! \\\\xa0I recently started a new job across the street from Crocker Galleria and have been exploring the shops within. \\\\xa0To my delight and my bank accounts dismay, I happened upon this little gem. \\\\xa0The clothes are trendy, classy and modern at reasonable prices. \\\\xa0I purchased a floral romper at their brick and mortar and then because trouble always finds me, I purchased a floral (what?! It\\'s summer time, okay!) dress and necklace when the truck appeared next door to my casa at Jack London Square. \\\\xa0It was meant to be! I definitely have been popping in and out weekly during my lunch hour. \\\\xa0The one issue I have is that besides the owner, who is nice, the rest of the staff don\\'t seem to be too friendly. They appear distant and distracted- almost as if my presence is annoying. \\\\xa0They won\\'t deter me from going in, because I like the pieces too much, but I do wish there were friendlier sales girls.\", \"It\\'s so nice to know that you love to pop in and shop with us, Ronita! Don\\'t worry, you can never have enough floral pieces in the summer! And you have to accessorize, right? Thanks so much for leaving us some feedback here on Yelp, as I really appreciate it. I\\'m sorry if you\\'ve ever felt uncomfortable in the store, and I\\'ll be sure to chat with the team. Sometimes they can get busy and not realize that a guest needs help. I look forward to seeing you sometime soon.All my best,Christina B., Owner\", \"This store has some unique items that will inspire a fashionista to take herself to the next level of cuteness . I love that there are variety pieces to invest in and often I find myself rushing over in between my 15 minute breaks . I love this place so much I send my clients over to check out when they compliment an outfit I\\'m wearing . I love the ambience and not having to deal with a bunch of mall shoppers . This store helps you create your signature . I love the owner and her creative team . I love the story behind it and how she became her own #girlboss of SF .\", \\'Jessica thank you SO much for this review!! You totally get us :) Hope to see more of you very soon.\\', \"A fashion truck? What a cute idea! I found this at the Treasure Island Flea Market and I\\'m so glad I did! Even though the inventory isn\\'t large, most of the items were super cute! Quality over quantity! :) There\\'s jewelry, jackets, tops, shoes, sunglasses, dresses, skirts, and more. There\\'s even a small dressing room for you to try on things. I scored a pair of vintage booties that I\\'m so excited to wear! I definitely would have bought more if I wasn\\'t on a budget. I really loved the jewelry selection and almost bought some. Probably will next time \\'cause I\\'ll definitely come back!\", \"What\\'s not to love? Whoever cultivates the clothing in here is so talented and fashion-forward! \\\\xa0Not only do I get the latest trends for a very affordable price but every time I go in I feel like I have my own personal shopper. \\\\xa0I am always greeted with a smile and well taken care of. \\\\xa0I may need to put my credit cards in ice blocks because of this wonderful boutique.This is hands down one of my favorite boutiques in the city!A littler insider tip....you can reserve items they post on instagram (@topshelfstyle).Love love love!\", \\'Gemma, Thank you so much for loving our little store. \\\\xa0Our Customers are #1 and creating that one on one shopping experience is what we are all about. \\\\xa0Glad to hear you are already following on Social Media! We just implemented our new Loyalty Rewards Program! \\\\xa0I am going to sign you up in the store, but you should download the app for your phone, its kind of AMAZING! (collect rewards is what it is called!) you can also see a video demo for how it works here : collectrewards.com\\', \"This is a gem of a store!Don\\'t let the diminutive size of the boutique fool you; this store is packed with quality style fashion and amazing accessories.I set out on a Thursday afternoon lunch break intending to buy greens at the weekly Farmer\\'s Market that has settled in the Crocker Galleria every week. \\\\xa0However, a dress in a store window caught my eye and I was hooked.This little store is as selective as it is exquisite and has contemporary styles that shouldn\\'t be missed. \\\\xa0The catch?...its affordable! \\\\xa0Yes, believe it or not, I came away with three amazing, one-of-a-kind dresses for less than I spent at Trader Joe\\'s last grocery-getting session. \\\\xa0To add some mystic, I am told that the buyer is uber discerning and has been known to buy only one piece of a particular item at a time; can I hear a cheer for unique?Needless to say, it was one of the best finds I\\'ve had to date in SF and I am thrilled that not only do my newly purchased dresses look stellar, but I have a new boutique in the Financial District to frequent that is convenient, reasonably prices and isn\\'t the tired copy-cat of the mass-purchasing of the big brand stores. \\\\xa0And I don\\'t have to put up with a crowd either! \\\\xa0The service was polite, sincere and appropriate; neither unctuous or pushy in any way. \\\\xa0How refreshing is that?Oh, and btw, the dress I bought and wore to the office the following day received so many compliments that I literally was at my desk giving out the address and directions to the shop to three of my colleagues.Keep up the lovely work!\", \"This is exactly what we set out to do! Thank you so much for your descriptive, amazing review. \\\\xa0We can\\'t wait to see you again, in the store or online :) Big love to you Anjanette. \\\\xa0XOXO.\", \\'I found this place while on my lunch hour in the Financial District. Very cute boutique with a large range of prices for every budget. Owner was very helpful and nice. I will definitely make a point to stop by once in awhile to see the new merchandise.\\', \"Lisa, thank you so much! We are so happy that you love our store. \\\\xa0Lunchtime shopping breaks are the best! We try to get people in and out quickly who are on time crunches. \\\\xa0Also if you ever want to leave your purchases behind to pick up after work that it totally fine. \\\\xa0We have plenty of customers who don\\'t want to go back to work with a shopping bag:) There are still some great deals on the racks left over from our Sample Sale, and in about a week we will have a TON of new merch in, please come by soon. Thanks again for the luv!\", \"Christina\\'s team is killin\\' it! \\\\xa0My go to spot when I need a fresh new outfit for any special event. \\\\xa0Always on point, now, and affordable. Thanks lady!!\", \"MEGAN! We luv you! thank you for the amazing words. \\\\xa0Come in and let\\'s toast to you and an amazing new outfit very soon please! MUAH.\", \"So disappointing. I work in the building and frequent this little store often. \\\\xa0I won\\'t be going back. \\\\xa0Had a very small return on Tuesday that was part of a large sale on the previous Friday. \\\\xa0They wouldn\\'t take it because it was clearance, didn\\'t even offer an exchange. \\\\xa0Considering their price point on most items, you would think they would be more accommodating to a good customer - especially over a $24 sale item. \\\\xa0 \\\\xa0Oh well, it\\'s San Francisco and there are many, many places to shop!\", \"Cheryl, not sure how I missed this one.. I am very sorry that you were so disappointed that it warranted a 1 star review :( \\\\xa0We are a super small business, and don\\'t do sales too often, but when we do it is our policy that items are final sale. I know it\\'s on our receipts as well as posted on the wall. I think I will try to shoot you an email personally to clear this up, our customers are super important to us.\", \"Awesome little boutique full of cute clothes from LA and NY great pieces! Found a few cute things I loved and the prices are very reasonable! Apparently they get new pieces frequently so I can\\'t wait to check in again! Great service too!\", \\'Rita! Thank you so much for loving our store! Last month we moved into a new space on the first floor of the Crocker (not far at all). \\\\xa0But its a bigger and better location for us, please come see the new space soon. \\\\xa0And we appreciate the kind words so much.\\', \"Your trust is our top concern, so businesses can\\'t pay to alter or remove their reviews. Learn more.\", \\'Start your review of Isalis.\\', \"They have a new pop-up shop at the Crocker Galleria in the middle of the financial district for 2 weeks! They\\'ll be there until March 15, 2013. Check it out! Maybe they\\'ll have both a mobile booth and a storefront if they get enough business. Go! I\\'d love to have another place to browse during my lunch hour.\", \"This is the pop-up store for the fashion boutique truck by the same name. They\\'re not sure how long they\\'ll be in the area quite yet, but for sure till March 15. So, drop on by! They\\'re still in the process of situating themselves in the store, it seems, as they don\\'t have an incredibly large amount of product out. But, they do have a large amount of handmade brass jewelry out, and a lot of the items they carry are quite cute and unique. However, if you spot something you like, then be sure to snab it, otherwise, once it\\'s gone, it\\'s gone, as I spoke to the owner, and she likes to keep the inventory small and constantly moving, so she often only buys one of each size of a style, or at most 2. I hope they stay around longer!\", \\'First mobile boutique! (I think). \\\\xa0I saw a write up on this cute truck online and was so excited to give it a peep. \\\\xa0Yes, it does have limited inventory, it is a truck, but the selection is pretty broad and it even has a changing room to try on clothes! \\\\xa0Tops, dresses, jewelry, bags and belts are all carried. \\\\xa0Great service too, the owner (?) helped everyone with a smile and checkout was fast, even with 3 other girls in the truck shopping and trying on clothes. \\\\xa0I say 5-6 people will fit comfortably in the truck, not bad at all! \\\\xa0The ring I bought for my friend as a birthday present was a hit. \\\\xa0Very cute, trendy selection and none of it will break the bank.Oh, they do take Square! \\\\xa0Charge it!\\', \\'Great shop, picked out a vintage necklace for my wife there for xmas present and it was a hit! Even had year it was from on tag. Ladies working shop were super helpful helping me find the right style. Thanks and keep it up!!\\', \\'Jamai! Thank you so much for your review. \\\\xa0We are so happy your wife loved her vintage necklace. \\\\xa0We are suckers for helping male customers pick out gifts! Anytime you need help with a gift idea, we got your back!! XO!\\', \"Love this spot! It\\'s hard in SF to find fun, trendy, cool pieces that are in my price range. I always find something here I love - usually too many things ;) The owner is so \\\\xa0passionate and helpful. If you\\'re looking for unique pieces in the bay area this is your place!\", \"Love love LOVE this place - what a find! I\\'m very petite (5\\'1) so finding dresses can be near impossible at places like nordstrom. I was blown away that I found not one but THREE amazing dresses at perfect lengths, all in a wide range of prices ($65 - $350). The associate was friendly, helpful, and cheerful. Even the cheap clothes don\\'t look cheap. Will definitely be back.\", \"Bernice, thank you for writing this review! We are thrilled that you were able to find great pieces. \\\\xa0Don\\'t be a stranger, and be sure to come back soon. \\\\xa0We will be closing in Jan (9th - 31st) to make some store improvements, \\\\xa0but will be open by appointment during that time and reopening Feb1st with normal hours!! \\\\xa0XO!\", \"I visited this boutique while at the Treasure Island Flea Market and found some great sunnies for an awesome price. They\\'re small so, the sales person doesn\\'t feel the need to supervise or haggle you into purchasing. Very smooth transaction. They had a lot of trendy pieces for sale ranging from xs-l or so. I didn\\'t necessarily find anything in my size, but I value this type of business because of the unique approach to fashion.\", \"Dolores, thank you, kindly, for sharing this last year! I\\'m sorry we\\'re just getting back to you, but we\\'re new to Yelp, and I just wanted to let you know that we appreciate you spreading the word about what we\\'re doing over here. Have you been able to stop in recently? We\\'d love to see you!All the best, Christina B., Owner\", \"I discovered TopShelf a little over a year ago and I have to say, this is hands-down my favorite boutique in San Francisco! Amazing clothes; sometimes I honestly want everything! Their prices are so reasonable, they\\'re exactly what I\\'d expect to be paying for these items-- high quality, super on trend clothes and accessories. I can\\'t tell you how many pieces I have from TopShelf in my wardrobe, but nearly every time I wear one I get a compliment. I used to live in the city and could actually visit the store (it\\'s so cute), but now that I live an hour outside the city, I buy items through their Instagram, which is so easy it\\'s dangerous! Super convenient, and the customer service is so awesome if you ever have a question or a special request about your order. They really do reward their loyal clients as well. Christina and her team are amazing, and I love being able to help support a local store and an inspiring female business owner! TopShelf has also featured pieces from other local gals, such as the gorgeous vintage jewelry from Sweet and Spark, and now I can\\'t get enough of their stuff too! They also bring their clothing truck out to TI Flea which makes for such a fun shopping experience, and have now started doing champagne shopping parties by appointment on Saturdays. So great! Can\\'t say enough good things about TopShelf!\", \\'Stephanie!! Wow, I literally have no words. Everything you mentioned is what we work so so so hard to achieve. \\\\xa0THANK YOU, so very much for loving, understanding, listening and paying attention to what we are doing at TopShelf. \\\\xa0We hope to continue to build and exceed your expectations. \\\\xa0And will you please come down with some friends and see us the next time we have a Saturday Champagne Shopping Party!? Next one will most likely be the Saturday before Mothers Day in May! XOXOXOXOXOXOXO!\\', \\'I found this moving boutique at the Mint Plaza a few months ago, and I thought it was a super creative idea, so I decided to give it a shot. \\\\xa0I found a beautiful dress for $40 and I loved it. \\\\xa0I liked the styles and the prices. \\\\xa0 \\\\xa0I hope to shop there again.\\', \"When I heard there was a pop up clothing boutique in SF, I knew it had to be something special and couldn\\'t wait to see what they had to offer. My expectations were exceeded. I was overwhelmed by how adorable everything in there was, and how helpful the owner (I believe as she was very knowledgable and passionate) was. Now any time I\\'m needing a little pick me up, or a gift for a friend, TopShelf Boutique is my go to spot. If you haven\\'t been yet, you have to check it out. You feel like you\\'re shopping in a a secret, super stylish closet with one of a kind pieces.\", \\'Emma thank you so much for your wonderful review!! That is exactly what we are going for with our business mission, so it makes me SO happy to see its working! \\\\xa0Please follow us on instagram @topshelfstyle to stay in the know with new merchandise updates, flash sales, parties and special events! \\\\xa0Also we are JUST starting a brand new loyalty program called \"Collect\", it is an app you can down load for your phone (collect rewards is what is it called) and you can follow our store and receive points for every dollar spent. With these points you will receive discounts, gifts and many other goodies. \\\\xa0Make sure to sign up the next time you are in our store ok! XO, TopShelf\\']'] \n",
      "\n"
     ]
    }
   ],
   "source": [
    "#get_all_reviews function:\n",
    "'''adds all reviews related to one boutique to a single string '''\n",
    "\n",
    "def get_reviews_summaries(boutique_names, df_reviews):\n",
    "    for boutique in boutique_names:\n",
    "        doc = []\n",
    "        a = df_reviews.loc[df_reviews['boutique_names'] == boutique]\n",
    "        reviews = a['reviews'].tolist()[0]\n",
    "        doc.append(reviews)\n",
    "        print(\"Boutique_name:\", boutique,\"\\n\")\n",
    "        print(\"reviews_summary:\", doc,\"\\n\" )\n",
    "        \n",
    "\n",
    "boutiques =[\"Kisha Studio Fashion Boutique\",\"Isalis\"]\n",
    "df_reviews = pd.read_csv(\"sf_wclothing_boutiques_reviews.csv\")\n",
    "get_reviews_summaries(boutiques, df_reviews)"
   ]
  },
  {
   "cell_type": "markdown",
   "metadata": {},
   "source": [
    "## creating a class to combine below tasks:\n",
    "\n",
    "#### 1-2. clean the string, remove all punctuations and stopwords\n",
    "\n",
    "#### 1-3. create a function to give a matrix of tfidf_scores and vocabulary of terms"
   ]
  },
  {
   "cell_type": "code",
   "execution_count": 81,
   "metadata": {},
   "outputs": [],
   "source": [
    "class review_analysis: \n",
    "    \"\"\"\n",
    "    Review_analysis class contains the text, and word importance of a review.\n",
    "    \"\"\"\n",
    "\n",
    "    def __init__(self, text, boutique_names):\n",
    "        self.text = text\n",
    "        self.boutique_names = [boutique_names]             \n",
    "    \n",
    "    def text_cleaning(self, punctuations):\n",
    "        \"\"\"\n",
    "        This function cleans a block of text.\n",
    "        Input:text = the text to be cleaned.\n",
    "        Output: the text stripped of punctuation and made lowercase.\n",
    "        \"\"\"\n",
    "        text_review = self.text\n",
    "        # u'\\xa0' represents a non-breaking space in the text block that needs to be removed.\n",
    "        \n",
    "        text_review = text_review.replace(u'\\xa0', u' ')\n",
    "\n",
    "        #remove multiple fullstops and make a single fullstop\n",
    "        text_review = re.sub('\\.+', '. ', text_review)\n",
    "\n",
    "        #remove multiple spaces and make a single space.\n",
    "        text_review = re.sub(' +', ' ', text_review)\n",
    "\n",
    "        #remove all tokens that are not alphabetic\n",
    "        text_review = re.sub(r'\\d+', '', text_review)\n",
    "\n",
    "        #normalization\n",
    "        text_review = text_review.lower()\n",
    "\n",
    "        #remove punctuations\n",
    "        #punctuation marks, add . if needs be\n",
    "        #punctuations = '''!()-[]{};:'\"\\,<>/?@#$%^&*_~'''\n",
    "        #traverse the given string and if any punctuation marks occur replace it with null \n",
    "        for i in text_review: \n",
    "            if i in punctuations: \n",
    "                text_review = text_review.replace(i, \"\") \n",
    "\n",
    "        return text_review\n",
    "    \n",
    "\n",
    "    def remove_stopwords(self, stop_words, text):\n",
    "        \"\"\"\n",
    "        This method removes stopwords from the review text.\n",
    "        Input: stopwords = List of stopwords to be removed.\n",
    "        \"\"\"\n",
    "        tokens = word_tokenize(text)\n",
    "        #remove stopwords\n",
    "        tokens = [token for token in tokens if not token in stop_words]\n",
    "        #return the cleaned text in a sentence format.\n",
    "        return ' '.join([''.join(token) for token in tokens])\n",
    "\n",
    "\n",
    "    def split_sentences(self, sentence, formatted_text):\n",
    "        \"\"\"\n",
    "        This method split all sentences of the review text.\n",
    "        Input: text = the text to be splited.\n",
    "        Output: List of sentences derived from text.\n",
    "        \"\"\"\n",
    "        sentences = sent_tokenize(formatted_text)\n",
    "        sentences = [sentence.replace(\".\", \"\") for sentence in sentences]\n",
    "        return sentences\n",
    "    \n",
    "    \n",
    "    #use the sentiment function and returns two properties - polarity and subjectivity.\n",
    "    def review_sentiment(self, clean_text): \n",
    "        text_sentiment= TextBlob(clean_text)\n",
    "        return text_sentiment.sentiment\n",
    "\n",
    "    #def get_tfidf_matrix(self, doc_list, vectorizer):\n",
    " \n",
    "    \n",
    "    def processed_tfidf(self, punctuations, stop_words, sentence, vectorizer):\n",
    "        \n",
    "        text_review = self.text_cleaning(punctuations)\n",
    "        formatted_text = self.remove_stopwords(stop_words, text_review)\n",
    "        sentences = self.split_sentences(sentence, formatted_text)        \n",
    "        doc = vectorizer.fit_transform(sentences)\n",
    "        \n",
    "        return pd.DataFrame(doc.toarray(), columns=vectorizer.get_feature_names(), index=self.boutique_names)\n",
    "    "
   ]
  }
 ],
 "metadata": {
  "kernelspec": {
   "display_name": "Python 3",
   "language": "python",
   "name": "python3"
  },
  "language_info": {
   "codemirror_mode": {
    "name": "ipython",
    "version": 3
   },
   "file_extension": ".py",
   "mimetype": "text/x-python",
   "name": "python",
   "nbconvert_exporter": "python",
   "pygments_lexer": "ipython3",
   "version": "3.7.6"
  }
 },
 "nbformat": 4,
 "nbformat_minor": 4
}
